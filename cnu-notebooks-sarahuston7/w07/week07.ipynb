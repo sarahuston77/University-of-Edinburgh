{
 "cells": [
  {
   "cell_type": "markdown",
   "metadata": {},
   "source": [
    "# Week 7: Numerical differentiation and differential equations\n",
    "\n",
    "Another branch of numerical calculus is the computation of approximations to **derivatives**. This week, we introduce **finite difference** approximations and their order of accuracy to estimate derivatives numerically, and we explore their applications in computing numerical solutions to ordinary differential equations.\n",
    "\n",
    "The best way to learn programming is to write code. Don't hesitate to edit the code in the example cells, or add your own code, to test your understanding. You will find practice exercises throughout the notebook, denoted by 🚩 **Exercise $x$**."
   ]
  },
  {
   "cell_type": "code",
   "execution_count": 2,
   "metadata": {},
   "outputs": [],
   "source": [
    "from show_solutions import show, initialise_path\n",
    "show = initialise_path(show, '../solutions/w07_solutions.md')"
   ]
  },
  {
   "cell_type": "markdown",
   "metadata": {},
   "source": [
    "---\n",
    "### 📚 Book sections\n",
    "\n",
    "- **ASC**: sections 3.2, 7.1\n",
    "- **PCP**: sections 8.1, 8.2\n",
    "\n",
    "---\n",
    "## 1. Finite difference approximations to derivatives\n",
    "\n",
    "Last week, we introduced two different approximations to the first derivative $F'(x)$ of a function $F(x)$: the forward difference $D_1(x)$ and the centred difference $D_C(x)$. Both of these approximations, and many more, can be derived using **Taylor expansion**.\n",
    "\n",
    "As a reminder from your Calculus courses, the Taylor expansion of a *sufficiently regular*$^\\ast$ function $F(x)$ around a point $x = x_0$ is given by\n",
    "\n",
    "$$\n",
    "F(x) = \\sum_{p=0}^\\infty \\frac{(x - x_0)^p}{p!} F^{(p)}(x_0),\n",
    "$$\n",
    "\n",
    "where $F^{(p)}(x_0)$ is the $p$th derivative of $F$ evaluated at $x = x_0$, i.e. $F^{(p)}(x_0) = \\left. \\frac{d^p F}{dx^p}\\right|_{x = x_0}$.\n",
    "\n",
    "---\n",
    "\n",
    "$^\\ast$ Here, *sufficiently regular* or *sufficiently smooth* means that the function is continuously differentiable in a neighbourhood of $x$ at least as many times as is necessary for any required derivatives to be well-defined in that neighbourhood.\n",
    "\n",
    "---\n",
    "\n",
    "### 1.1. Derivation of the forward difference approximation\n",
    "\n",
    "For a sufficiently regular function $F$ and a small enough $\\Delta x$, consider the Taylor expansion of $F(x + \\Delta x)$ about $x$:\n",
    "\n",
    "$$\n",
    "  F \\left( x + \\Delta x \\right) = F \\left( x \\right) + \\Delta x F' \\left( x \\right) + \\frac{\\Delta x^2}{2} F'' \\left( x \\right) + \\frac{\\Delta x^3}{6} F'''\\left(x\\right) + \\dots\n",
    "$$\n",
    "\n",
    "Since we are seeking an approximation to $F'(x)$, we can rearrange the above to make $F'(x)$ the subject:\n",
    "\n",
    "\\begin{align}\n",
    "F'(x) &= \\frac{1}{\\Delta x}\\left( F(x + \\Delta x) - F(x) - \\frac{\\Delta x^2}{2}  F'' \\left( x \\right) - \\frac{\\Delta x^3}{6} F'''\\left(x\\right) - \\dots \\right) \\\\\n",
    "&= \\underbrace{\\frac{F(x + \\Delta x) - F(x)}{\\Delta x}}_{:= D_1(x)} - \\frac{\\Delta x}{2}  F'' \\left( x \\right) - \\frac{\\Delta x^2}{6} F'''\\left(x\\right) - \\dots\n",
    "\\end{align}\n",
    "\n",
    "With this, we have derived our **forward difference** approximation $D_1(x)$ -- for sufficiently small $\\Delta x$, truncating the Taylor series expansion to the 1st Taylor polynomial gives $F'(x) \\approx D_1(x)$.\n",
    "\n",
    "\n",
    "### 1.2. Order of accuracy of a finite difference approximation\n",
    "\n",
    "In fact, the equation above also gives us the **error** between this approximation and the exact derivative:\n",
    "\n",
    "\\begin{equation}\n",
    "  D_1(x) - F' \\left( x \\right)\n",
    "  = \\frac{\\Delta x}{2}  F'' \\left( x \\right) + \\frac{\\Delta x^2}{6} F'''\\left(x\\right) + \\dots\n",
    "\\end{equation}\n",
    "\n",
    "Consider using this approximation to estimate the derivative of $F$ at a given point $x$. The value of $F(x)$ and its derivatives at that point are fixed -- in the expression above, the **accuracy** of the approximation $D_1(x)$ depends entirely on the choice of **step size** $\\Delta x$. The question is now: how does the error increase or decrease depending on the value of $\\Delta x$?\n",
    "\n",
    "Here, for **sufficiently small** $\\Delta x$ (and if $F'' \\left( x \\right) \\ne 0$), the first term on the right-hand side dominates the infinite sum. The error magnitude scales approximately **linearly** with the step size $\\Delta x$. We can write\n",
    "\n",
    "$$\n",
    "D_1(x) - F' \\left( x \\right) = O(\\Delta x).\n",
    "$$\n",
    "\n",
    "That is, for sufficiently small $\\Delta x$, further halving $\\Delta x$ will approximately divide the error magnitude by two. The approximation is said to be **first order accurate**.\n",
    "\n",
    "---\n",
    "### 🚩 Definition: Order of accuracy of finite difference approximations\n",
    "\n",
    "Let $F(x)$ be a sufficiently smooth function, and $D(x)$ be a finite difference approximation of its $m$th derivative $F^{(m)}(x)$, with step size $\\Delta x$. We say that $D(x)$ is **$k$th order accurate** if, for sufficiently small $\\Delta x$,\n",
    "\n",
    "$$\n",
    "D(x) - F^{(m)}(x) = O(\\Delta x^k).\n",
    "$$\n",
    "\n",
    "---\n",
    "🚩 **Exercise 1**\n",
    "\n",
    "Following the same method as above, using the Taylor expansion of $F(x - \\Delta x)$ about $F(x)$, derive the backward difference approximation $D_{-1}(x)$ to the first derivative $F'(x)$, which should take the form\n",
    "\n",
    "$$\n",
    "D_{-1}(x) = \\frac{F(x) - F(x - \\Delta x)}{\\Delta x}.\n",
    "$$\n",
    "\n",
    "What is its order of accuracy?"
   ]
  },
  {
   "cell_type": "markdown",
   "metadata": {},
   "source": [
    "I'm thinking we just flip D(x) - F(x) equation. It should be the same order of accuracy, so first order accurate."
   ]
  },
  {
   "cell_type": "code",
   "execution_count": 3,
   "metadata": {
    "tags": [
     "solution_cell"
    ]
   },
   "outputs": [
    {
     "data": {
      "application/vnd.jupyter.widget-view+json": {
       "model_id": "5a936c3974794e84afdb87d41caa9afa",
       "version_major": 2,
       "version_minor": 0
      },
      "text/plain": [
       "Accordion(children=(Output(layout=Layout(border_bottom='1px solid green', border_left='1px solid green', borde…"
      ]
     },
     "metadata": {},
     "output_type": "display_data"
    }
   ],
   "source": [
    "show('Exercise 1')"
   ]
  },
  {
   "cell_type": "markdown",
   "metadata": {},
   "source": [
    "---\n",
    "🚩 **Exercise 2**\n",
    "\n",
    "Using the Taylor expansions of both $F(x + \\Delta x)$ and $F(x - \\Delta x)$ about $F(x)$, derive the centred difference approximation $D_C(x)$ to the first derivative $F'(x)$ (as seen in the Week 6 notebook), and show that it is second order accurate."
   ]
  },
  {
   "cell_type": "markdown",
   "metadata": {},
   "source": [
    "Centered should just be some average of that. It should be second order accurate because we are bringing in two functions. This is the m piece of the order function.\n",
    "\n",
    "We have\n",
    "\n",
    "\\begin{align} F \\left( x + \\Delta x \\right) &= F \\left( x \\right) + \\Delta x F' \\left( x \\right) + \\frac{\\Delta x^2}{2} F'' \\left( x \\right) + \\frac{\\Delta x^3}{6} F'''\\left(x\\right) + O(\\Delta x^4) \\\\ F \\left( x - \\Delta x \\right) &= F \\left( x \\right) - \\Delta x F' \\left( x \\right) + \\frac{\\Delta x^2}{2} F'' \\left( x \\right) - \\frac{\\Delta x^3}{6} F'''\\left(x\\right) + O(\\Delta x^4) \\end{align}\n",
    "\n",
    "Subtracting the second equation from the first, we obtain\n",
    "\n",
    "$$ F(x + \\Delta x) - F(x - \\Delta x) = 2\\Delta x F'(x) + \\frac{\\Delta x^3}{3} F'''(x) + O(\\Delta x^4) $$\n",
    "\n",
    "Rearranging to get an expression for $F'(x)$,\n",
    "\n",
    "$$ F'(x) = \\frac{F(x + \\Delta x) - F(x - \\Delta x)}{2 \\Delta x} + \\frac{\\Delta x^2}{6} F'''(x) + O(\\Delta x^3) = D_C(x) + O(\\Delta x^2), $$\n",
    "\n",
    "therefore $D_C(x)$ is second order accurate."
   ]
  },
  {
   "cell_type": "code",
   "execution_count": 4,
   "metadata": {
    "tags": [
     "solution_cell"
    ]
   },
   "outputs": [
    {
     "data": {
      "application/vnd.jupyter.widget-view+json": {
       "model_id": "c0b9424fc3484bd192dfca99b6d1617a",
       "version_major": 2,
       "version_minor": 0
      },
      "text/plain": [
       "Accordion(children=(Output(layout=Layout(border_bottom='1px solid green', border_left='1px solid green', borde…"
      ]
     },
     "metadata": {},
     "output_type": "display_data"
    }
   ],
   "source": [
    "show('Exercise 2')"
   ]
  },
  {
   "cell_type": "markdown",
   "metadata": {},
   "source": [
    "---\n",
    "🚩 **Exercise 3**\n",
    "\n",
    "The **forward** difference approximation $D_1(x)$ is *exact* only for a particular set of (continuous) functions -- what are these functions?\n",
    "\n",
    "In other words, find conditions on $F(x)$ such that $\\forall x$ and $\\forall \\Delta x \\neq 0$, we have $D_1(x) - F'(x) = 0$."
   ]
  },
  {
   "cell_type": "markdown",
   "metadata": {},
   "source": [
    "I think they only work for polynomials. This equation says they should only work for funtions that have one deriviative i.e. there is no second, third, forth, etc. derivatives. "
   ]
  },
  {
   "cell_type": "code",
   "execution_count": 5,
   "metadata": {
    "tags": [
     "solution_cell"
    ]
   },
   "outputs": [
    {
     "data": {
      "application/vnd.jupyter.widget-view+json": {
       "model_id": "32ba2a2962aa4d1b8df2d0e144cbc4de",
       "version_major": 2,
       "version_minor": 0
      },
      "text/plain": [
       "Accordion(children=(Output(layout=Layout(border_bottom='1px solid green', border_left='1px solid green', borde…"
      ]
     },
     "metadata": {},
     "output_type": "display_data"
    }
   ],
   "source": [
    "show('Exercise 3')"
   ]
  },
  {
   "cell_type": "markdown",
   "metadata": {},
   "source": [
    "---\n",
    "### 1.3. Numerical investigation of the order of accuracy\n",
    "\n",
    "Similarly to what we did for investigating the degree of precision and rate of convergence of a quadrature rule in Week 6, we can also perform numerical experiments to provide evidence for the order of accuracy of a finite difference approximation.\n",
    "\n",
    "---\n",
    "🚩 **Exercise 4**\n",
    "\n",
    "Consider the function\n",
    "\n",
    "\\begin{equation}\n",
    "  F \\left( x \\right) = e^{-x^2}.\n",
    "\\end{equation}\n",
    "\n",
    "Find the first derivative of $F$, analytically (by hand). Evaluate this derivative at $x = -\\tfrac{1}{2}$.\n",
    "\n",
    "Then, use the backward difference approximation $D_{-1}(x)$ to find approximations for $F' \\left( -\\tfrac{1}{2} \\right)$ for each $\\Delta x \\in \\left\\{ 0.04, 0.02, 0.01, 0.005 \\right\\}$. Plot the magnitude of the error in the derivative approximation against $\\Delta x$.\n",
    "\n",
    "Why do these error values suggest that the backward difference approximation for the derivative is first order accurate? What might you expect to happen if the forward difference approximation were to be replaced with the centred difference approximation?"
   ]
  },
  {
   "cell_type": "code",
   "execution_count": 6,
   "metadata": {},
   "outputs": [
    {
     "data": {
      "text/plain": [
       "[<matplotlib.lines.Line2D at 0x1155ccd90>]"
      ]
     },
     "execution_count": 6,
     "metadata": {},
     "output_type": "execute_result"
    },
    {
     "data": {
      "image/png": "[encoded data removed]",
      "text/plain": [
       "<Figure size 640x480 with 1 Axes>"
      ]
     },
     "metadata": {},
     "output_type": "display_data"
    }
   ],
   "source": [
    "# The first derivative is -2x * e ^ _x^2. At -0.5, the value is e to the - 1/4. \n",
    "import numpy as np\n",
    "import matplotlib.pyplot as plt\n",
    "\n",
    "x = -0.5\n",
    "delta_x = [0.04, 0.02, 0.01, 0.005]\n",
    "\n",
    "def f(x):\n",
    "    return np.exp(-x**2)\n",
    "\n",
    "back_diff: np.ndarray = np.zeros(4)\n",
    "for i, dx in enumerate(delta_x):\n",
    "    back_diff[i] = f(x) - f(x - dx) / dx\n",
    "\n",
    "fig, ax = plt.subplots()\n",
    "ax.plot(np.log(delta_x), np.log(np.abs(back_diff)))\n",
    "\n",
    "# It is first order accurate because there is one function in the given equation for order accurate.\n",
    "# Centered difference approximation is difference because it includes two functions."
   ]
  },
  {
   "cell_type": "code",
   "execution_count": 7,
   "metadata": {
    "tags": [
     "solution_cell"
    ]
   },
   "outputs": [
    {
     "data": {
      "application/vnd.jupyter.widget-view+json": {
       "model_id": "165e69b82f1e40c29e80bdf75404ed9d",
       "version_major": 2,
       "version_minor": 0
      },
      "text/plain": [
       "Accordion(children=(Output(layout=Layout(border_bottom='1px solid green', border_left='1px solid green', borde…"
      ]
     },
     "metadata": {},
     "output_type": "display_data"
    }
   ],
   "source": [
    "show('Exercise 4')"
   ]
  },
  {
   "cell_type": "markdown",
   "metadata": {},
   "source": [
    "---\n",
    "### 1.4. Higher derivatives\n",
    "\n",
    "We now seek a finite difference approximation for the second derivative $F''(x)$. Consider, for instance, the forward difference approximation $D_1(x)$ for $F'(x)$. We have\n",
    "\n",
    "$$\n",
    "F'(x) \\approx D_1(x) = \\frac{F(x + \\Delta x) - F(x)}{\\Delta x}.\n",
    "$$\n",
    "\n",
    "Taking the derivative on both sides allows us to obtain an approximation for $F''(x)$:\n",
    "\n",
    "$$\n",
    "F''(x) \\approx \\frac{F'(x + \\Delta x) - F'(x)}{\\Delta x}.\n",
    "\\qquad \\color{red}{(\\ast)}\n",
    "$$\n",
    "\n",
    "Now, let us use $D_1(x)$ again to approximate $F'(x + \\Delta x)$ and $F'(x)$, using the same step size:\n",
    "\n",
    "$$\n",
    "F''(x) \\approx \\frac{\\frac{F(x + 2\\Delta x) - F(x + \\Delta x)}{\\Delta x} - \\frac{F(x + \\Delta x) - F(x)}{\\Delta x}}{\\Delta x}\n",
    "= \\frac{F(x + 2\\Delta x) - 2F(x + \\Delta x) + F(x)}{\\Delta x^2}\n",
    ":= D^{(2)}_1(x).\n",
    "$$\n",
    "\n",
    "This final expression gives us a forward difference approximation of the second derivative $F''(x)$.\n",
    "\n",
    "---\n",
    "\n",
    "To investigate its **accuracy**, we use the Taylor expansions of $F(x + 2\\Delta x)$ and $F(x + \\Delta x)$ about $F(x)$:\n",
    "\n",
    "\\begin{align}\n",
    "F \\left( x + \\Delta x \\right) &= F \\left( x \\right) + \\Delta x F' \\left( x \\right) + \\frac{\\Delta x^2}{2} F'' \\left( x \\right) + \\frac{\\Delta x^3}{6} F'''\\left(x\\right) + \\dots \\\\\n",
    "F \\left( x + 2\\Delta x \\right) &= F \\left( x \\right) + (2\\Delta x) F' \\left( x \\right) + \\frac{(2\\Delta x)^2}{2} F'' \\left( x \\right) + \\frac{(2\\Delta x)^3}{6} F'''\\left(x\\right) + \\dots\n",
    "\\end{align}\n",
    "\n",
    "Substituting these into $D^{(2)}_1(x)$ to calculate the error, we obtain\n",
    "\n",
    "$$\n",
    "D^{(2)}_1(x) - F''(x)\n",
    "= \\Delta x F'''(x) + \\frac{7\\Delta x^2}{12} F''''(x) + \\dots\n",
    "= O(\\Delta x),\n",
    "$$\n",
    "\n",
    "therefore this approximation is first order accurate. (The detailed derivation will be shown in a video this week.)\n",
    "\n",
    "---\n",
    "🚩 **Exercise 5**\n",
    "\n",
    "Instead of using $D_1(x)$ again to approximate $F'(x + \\Delta x)$ and $F'(x)$ in $\\color{red}{(\\ast)}$, we can use the **backward** difference approximation $D_{-1}(x)$, to obtain a *centred* difference approximation $D^{(2)}_C(x)$ to the *second* derivative $F''(x)$.\n",
    "\n",
    "Derive the expression for $D^{(2)}_C(x)$, and using the same procedure as above, show (analytically) that it is second order accurate."
   ]
  },
  {
   "cell_type": "markdown",
   "metadata": {},
   "source": [
    "I have no idea why anyone would even care to do this. It is second order accurate because there is a 2 up in that position."
   ]
  },
  {
   "cell_type": "markdown",
   "metadata": {},
   "source": [
    "tarting from $$ F''(x) \\approx \\frac{F'(x + \\Delta x) - F'(x)}{\\Delta x}, $$\n",
    "\n",
    "we now use $D_{-1}(x)$ to approximate $F'(x + \\Delta x)$ and $F'(x)$, using the same step size:\n",
    "\n",
    "$$ F''(x) \\approx \\frac{\\frac{F(x + \\Delta x) - F(x + \\Delta x - \\Delta x)}{\\Delta x} - \\frac{F(x) - F(x - \\Delta x)}{\\Delta x}}{\\Delta x} = \\frac{F(x + \\Delta x) - 2F(x) + F(x - \\Delta x)}{\\Delta x^2} := D^{(2)}_C(x). $$\n",
    "\n",
    "This final expression gives us a centred difference approximation of the second derivative $F''(x)$. To investigate its accuracy, we use the Taylor expansions of $F(x + \\Delta x)$ and $F(x - \\Delta x)$ about $F(x)$ (see solution to Exercise 2). Substituting these into $D^{(2)}_C(x)$ to calculate the error, we obtain\n",
    "\n",
    "$$ D^{(2)}_C(x) - F''(x) = \\frac{1}{\\Delta x^2} \\left( \\Delta x^2 F''(x) + O(\\Delta x^4) \\right) = O(\\Delta x^2). $$\n",
    "\n",
    "The terms in odd powers of $\\Delta x$ cancel out, and this approximation is second order accurate."
   ]
  },
  {
   "cell_type": "code",
   "execution_count": 8,
   "metadata": {
    "tags": [
     "solution_cell"
    ]
   },
   "outputs": [
    {
     "data": {
      "application/vnd.jupyter.widget-view+json": {
       "model_id": "cf5505a6266c48e499434465f9d798d8",
       "version_major": 2,
       "version_minor": 0
      },
      "text/plain": [
       "Accordion(children=(Output(layout=Layout(border_bottom='1px solid green', border_left='1px solid green', borde…"
      ]
     },
     "metadata": {},
     "output_type": "display_data"
    }
   ],
   "source": [
    "show('Exercise 5')"
   ]
  },
  {
   "cell_type": "markdown",
   "metadata": {},
   "source": [
    "---\n",
    "🚩 **Exercise 6**\n",
    "\n",
    "Consider, again, the function\n",
    "\n",
    "\\begin{equation}\n",
    "  F \\left( x \\right) = e^{-x^2}.\n",
    "\\end{equation}\n",
    "\n",
    "Find the **second** derivative of $F$, analytically (by hand). Evaluate this second derivative at $x = -\\tfrac{1}{2}$.\n",
    "\n",
    "Then, using the **centred** difference approximation $D^{(2)}_C(x)$ to find approximations for $F'' \\left( -\\tfrac{1}{2} \\right)$ for several carefully chosen values of $\\Delta x$, perform similar numerical experiments as in Exercise 4 to confirm that the order of accuracy of $D^{(2)}_C(x)$ is indeed 2."
   ]
  },
  {
   "cell_type": "code",
   "execution_count": 9,
   "metadata": {},
   "outputs": [
    {
     "data": {
      "image/png": "[encoded data removed]",
      "text/plain": [
       "<Figure size 640x480 with 1 Axes>"
      ]
     },
     "metadata": {},
     "output_type": "display_data"
    }
   ],
   "source": [
    "# The second derivative is -2 * e^-x^2 + 4x^2 * e^ -x^2. At -0.5, this is 2 * e^-0.25. I think.\n",
    "import numpy as np\n",
    "import matplotlib.pyplot as plt\n",
    "\n",
    "x = -0.5\n",
    "delta_x = [0.04, 0.02, 0.01, 0.005]\n",
    "\n",
    "def f(x):\n",
    "    return np.exp(-x**2)\n",
    "\n",
    "\n",
    "def second_derivative_exact(x):\n",
    "    return -2 * np.exp(-x**2) + 4 * x**2 * np.exp(-x**2)\n",
    "\n",
    "# Calculate exact value of the second derivative at x = -0.5\n",
    "exact_value = second_derivative_exact(x)\n",
    "\n",
    "\n",
    "centered_diff: np.ndarray = np.zeros(4)\n",
    "for i, dx in enumerate(delta_x):\n",
    "    centered_diff[i] = (f(x - dx) - 2 * f(x) + f(x + dx)) / dx ** 2\n",
    "\n",
    "# Calculate absolute error\n",
    "absolute_error = np.abs(centered_diff - exact_value)\n",
    "\n",
    "# Plotting\n",
    "fig, ax = plt.subplots()\n",
    "ax.plot(np.log(delta_x), np.log(absolute_error), marker='o', linestyle='-')\n",
    "ax.set_xlabel('log(delta_x)')\n",
    "ax.set_ylabel('log(Absolute Error)')\n",
    "ax.set_title('Log-Log Plot of Absolute Error in Second Derivative Approximation')\n",
    "\n",
    "plt.show()"
   ]
  },
  {
   "cell_type": "code",
   "execution_count": 10,
   "metadata": {
    "tags": [
     "solution_cell"
    ]
   },
   "outputs": [
    {
     "data": {
      "application/vnd.jupyter.widget-view+json": {
       "model_id": "83e2fb43625e4ffca9b24aecabc6e777",
       "version_major": 2,
       "version_minor": 0
      },
      "text/plain": [
       "Accordion(children=(Output(layout=Layout(border_bottom='1px solid green', border_left='1px solid green', borde…"
      ]
     },
     "metadata": {},
     "output_type": "display_data"
    }
   ],
   "source": [
    "show('Exercise 6')"
   ]
  },
  {
   "cell_type": "markdown",
   "metadata": {},
   "source": [
    "---\n",
    "## 2. Computing solutions of ODEs\n",
    "\n",
    "Finite difference approximations of derivatives can be used to compute approximate solutions of differential equations -- this is in fact a widely used method in many applications in mathematical modelling.\n",
    "\n",
    "In this course, we limit ourselves to exploring a few examples, to better understand how numerical calculus can be used to solve interesting problems. This is explored in a bit more detail in the Y3 course \"Honours Differential Equations\"; if numerical methods to solve differential equations is something you find particularly interesting (I sure do!), you should also look into the optional courses \"Numerical ODEs\" (Y3) and \"Numerical PDEs\" (Y4).\n",
    "\n",
    "---\n",
    "\n",
    "Consider the first order ordinary differential equation (ODE)\n",
    "\n",
    "\\begin{equation}\\label{eqn:ode}\n",
    "  \\frac{\\mathrm{d} \\Psi}{\\mathrm{d} t} = -\\gamma \\Psi \\quad \\textrm{ for } t > 0,\n",
    "\\end{equation}\n",
    "\n",
    "where $\\gamma$ is a real and non-negative constant, and subject to an initial condition $\\Psi \\left( t = 0 \\right) = \\Psi_0$. The ODE together with this initial condition form an *initial value problem* (IVP). The exact solution is\n",
    "\n",
    "\\begin{equation}\n",
    "  \\Psi \\left( t \\right) = \\Psi_0 e^{-\\gamma t},\n",
    "\\end{equation}\n",
    "\n",
    "as can, for example, be verified via direct substitution and checking that the initial condition is satisfied.\n",
    "\n",
    "---\n",
    "\n",
    "Of course, for this particular IVP, the analytical solution is straightforward to compute -- we don't really need a numerical method! This example is just to demonstrate the general process and principles used to solve differential equations numerically -- for many real-life problems with more complex models, numerical methods are often the only way to obtain a useful solution.\n",
    "\n",
    "---\n",
    "\n",
    "Consider the replacement of the derivative with a discrete approximation, for example via\n",
    "\n",
    "\\begin{align}\n",
    "  \\psi_0 & = \\Psi_0, \\\\\n",
    "  \\frac{\\psi_{n + 1} - \\psi_{n}}{\\Delta t} & = -\\gamma \\psi_n \\quad \\textrm{ for } n = 0, 1, 2, \\ldots, \\qquad \\color{blue}{(\\ast)}\n",
    "\\end{align}\n",
    "\n",
    "with $\\Delta t > 0$. Here $\\psi_n$ is a function over $\\mathcal{N}$, a *discrete approximation* for $\\Psi$ at $t = n \\Delta t$, in other words we have $\\psi_n \\approx \\Psi(n \\Delta t)$. We also used a *forward difference* approximation of the derivative on the LHS:\n",
    "\n",
    "$$\n",
    "\\left. \\frac{\\mathrm{d} \\Psi}{\\mathrm{d} t} \\right|_{t = n \\Delta t}\n",
    "\\approx \\frac{\\Psi(t + \\Delta t) - \\Psi(t)}{\\Delta t}\n",
    "\\approx \\frac{\\psi_{n + 1} - \\psi_{n}}{\\Delta t}.\n",
    "$$\n",
    "\n",
    "$\\color{blue}{(\\ast)}$ is known as a \"forward Euler\" discretisation of the original differential equation. Such discretisations are often generally referred to as *finite difference schemes*.\n",
    "\n",
    "- Since the initial value $\\psi_0  = \\Psi_0$ is known (we impose it), for $n = 0$, the only unknown in $\\color{blue}{(\\ast)}$ is $\\psi_1$, and we can re-arrange the expression to express the \"new\" value $\\psi_{1}$ in terms of the \"old\" value $\\psi_0$.\n",
    "- With this, we can compute $\\psi_1$.\n",
    "- Now, at $n=1$, the only unknown in $\\color{blue}{(\\ast)}$ is $\\psi_2$; we can compute it following the same process we used for $\\psi_1$.\n",
    "- We can continue computing any \"new\" value $\\psi_{n+1}$ **iteratively**, using the previously computed value $\\psi_n$. Rearranging $\\color{blue}{(\\ast)}$ accordingly gives\n",
    "\n",
    "\\begin{equation}\n",
    "  \\psi_{n + 1} = \\left( 1 - \\gamma \\Delta t \\right) \\psi_n \\quad \\textrm{ for } n = 0, 1, 2, \\ldots\n",
    "\\end{equation}\n",
    "\n",
    "---\n",
    "🚩 **Exercise 7**\n",
    "\n",
    "Compute and plot the numerical approximation for the solution to the initial value problem, obtained by using the forward Euler scheme with $\\psi_0 = 1$, with $100$ steps of size $\\Delta t = 0.1$, and with $\\gamma = 1$."
   ]
  },
  {
   "cell_type": "code",
   "execution_count": 11,
   "metadata": {},
   "outputs": [
    {
     "data": {
      "text/plain": [
       "[<matplotlib.lines.Line2D at 0x116e6d7d0>]"
      ]
     },
     "execution_count": 11,
     "metadata": {},
     "output_type": "execute_result"
    },
    {
     "data": {
      "image/png": "[encoded data removed]",
      "text/plain": [
       "<Figure size 640x480 with 1 Axes>"
      ]
     },
     "metadata": {},
     "output_type": "display_data"
    }
   ],
   "source": [
    "ode = [1]\n",
    "\n",
    "for n in range(99):\n",
    "    ode.append((1 - 1000) * ode[n])\n",
    "\n",
    "n_vals = np.linspace(0, 100, 100)\n",
    "\n",
    "fig, ax = plt.subplots()\n",
    "ax.plot(n_vals, ode)"
   ]
  },
  {
   "cell_type": "code",
   "execution_count": 12,
   "metadata": {
    "tags": [
     "solution_cell"
    ]
   },
   "outputs": [
    {
     "data": {
      "application/vnd.jupyter.widget-view+json": {
       "model_id": "5d590dc8c7bc4952849bedf0ef98a147",
       "version_major": 2,
       "version_minor": 0
      },
      "text/plain": [
       "Accordion(children=(Output(layout=Layout(border_bottom='1px solid green', border_left='1px solid green', borde…"
      ]
     },
     "metadata": {},
     "output_type": "display_data"
    }
   ],
   "source": [
    "show('Exercise 7')"
   ]
  },
  {
   "cell_type": "markdown",
   "metadata": {},
   "source": [
    "---\n",
    "🚩 **Exercise 8**\n",
    "\n",
    "Experiment with different values of $\\gamma$ and $\\Delta t$. What happens if $\\gamma \\Delta t$ becomes too large?"
   ]
  },
  {
   "cell_type": "code",
   "execution_count": 13,
   "metadata": {},
   "outputs": [],
   "source": [
    "# When y and t increase, the curve flattens to become retangular if they = x. \n",
    "# If it becomes negative, the plot goes crazy and looks like sin and cos. \n",
    "# If you go even more negative, it will become a rectangular on the other side."
   ]
  },
  {
   "cell_type": "code",
   "execution_count": 14,
   "metadata": {
    "tags": [
     "solution_cell"
    ]
   },
   "outputs": [
    {
     "data": {
      "application/vnd.jupyter.widget-view+json": {
       "model_id": "9d55d18ccc424153b5c12bf814a6964e",
       "version_major": 2,
       "version_minor": 0
      },
      "text/plain": [
       "Accordion(children=(Output(layout=Layout(border_bottom='1px solid green', border_left='1px solid green', borde…"
      ]
     },
     "metadata": {},
     "output_type": "display_data"
    }
   ],
   "source": [
    "show('Exercise 8')"
   ]
  },
  {
   "cell_type": "markdown",
   "metadata": {},
   "source": [
    "---\n",
    "🚩 **Exercise 9** (exploration)\n",
    "\n",
    "We used a forward difference approximation for the derivative; can you find other discretisations for the problem?"
   ]
  },
  {
   "cell_type": "code",
   "execution_count": 15,
   "metadata": {},
   "outputs": [],
   "source": [
    "# We could maybe use backward or central. "
   ]
  },
  {
   "cell_type": "code",
   "execution_count": 16,
   "metadata": {
    "tags": [
     "solution_cell"
    ]
   },
   "outputs": [
    {
     "data": {
      "application/vnd.jupyter.widget-view+json": {
       "model_id": "be7415f95a0243a78ffac2fc03c00a13",
       "version_major": 2,
       "version_minor": 0
      },
      "text/plain": [
       "Accordion(children=(Output(layout=Layout(border_bottom='1px solid green', border_left='1px solid green', borde…"
      ]
     },
     "metadata": {},
     "output_type": "display_data"
    }
   ],
   "source": [
    "show('Exercise 9')"
   ]
  }
 ],
 "metadata": {
  "celltoolbar": "Tags",
  "kernelspec": {
   "display_name": "Python 3 (ipykernel)",
   "language": "python",
   "name": "python3"
  },
  "language_info": {
   "codemirror_mode": {
    "name": "ipython",
    "version": 3
   },
   "file_extension": ".py",
   "mimetype": "text/x-python",
   "name": "python",
   "nbconvert_exporter": "python",
   "pygments_lexer": "ipython3",
   "version": "3.11.4"
  }
 },
 "nbformat": 4,
 "nbformat_minor": 4
}

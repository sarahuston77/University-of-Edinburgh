{
 "cells": [
  {
   "cell_type": "markdown",
   "metadata": {},
   "source": [
    "# Week 8 - Complex numbers in Numpy - Root finding methods\n",
    "\n",
    "This week, we start with a short section on how Python handles **complex numbers**. Then, we introduce our first root finding algorithms as ways to solve nonlinear equations: the **bisection method** and **fixed-point iteration**.\n",
    "\n",
    "The best way to learn programming is to write code. Don't hesitate to edit the code in the example cells, or add your own code, to test your understanding. You will find practice exercises throughout the notebook, denoted by 🚩 **Exercise $x$:**."
   ]
  },
  {
   "cell_type": "code",
   "execution_count": 1,
   "metadata": {},
   "outputs": [],
   "source": [
    "from show_solutions import show, initialise_path\n",
    "show = initialise_path(show, '../solutions/w08_solutions.md')"
   ]
  },
  {
   "cell_type": "markdown",
   "metadata": {},
   "source": [
    "---\n",
    "### 📚 Book sections\n",
    "\n",
    "- **ASC**: sections 5.1, **5.2**\n",
    "- **PCP**: sections 7.1.3, 7.4\n",
    "\n",
    "---\n",
    "\n",
    "## 1. Complex numbers\n",
    "\n",
    "Python natively supports complex numbers via the `complex` object. To create a complex number, we can type it directly in **cartesian** form, using the letter **`j`** for the imaginary unit $i$ such that $i^2 = -1$. Its real and imaginary parts can then be retrieved using the `.real` and `.imag` attributes."
   ]
  },
  {
   "cell_type": "code",
   "execution_count": 2,
   "metadata": {},
   "outputs": [
    {
     "name": "stdout",
     "output_type": "stream",
     "text": [
      "(3.1-4j)\n",
      "<class 'complex'>\n",
      "3.1\n",
      "-4.0\n",
      "<class 'float'>\n"
     ]
    }
   ],
   "source": [
    "# Create a complex number\n",
    "z = 3.1 - 4j\n",
    "print(z)\n",
    "print(type(z))\n",
    "\n",
    "# Print its real and imaginary parts (both floats)\n",
    "print(z.real)\n",
    "print(z.imag)\n",
    "\n",
    "print(type(z.real))"
   ]
  },
  {
   "cell_type": "markdown",
   "metadata": {},
   "source": [
    "Note that when the imaginary part is $\\pm 1$, you should type `1j` instead of just `j` -- otherwise Python looks for a variable named `j`:"
   ]
  },
  {
   "cell_type": "code",
   "execution_count": 3,
   "metadata": {},
   "outputs": [
    {
     "name": "stdout",
     "output_type": "stream",
     "text": [
      "1j\n"
     ]
    },
    {
     "ename": "NameError",
     "evalue": "name 'j' is not defined",
     "output_type": "error",
     "traceback": [
      "\u001b[0;31m---------------------------------------------------------------------------\u001b[0m",
      "\u001b[0;31mNameError\u001b[0m                                 Traceback (most recent call last)",
      "Cell \u001b[0;32mIn[3], line 2\u001b[0m\n\u001b[1;32m      1\u001b[0m \u001b[38;5;28mprint\u001b[39m(\u001b[38;5;241m1\u001b[39mj)\n\u001b[0;32m----> 2\u001b[0m \u001b[38;5;28mprint\u001b[39m(\u001b[43mj\u001b[49m)\n",
      "\u001b[0;31mNameError\u001b[0m: name 'j' is not defined"
     ]
    }
   ],
   "source": [
    "print(1j)\n",
    "print(j)"
   ]
  },
  {
   "cell_type": "markdown",
   "metadata": {},
   "source": [
    "Another way to build complex number objects is to use the `complex()` function:"
   ]
  },
  {
   "cell_type": "code",
   "execution_count": null,
   "metadata": {},
   "outputs": [
    {
     "name": "stdout",
     "output_type": "stream",
     "text": [
      "(3.1-4j)\n",
      "True\n"
     ]
    }
   ],
   "source": [
    "# Create the same complex number as before\n",
    "w = complex(3.1, -4)\n",
    "print(w)\n",
    "print(w == z)"
   ]
  },
  {
   "cell_type": "markdown",
   "metadata": {},
   "source": [
    "Python's [`cmath` module](https://docs.python.org/3.8/library/cmath.html) offers functions to handle complex numbers. Note that Numpy also supports `complex` types, and most Numpy functions work as expected on complex numbers."
   ]
  },
  {
   "cell_type": "code",
   "execution_count": null,
   "metadata": {},
   "outputs": [
    {
     "name": "stdout",
     "output_type": "stream",
     "text": [
      "Cartesian: x = 0.0, y = 3.0\n",
      "Polar: r = 3.0, phi = 1.5707963267948966\n",
      "3j\n",
      "(1.8369701987210297e-16+3j)\n",
      "(1.8369701987210297e-16+3j)\n"
     ]
    }
   ],
   "source": [
    "import cmath\n",
    "import numpy as np\n",
    "\n",
    "# Switch between cartesian and polar coordinates\n",
    "z_cart = 0.0 + 3.0j\n",
    "r, phi = cmath.polar(z_cart)\n",
    "\n",
    "print(f'Cartesian: x = {z_cart.real}, y = {z_cart.imag}')\n",
    "print(f'Polar: r = {r}, phi = {phi}')\n",
    "\n",
    "print(z_cart)\n",
    "print(r * cmath.exp(1j * phi))\n",
    "print(r * np.exp(1j * phi))"
   ]
  },
  {
   "cell_type": "code",
   "execution_count": null,
   "metadata": {},
   "outputs": [
    {
     "name": "stdout",
     "output_type": "stream",
     "text": [
      "[0.12591577+0.36318812j 0.29707236+0.99017152j 0.88009783+0.542193j\n",
      " 0.83826571+0.81365517j 0.5445246 +0.94837077j]\n",
      "[ 1.+0.j  0.+2.j -3.+1.j]\n",
      "<class 'numpy.ndarray'>\n",
      "<class 'numpy.complex128'>\n",
      "[1.+0.j 2.+0.j 3.+0.j 4.+0.j]\n"
     ]
    }
   ],
   "source": [
    "# Numpy arrays of complex numbers\n",
    "Z1 = np.random.random(5) + 1j * np.random.random(5)\n",
    "print(Z1)\n",
    "\n",
    "Z2 = np.array([1, 2j, -3+1j])\n",
    "print(Z2)\n",
    "print(type(Z2))\n",
    "print(type(Z2[0]))\n",
    "\n",
    "Z3 = np.array([1, 2, 3, 4], dtype=complex)\n",
    "print(Z3)"
   ]
  },
  {
   "cell_type": "code",
   "execution_count": null,
   "metadata": {},
   "outputs": [
    {
     "name": "stdout",
     "output_type": "stream",
     "text": [
      "(28.466756058944867-53.67083673354006j)\n",
      "7.076722405181654\n",
      "(5-5j)\n",
      "(4.0000000000000036-49.92j)\n",
      "False\n",
      "(48+52j)\n"
     ]
    }
   ],
   "source": [
    "# Numpy math functions\n",
    "z = 5.2 - 4.8j\n",
    "\n",
    "print(np.cos(z))\n",
    "print(np.abs(z))    # complex magnitude\n",
    "print(np.round(z))\n",
    "print(z**2)\n",
    "\n",
    "w = 10j\n",
    "print(np.cos(w) == np.cosh(w.imag))\n",
    "print(z * w)"
   ]
  },
  {
   "cell_type": "code",
   "execution_count": null,
   "metadata": {},
   "outputs": [
    {
     "name": "stdout",
     "output_type": "stream",
     "text": [
      "The type of -4.0 is <class 'float'>, the type of (-4+0j) is <class 'complex'>.\n",
      "nan\n",
      "2j\n"
     ]
    },
    {
     "name": "stderr",
     "output_type": "stream",
     "text": [
      "/var/folders/lt/1rnk3rn54ds_kmkv_yqmxsz40000gn/T/ipykernel_18210/1578105718.py:7: RuntimeWarning: invalid value encountered in sqrt\n",
      "  print(np.sqrt(a))    # returns np.nan with a warning\n"
     ]
    }
   ],
   "source": [
    "# Behaviour of np.sqrt()\n",
    "a = -4.\n",
    "b = -4. + 0j\n",
    "\n",
    "print(f'The type of {a} is {type(a)}, the type of {b} is {type(b)}.')\n",
    "\n",
    "print(np.sqrt(a))    # returns np.nan with a warning\n",
    "print(np.sqrt(b))    # works fine!"
   ]
  },
  {
   "cell_type": "markdown",
   "metadata": {},
   "source": [
    "---\n",
    "**📚 Learn more:**\n",
    "\n",
    "- [Python's `complex` number type](https://docs.python.org/3.8/library/stdtypes.html#typesnumeric) - Python documentation\n",
    "- [`cmath` - Mathematical functions for complex numbers](https://docs.python.org/3.8/library/cmath.html) - Python documentation\n",
    "- [`np.real()`](https://numpy.org/doc/stable/reference/generated/numpy.real.html#numpy.real), [`np.imag()`](https://numpy.org/doc/stable/reference/generated/numpy.imag.html#numpy.imag), [`np.angle()`](https://numpy.org/doc/stable/reference/generated/numpy.angle.html#numpy.angle) - Numpy documentation\n",
    "\n",
    "---\n",
    "\n",
    "🚩 **Exercise 1**\n",
    "\n",
    "Write a function `quad_roots()` which takes 3 arguments `a`, `b`, `c`, all floating point numbers (with $a \\neq 0$), and returns the two roots `x1`, `x2` of the polynomial $p(x) = ax^2 + bx + c$, as floating point numbers if the roots are real, or as Python complex numbers if the roots are complex."
   ]
  },
  {
   "cell_type": "code",
   "execution_count": 4,
   "metadata": {},
   "outputs": [
    {
     "name": "stdout",
     "output_type": "stream",
     "text": [
      "[-0.+1.j  0.-1.j]\n",
      "[ 1. -1.]\n",
      "[1.00000001 0.99999999]\n",
      "[0.5+0.5j 0.5-0.5j]\n"
     ]
    }
   ],
   "source": [
    "import numpy as np\n",
    "\n",
    "def quad_roots(a: float = 1.0, b: float = 0.0, c: float = 0.0) -> tuple[float, float]:\n",
    "    \"\"\"Takes 3 floats which correspond to the coef of p(x) and returns the roots, real and complex.\"\"\"\n",
    "    return np.roots([c, b, a])\n",
    "\n",
    "# Some quick testing...\n",
    "print(quad_roots(1, 0, 1))     # roots of x^2 + 1 are -i, i\n",
    "print(quad_roots(1, 0, -1))    # roots of x^2 - 1 are -1, 1\n",
    "print(quad_roots(1, -2, 1))    # roots of x^2 - 2x + 1 are 1, 1\n",
    "print(quad_roots(1, -2, 2))    # roots of x^2 - 2x + 2 are (1-i), (1+i)"
   ]
  },
  {
   "cell_type": "code",
   "execution_count": null,
   "metadata": {
    "tags": [
     "solution_cell"
    ]
   },
   "outputs": [
    {
     "data": {
      "application/vnd.jupyter.widget-view+json": {
       "model_id": "7bf9fb2c097c47d18777065383194d58",
       "version_major": 2,
       "version_minor": 0
      },
      "text/plain": [
       "Accordion(children=(Output(layout=Layout(border_bottom='1px solid green', border_left='1px solid green', borde…"
      ]
     },
     "metadata": {},
     "output_type": "display_data"
    }
   ],
   "source": [
    "show('Exercise 1')"
   ]
  },
  {
   "cell_type": "markdown",
   "metadata": {},
   "source": [
    "---\n",
    "## 2. Solving nonlinear equations with root-finding algorithms\n",
    "\n",
    "In this section, we consider equations of the form\n",
    "\n",
    "$$\n",
    "F(x) = 0,\n",
    "$$\n",
    "\n",
    "where $F(x)$ is a **nonlinear** function of $x$. Solving this equation is equivalent to finding the *root(s)* $x_\\ast$ of the function $F$.\n",
    "\n",
    "There are direct methods we can use to solve *linear* equations, even linear systems of equations as we saw in Week 4; however, a nonlinear equation of the form given above doesn't always have a solution which can be found analytically.\n",
    "\n",
    "The methods we will discuss to solve nonlinear equations are all **iterative**:\n",
    "1. we start with a guess for where the root may be;\n",
    "2. if we are close enough to the solution, for instance if the function is sufficiently close to zero for the current guess, we stop;\n",
    "3. if not, we refine our guess using information we have about the function;\n",
    "4. we go back to step 1 with our new guess.\n",
    "\n",
    "Step 3 is what differentiates the methods we will use, as they each use a different process to refine the current best guess. For all these methods, the key idea is to reduce the nonlinear problem to smaller, simpler problems, which we solve repeatedly (iteratively).\n",
    "\n",
    "---\n",
    "### 2.1. The bisection method\n",
    "\n",
    "Given a continuous function $F \\left( x \\right)$, if $F \\left( a \\right) \\le 0$ and $F \\left( b \\right) \\ge 0$, the Intermediate Value Theorem tells us that there must be a root in the closed interval $\\left[ a, b \\right].$ The bisection method proceeds by testing the **sign** of $F \\left( c \\right)$ where $c$ is the **mid-point** of the interval $\\left[ a, b \\right]$, and uses this to halve the size of the interval in which a root is sought. The process is repeated with the new half-interval, until the interval is small enough to approximate the root with a given tolerance.\n",
    "\n",
    "The next few exercises will guide you through implementing the bisection method yourself.\n",
    "\n",
    "---\n",
    "**📚 Learn more:**\n",
    "- **ASC**: section 5.2\n",
    "- **PCP**: section 7.4\n",
    "\n",
    "---\n",
    "🚩 **Exercise 2**\n",
    "\n",
    "Consider the function\n",
    "\n",
    "$$\n",
    "F \\left( x \\right) = \\sin \\left( 2 \\pi x \\right) e^{4 x} + x.\n",
    "$$\n",
    "\n",
    "Plot this function in the interval $x \\in \\left[ 0, 1 \\right]$ and identify the three roots in this interval. Check that $F \\left( 0.2 \\right)$ and $F \\left( 0.6 \\right)$ have opposite signs.\n",
    "\n",
    "You may find it convenient to create a function `F`."
   ]
  },
  {
   "cell_type": "code",
   "execution_count": 30,
   "metadata": {},
   "outputs": [
    {
     "name": "stdout",
     "output_type": "stream",
     "text": [
      "True\n"
     ]
    },
    {
     "data": {
      "image/png": "[encoded data removed]",
      "text/plain": [
       "<Figure size 640x480 with 1 Axes>"
      ]
     },
     "metadata": {},
     "output_type": "display_data"
    }
   ],
   "source": [
    "import matplotlib.pyplot as plt\n",
    "\n",
    "x_values: np.ndarray = np.linspace(0, 1, 1000)\n",
    "\n",
    "def F(x):\n",
    "    return np.sin(np.pi * 2 * x) * np.exp(4 * x) + x\n",
    "\n",
    "y_values: np.ndarray = F(x_values)\n",
    "roots = [(x_values[i+1] + x_values[i])/2 for i in range(len(x_values)-1) if F(x_values[i])*F(x_values[i+1]) <= 0]\n",
    "\n",
    "fig, ax = plt.subplots()\n",
    "ax.plot(x_values, y_values)\n",
    "ax.plot()\n",
    "\n",
    "#Cool way to check if two items have the same sign\n",
    "print(F(0.2) * F(0.6) < 0)\n"
   ]
  },
  {
   "cell_type": "code",
   "execution_count": null,
   "metadata": {
    "tags": [
     "solution_cell"
    ]
   },
   "outputs": [],
   "source": [
    "show('Exercise 2')"
   ]
  },
  {
   "cell_type": "markdown",
   "metadata": {},
   "source": [
    "---\n",
    "🚩 **Exercise 3**\n",
    "\n",
    "Define variables corresponding to $a = 0.2$ and $b = 0.6$. Define $c$ to be the midpoint $c = (a + b) / 2$.\n",
    "\n",
    "Then, start a loop, which should iterate until the root is found. At each iteration:\n",
    "- Depending on the sign of $F \\left( a \\right) F \\left( c \\right)$, decide whether to set $a$ or $b$ to be equal to $c$, so that there is a root of $F \\left( x \\right)$ in the *new* interval $\\left[ a, b \\right]$ (with half the width of the previous interval).\n",
    "- Define $c$ to be the new midpoint $c = (a + b) / 2$.\n",
    "- The loop should stop when you have found the root $x_\\ast$ within an error of $10^{-10}$.\n",
    "\n",
    "A possible convergence criterion is $|F(c)| < \\varepsilon$, where $\\varepsilon$ is the tolerance -- here, $10^{-10}$.\n",
    "\n",
    "How many iterations are needed to find the root to within this error?"
   ]
  },
  {
   "cell_type": "code",
   "execution_count": 51,
   "metadata": {},
   "outputs": [
    {
     "name": "stdout",
     "output_type": "stream",
     "text": [
      "Root: x = 0.5105501871788873 \n",
      "Number of iterations needed: 33\n"
     ]
    }
   ],
   "source": [
    "a, b = 0.2, 0.6\n",
    "c =  (a + b) / 2\n",
    "tolerance = 1e-10\n",
    "\n",
    "i = 0\n",
    "\n",
    "while abs(F(c)) > tolerance:\n",
    "    # If the midpoint and starting point are different signs, we want to move closer to a by making b the midpoint\n",
    "    if F(a) * F(c) < 0:\n",
    "        b = c\n",
    "    # Otherwise, we want to shift towards b by making a the midpoint\n",
    "    else:\n",
    "        a = c\n",
    "\n",
    "    # Create new midpoint\n",
    "    c = (a + b) / 2\n",
    "\n",
    "    # Calculate number of iterations needed\n",
    "    i += 1\n",
    "\n",
    "print(f'Root: x = {c} \\nNumber of iterations needed: {i}')\n",
    "    "
   ]
  },
  {
   "cell_type": "code",
   "execution_count": null,
   "metadata": {
    "tags": [
     "solution_cell"
    ]
   },
   "outputs": [],
   "source": [
    "show('Exercise 3')"
   ]
  },
  {
   "cell_type": "markdown",
   "metadata": {},
   "source": [
    "---\n",
    "🚩 **Exercise 4**\n",
    "\n",
    "Choose different $a$ and $b$ values in order to find the root near $x = 1$, to within an error of $10^{-10}$.\n",
    "\n",
    "You may wish to write your code from Exercise 3 into a function `bisection(F, a, b, tol)`, which finds the root of a function `F` in the interval `[a, b]` to within an error of `tol`, and returns the value of the roots and the number of iterations."
   ]
  },
  {
   "cell_type": "code",
   "execution_count": 54,
   "metadata": {},
   "outputs": [
    {
     "name": "stdout",
     "output_type": "stream",
     "text": [
      "Root: x = 0.9970589877390013 \n",
      "Number of iterations needed: 37\n"
     ]
    }
   ],
   "source": [
    "a, b = 0.8, 1.0\n",
    "tolerance = 1e-10\n",
    "\n",
    "def bisection(F, a, b, tol) -> tuple[float, int]:\n",
    "    \"\"\"Finds the root of a function within interval [a,b] within a given error of tol, along with number of iterations it took.\"\"\"\n",
    "    i = 0\n",
    "    c =  (a + b) / 2\n",
    "    while abs(F(c)) > tol:\n",
    "        # If the midpoint and starting point are different signs, we want to move closer to a by making b the midpoint\n",
    "        if F(a) * F(c) < 0:\n",
    "            b = c\n",
    "        # Otherwise, we want to shift towards b by making a the midpoint\n",
    "        else:\n",
    "            a = c\n",
    "\n",
    "        # Create new midpoint\n",
    "        c = (a + b) / 2\n",
    "\n",
    "        # Calculate number of iterations needed\n",
    "        i += 1\n",
    "    \n",
    "    return c, i\n",
    "\n",
    "c, i = bisection(F, a, b, tolerance)\n",
    "print(f'Root: x = {c} \\nNumber of iterations needed: {i}')\n"
   ]
  },
  {
   "cell_type": "code",
   "execution_count": null,
   "metadata": {
    "tags": [
     "solution_cell"
    ]
   },
   "outputs": [],
   "source": [
    "show('Exercise 4')"
   ]
  },
  {
   "cell_type": "markdown",
   "metadata": {},
   "source": [
    "---\n",
    "### 2.2. Regula falsi\n",
    "\n",
    "The \"regula falsi\" method is similar to the bisection method, with an important difference: instead of selecting the midpoint of the interval $[a, b]$ at each iteration, we trace a straight line between the points $(a, F(a))$ and $(b, F(b))$, and select the point $c$ where this line intersects the x-axis. In other words, we interpolate $F$ linearly between $a$ and $b$, and we find the root of this interpolating polynomial (of degree 1) at each iteration.\n",
    "\n",
    "---\n",
    "🚩 **Exercise 5**\n",
    "\n",
    "Show that $c$ is given by\n",
    "\n",
    "$$\n",
    "c = \\frac{a F(b) - b F(a)}{F(b) - F(a)}.\n",
    "$$\n",
    "\n",
    "*Hint: a line with slope $\\alpha$ which passes through the point $(x_0, y_0)$ has equation*\n",
    "\n",
    "$$\n",
    "y - y_0 = \\alpha (x - x_0).\n",
    "$$"
   ]
  },
  {
   "cell_type": "code",
   "execution_count": null,
   "metadata": {
    "tags": [
     "solution_cell"
    ]
   },
   "outputs": [],
   "source": [
    "show('Exercise 5')"
   ]
  },
  {
   "cell_type": "markdown",
   "metadata": {},
   "source": [
    "y - F(a) = slope(c - a)\n",
    "\n",
    "plug in slope = F(b) - F(a) / b - a\n",
    "\n",
    "y = 0 and x = c bc that is the solution we are looking for, not the midpoint"
   ]
  },
  {
   "cell_type": "markdown",
   "metadata": {},
   "source": [
    "---\n",
    "🚩 **Exercise 6**\n",
    "\n",
    "Consider the same function $F$ as in section 2.1.\n",
    "\n",
    "Define variables corresponding to $a = 0.2$ and $b = 0.6$.\n",
    "\n",
    "Then, proceed as you did for the bisection method, but instead of defining $c$ to be the midpoint of $[a, b]$, define $c$ as above.\n",
    "\n",
    "How many iterations are needed to find the root to within a tolerance of $10^{-10}$?\n",
    "\n",
    "You may wish to define a function `regula_falsi(F, a, b, tol)` to find a root of a function `F` within an interval `[a, b]` to within an error `tol`, which returns the computed root and the number of iterations."
   ]
  },
  {
   "cell_type": "code",
   "execution_count": 72,
   "metadata": {},
   "outputs": [
    {
     "name": "stdout",
     "output_type": "stream",
     "text": [
      "Root: x = 0.5105501871775513 \n",
      "Number of iterations needed: 19\n"
     ]
    }
   ],
   "source": [
    "a, b = 0.2, 0.6\n",
    "tolerance = 1e-10\n",
    "\n",
    "def regula_falsi(F, a, b, tol) -> tuple[float, int, np.ndarray]:\n",
    "    \"\"\"Finds the root of a function within interval [a,b] within a given error of tol, along with number of iterations it took.\"\"\"\n",
    "    i = 0\n",
    "    guesses: np.ndarray = np.zeros(0)\n",
    "    c = (a * F(b) - b * F(a)) / (F(b) - F(a))\n",
    "    while abs(F(c)) > tol:\n",
    "        # If the midpoint and starting point are different signs, we want to move closer to a by making b the value of c\n",
    "        if F(a) * F(c) < 0:\n",
    "            b = c\n",
    "        # Otherwise, we want to shift towards b by making a the value of c\n",
    "        else:\n",
    "            a = c\n",
    "\n",
    "        # Store old c in np.array\n",
    "        guesses = np.append(guesses, c)\n",
    "\n",
    "        # Create new c\n",
    "        c = (a * F(b) - b * F(a)) / (F(b) - F(a))\n",
    "\n",
    "        # Calculate number of iterations needed\n",
    "        i += 1\n",
    "    \n",
    "    # Append final correct ish guess\n",
    "    guesses = np.append(guesses, c)\n",
    "\n",
    "    return c, i, guesses\n",
    "\n",
    "c, i, x = regula_falsi(F, a, b, tolerance)\n",
    "print(f'Root: x = {c} \\nNumber of iterations needed: {i}')"
   ]
  },
  {
   "cell_type": "code",
   "execution_count": null,
   "metadata": {
    "tags": [
     "solution_cell"
    ]
   },
   "outputs": [],
   "source": [
    "show('Exercise 6')"
   ]
  },
  {
   "cell_type": "markdown",
   "metadata": {},
   "source": [
    "---\n",
    "## 3. Convergence of root-finding methods\n",
    "\n",
    "The bisection and regula falsi methods are guaranteed to converge to a root, provided $F$ is sufficiently smooth and the starting interval $[a, b]$ is chosen appropriately.\n",
    "\n",
    "But different methods may converge to a root at different *speeds*. The **order of convergence** for root-finding algorithms is defined in terms of successive values of the error $e_k := x_k - x_\\ast$ between the true solution $x_\\ast$ and the guess $x_k$ obtained at the $k$th iteration.\n",
    "\n",
    "---\n",
    "### 🚩 Definition: Order of convergence of root-finding methods\n",
    "\n",
    "A convergent root-finding algorithm converges **at $p$th order** if\n",
    "\n",
    "$$\n",
    "\\lim_{k \\to \\infty} \\frac{|e_{k+1}|}{|e_k|^p} = \\alpha,\n",
    "$$\n",
    "\n",
    "where $\\alpha \\in \\mathbb{R}$ is a constant.\n",
    "\n",
    "---\n",
    "\n",
    "For a $p$th order convergent method, we expect the error at the $k+1$th iteration to be roughly proportional to the $p$th power of the error at the $k$th iteration, for sufficiently large $k$ -- that is, when we are in a close enough neighbourhood of $x_\\ast$.\n",
    "\n",
    "Note that $p$ is not always an integer.\n",
    "\n",
    "---\n",
    "🚩 **Exercise 7**\n",
    "\n",
    "Modify your code from Exercise 6 so that all the successive guesses $x_k$ are stored in a Numpy array. Perform the task from Exercise 6 again -- use the regula falsi method to find the same root of `F`, using the same starting interval and tolerance. You should obtain the same result, but now you should also have a vector `x` with length $k_\\max + 1$ containing all the guesses.\n",
    "\n",
    "Consider $x_{k_\\max}$, the last guess obtained by the method, to be the \"true solution\". Compute the magnitude of the error $e_k$ between each of the previous guesses $x_k$ and the true solution.\n",
    "\n",
    "For $p=1, 1.5, 2, 2.5$, compute the ratio $\\frac{|e_{k+1}|}{|e_k|^p}$ for $k=0, 1, \\dots, k_\\max - 1$, and plot it against $k$. Set your y-axis limits to $[0, 1000]$ to start with, and reduce the range as necessary.\n",
    "\n",
    "Given the definition above, what do you expect is the order of convergence of regula falsi? How do you explain the appearance of the graph?"
   ]
  },
  {
   "cell_type": "code",
   "execution_count": 101,
   "metadata": {},
   "outputs": [
    {
     "data": {
      "image/png": "[encoded data removed]",
      "text/plain": [
       "<Figure size 640x480 with 1 Axes>"
      ]
     },
     "metadata": {},
     "output_type": "display_data"
    }
   ],
   "source": [
    "error = np.abs(x[-1] - x[:])\n",
    "p_values = [1, 1.5, 2, 2.5]\n",
    "ratio: np.ndarray = []\n",
    "for p in p_values:\n",
    "    y_vals = np.abs(error[1:])/np.abs(error[:-1])**p\n",
    "    ratio.append(y_vals)\n",
    "\n",
    "fig, ax = plt.subplots()\n",
    "for idx, p in enumerate(p_values):\n",
    "    ax.plot(range(i), ratio[idx], label=f'p={p}')\n",
    "\n",
    "ax.set_ylim([0, 1000])  # Adjust as necessary based on the data\n",
    "ax.set_xlabel('Iteration k')\n",
    "ax.set_ylabel(r'$\\frac{|e_{k+1}|}{|e_k|^p}$')\n",
    "ax.legend()\n",
    "plt.show()"
   ]
  },
  {
   "cell_type": "code",
   "execution_count": null,
   "metadata": {},
   "outputs": [],
   "source": []
  },
  {
   "cell_type": "code",
   "execution_count": null,
   "metadata": {
    "tags": [
     "solution_cell"
    ]
   },
   "outputs": [],
   "source": [
    "show('Exercise 7')"
   ]
  }
 ],
 "metadata": {
  "celltoolbar": "Tags",
  "kernelspec": {
   "display_name": "Python 3 (ipykernel)",
   "language": "python",
   "name": "python3"
  },
  "language_info": {
   "codemirror_mode": {
    "name": "ipython",
    "version": 3
   },
   "file_extension": ".py",
   "mimetype": "text/x-python",
   "name": "python",
   "nbconvert_exporter": "python",
   "pygments_lexer": "ipython3",
   "version": "3.11.4"
  }
 },
 "nbformat": 4,
 "nbformat_minor": 4
}

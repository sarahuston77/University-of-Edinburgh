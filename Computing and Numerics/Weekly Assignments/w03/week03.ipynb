{
 "cells": [
  {
   "cell_type": "markdown",
   "metadata": {},
   "source": [
    "# Week 3: Conditional statements, NumPy arrays, and linear algebra\n",
    "\n",
    "In this worksheet, we introduce conditional statements, another *control flow* tool, which allows us to specify *condition(s)* under which to execute certain parts of our code. We also (re-)introduce the **NumPy** module -- and specifically, how we can use **NumPy arrays** to handle mathematical problems.\n",
    "\n",
    "The best way to learn programming is to write code. Don't hesitate to edit the code in the example cells, or add your own code, to test your understanding. You will find practice exercises throughout the notebook, denoted by 🚩 **Exercise $x$**."
   ]
  },
  {
   "cell_type": "code",
   "execution_count": 1,
   "metadata": {},
   "outputs": [],
   "source": [
    "from show_solutions import show, initialise_path\n",
    "show = initialise_path(show, '../solutions/w03_solutions.md')"
   ]
  },
  {
   "cell_type": "markdown",
   "metadata": {},
   "source": [
    "---\n",
    "## 1. Conditional statements\n",
    "\n",
    "Conditional statements allow us to create different branches in our code, to separate different instructions to be executed under specific conditions.\n",
    "\n",
    "### 1.1. `if` statements\n",
    "\n",
    "Booleans can be used to execute or skip certain instructions under given conditions, using `if` statements. The syntax is as follows:\n",
    "```python\n",
    "if my_condition:\n",
    "    [some instructions]\n",
    "```\n",
    "where `my_condition` is a Boolean object whose value is either `True` or `False`. A few examples -- after running the cell, you can **change** the values of the variables and check that you can still see what you expected to see:"
   ]
  },
  {
   "cell_type": "code",
   "execution_count": 2,
   "metadata": {},
   "outputs": [
    {
     "name": "stdout",
     "output_type": "stream",
     "text": [
      "i is less than j\n",
      "i is an integer\n",
      "c is a string and j is not a float\n",
      "9.399999999999999\n",
      "4.3\n",
      "j is not zero nor empty\n"
     ]
    }
   ],
   "source": [
    "# Define some variables\n",
    "a = 4.3\n",
    "b = 5.1\n",
    "c = 'hello'\n",
    "i = 1\n",
    "j = 8\n",
    "z = True\n",
    "\n",
    "if i == j:\n",
    "    # This is not true, so any instructions\n",
    "    # in this block are ignored\n",
    "    print('i and j are equal')\n",
    "\n",
    "if i < j:\n",
    "    print('i is less than j')\n",
    "    \n",
    "if type(i) == int:\n",
    "    print('i is an integer')\n",
    "\n",
    "if type(c) == str and type(j) != float:\n",
    "    print('c is a string and j is not a float')\n",
    "\n",
    "if (a + b) > 7:\n",
    "    print(a + b)\n",
    "\n",
    "if z:\n",
    "    print(a)\n",
    "\n",
    "if j:\n",
    "    # Why does this work ?\n",
    "    print('j is not zero nor empty')"
   ]
  },
  {
   "cell_type": "markdown",
   "metadata": {},
   "source": [
    "In the last example, although `j` does not point to a Boolean object, it is *interpreted* as a Boolean, because it follows the `if` keyword. Non-zero numbers and non-empty containers are interpreted as `True`, whereas `0`, `0.0`, `None`, and empty containers (e.g. an empty list `[]` or an empty string `''`) are interpreted as `False`.\n",
    "\n",
    "### 1.2. `if`-`elif`-`else` blocks\n",
    "\n",
    "To check multiple conditions one after another, we can use `if`-`elif`-`else` blocks (`elif` is short for \"else if\"). The syntax is\n",
    "```python\n",
    "if cond_1:\n",
    "    # [some instructions, executed if cond_1 is true]\n",
    "elif cond_2:\n",
    "    # [other instructions, executed if cond_1 is false,\n",
    "    # but cond_2 is true]\n",
    "else:\n",
    "    # [other instructions, executed if both cond_1 and cond_2\n",
    "    # are false]\n",
    "```\n",
    "Note, in particular, that:\n",
    "- The conditions in an `if`-`elif`-`else` block are checked in order, and **only one** branch is executed.\n",
    "- The `elif` and `else` statements are both **optional**; depending on what you want to do, you might only need the `if` branch (like in section 1.1), or just `if`-`else`, or sometimes just `if`-`elif`.\n",
    "- You can have more than one `elif` between `if` and `else`, if you want to check more than 3 different cases.\n",
    "\n",
    "Here is an example:"
   ]
  },
  {
   "cell_type": "code",
   "execution_count": 3,
   "metadata": {},
   "outputs": [
    {
     "name": "stdout",
     "output_type": "stream",
     "text": [
      "a is smaller than b\n"
     ]
    }
   ],
   "source": [
    "a = 4.9\n",
    "b = 5.4\n",
    "\n",
    "if a > b:\n",
    "    print('a is greater than b')\n",
    "elif a < b:\n",
    "    print('a is smaller than b')\n",
    "else:\n",
    "    print('a is equal to b')"
   ]
  },
  {
   "cell_type": "markdown",
   "metadata": {},
   "source": [
    "---\n",
    "**📚 Learn more:**\n",
    "\n",
    "* [More flow control tools - Python documentation](https://docs.python.org/3/tutorial/controlflow.html)\n",
    "* [Boolean operations - Python documentation](https://docs.python.org/3/reference/expressions.html#boolean-operations)\n",
    "\n",
    "---\n",
    "🚩 **Exercise 1**\n",
    "\n",
    "The following code generates a random integer `n` between 1 and 1000. Complete the code such that running the cell displays a sentence indicating whether `n` is a multiple of both 3 and 7, either 3 or 7 (but not both), or neither.\n",
    "\n",
    "*Note: the generated random number will be different every time you run the cell. It is generated using [NumPy's random number functionality](https://numpy.org/doc/stable/reference/random/generated/numpy.random.randint.html).*"
   ]
  },
  {
   "cell_type": "code",
   "execution_count": 4,
   "metadata": {},
   "outputs": [
    {
     "name": "stdout",
     "output_type": "stream",
     "text": [
      "416 is not a multiple of either 3 or 7.\n"
     ]
    }
   ],
   "source": [
    "import numpy as np\n",
    "\n",
    "n = np.random.randint(1, 1001)\n",
    "\n",
    "if n % 3 == 0 and n % 7 == 0:\n",
    "    print(f\"{n} is a multiple of both 3 and 7.\")\n",
    "elif n % 3 == 0 or n % 7 == 0:\n",
    "    print(f\"{n} is a multiple of either 3 or 7.\")\n",
    "else:\n",
    "    print(f\"{n} is not a multiple of either 3 or 7.\")\n"
   ]
  },
  {
   "cell_type": "code",
   "execution_count": 5,
   "metadata": {
    "tags": [
     "solution_cell"
    ]
   },
   "outputs": [
    {
     "data": {
      "application/vnd.jupyter.widget-view+json": {
       "model_id": "ce7515ca9efe46f8a2713a3afea23fa8",
       "version_major": 2,
       "version_minor": 0
      },
      "text/plain": [
       "Accordion(children=(Output(layout=Layout(border_bottom='1px solid green', border_left='1px solid green', borde…"
      ]
     },
     "metadata": {},
     "output_type": "display_data"
    }
   ],
   "source": [
    "show('Exercise 1')"
   ]
  },
  {
   "cell_type": "markdown",
   "metadata": {},
   "source": [
    "---\n",
    "🚩 **Exercise 2**\n",
    "\n",
    "Construct a loop over all words in the string `zen`. For each word:\n",
    "* if it contains an `e`, print the word.\n",
    "* if it does not contain an `e`, but contains an `i`, print the first character of the word.\n",
    "* if it does not contain an `e` nor an `i`, increment `count` by 1.\n",
    "\n",
    "*Notes:*\n",
    "- *You will first need to create a list of words from the string --- luckily, you should find a convenient [method](https://docs.python.org/3/library/stdtypes.html#string-methods) for this if you search the documentation.*\n",
    "- *The text is from the Zen of Python: https://www.python.org/dev/peps/pep-0020/*"
   ]
  },
  {
   "cell_type": "code",
   "execution_count": 6,
   "metadata": {},
   "outputs": [
    {
     "name": "stdout",
     "output_type": "stream",
     "text": [
      "i\n",
      "the\n",
      "implementation\n",
      "i\n",
      "1\n",
      "2\n",
      "explain\n",
      "i\n",
      "i\n",
      "3\n",
      "4\n",
      "idea\n",
      "i\n",
      "the\n",
      "implementation\n",
      "i\n",
      "easy\n",
      "5\n",
      "explain\n",
      "i\n",
      "6\n",
      "be\n",
      "7\n",
      "8\n",
      "idea\n"
     ]
    }
   ],
   "source": [
    "zen = 'If the implementation is hard to explain, it is a bad idea. If the implementation is easy to explain, it may be a good idea.'\n",
    "count = 0\n",
    "\n",
    "import re\n",
    "\n",
    "new_str: str = zen.lower()\n",
    "list_of_words: list[str] = re.findall(r'\\b\\w+\\b', new_str)\n",
    "\n",
    "for word in list_of_words:\n",
    "    if \"e\" in word:\n",
    "        print(word)\n",
    "    elif \"i\" in word:\n",
    "        print(word[0])\n",
    "    else:\n",
    "        count += 1\n",
    "        print(count)"
   ]
  },
  {
   "cell_type": "code",
   "execution_count": 7,
   "metadata": {
    "tags": [
     "solution_cell"
    ]
   },
   "outputs": [
    {
     "data": {
      "application/vnd.jupyter.widget-view+json": {
       "model_id": "4b85576f91e94042b56a4b0c00005129",
       "version_major": 2,
       "version_minor": 0
      },
      "text/plain": [
       "Accordion(children=(Output(layout=Layout(border_bottom='1px solid green', border_left='1px solid green', borde…"
      ]
     },
     "metadata": {},
     "output_type": "display_data"
    }
   ],
   "source": [
    "show('Exercise 2')"
   ]
  },
  {
   "cell_type": "markdown",
   "metadata": {},
   "source": [
    "---\n",
    "### 1.3. The `break`  statement in loops\n",
    "\n",
    "Sometimes, we may wish to exit a loop early -- for example, when we try to find the first element in a sequence which matches a condition. Once we find the element, we don't want to keep looping through the rest of the sequence.\n",
    "\n",
    "The `break` statement, together with a condition, can be used to exit a loop conditionally. Here is an example:"
   ]
  },
  {
   "cell_type": "code",
   "execution_count": 8,
   "metadata": {},
   "outputs": [
    {
     "name": "stdout",
     "output_type": "stream",
     "text": [
      "is\n"
     ]
    }
   ],
   "source": [
    "list_of_strings = ['hello', 'this', 'is', 'a', 'lot', 'of', 'text', 'in', 'a', 'list.']\n",
    "\n",
    "# Find and display the first word which starts with an i\n",
    "for word in list_of_strings:\n",
    "    if word[0] == 'i':\n",
    "        print(word)\n",
    "        break    # This stops the loop immediately"
   ]
  },
  {
   "cell_type": "markdown",
   "metadata": {},
   "source": [
    "---\n",
    "**Note:** It is easy to see that a `while` loop can potentially run forever. When this happens, in Jupyter/IPython, `In [*]:` will appear on the top left of the code cell -- click the square button on the toolbar above to interrupt the kernel.\n",
    "\n",
    "It can also be a good idea to count iterations when using `while` loops, for instance by incrementing a counting variable at every iteration. To safeguard against infinite loops, you can then `break` the loop conditionally, for example if the counter exceeds some maximum number of iterations.\n",
    "\n",
    "---\n",
    "**📚 Learn more:**\n",
    "\n",
    "* [More flow control tools - Python documentation](https://docs.python.org/3/tutorial/controlflow.html)\n",
    "* [`break` and `continue` statements, and `else` clauses on loops - Python documentation](https://docs.python.org/3/tutorial/controlflow.html#break-and-continue-statements-and-else-clauses-on-loops)\n",
    "\n",
    "\n",
    "---\n",
    "🚩 **Exercise 3**\n",
    "\n",
    "The following is an example of *nested loops*. Try to predict the displayed output, and run the cell to verify. How does `break` behave within nested loops?\n",
    "\n",
    "*Hint: it's a good time to pick up a pen and paper! Try to figure out what happens in the first few iterations of each loop, by substituting `i` and `j` by their first few values.*"
   ]
  },
  {
   "cell_type": "code",
   "execution_count": 9,
   "metadata": {},
   "outputs": [
    {
     "name": "stdout",
     "output_type": "stream",
     "text": [
      "5\n",
      "10\n",
      "15\n",
      "18\n",
      "19\n",
      "20\n",
      "21\n",
      "22\n",
      "23\n",
      "24\n"
     ]
    }
   ],
   "source": [
    "count = 0\n",
    "\n",
    "for i in range(10):\n",
    "    for j in range(5):\n",
    "        count += 1\n",
    "        if count > 17:\n",
    "            break\n",
    "    print(count)"
   ]
  },
  {
   "cell_type": "code",
   "execution_count": 10,
   "metadata": {
    "tags": [
     "solution_cell"
    ]
   },
   "outputs": [
    {
     "data": {
      "application/vnd.jupyter.widget-view+json": {
       "model_id": "3d12450295894b61a858f2b2f57cb60d",
       "version_major": 2,
       "version_minor": 0
      },
      "text/plain": [
       "Accordion(children=(Output(layout=Layout(border_bottom='1px solid green', border_left='1px solid green', borde…"
      ]
     },
     "metadata": {},
     "output_type": "display_data"
    }
   ],
   "source": [
    "show('Exercise 3')"
   ]
  },
  {
   "cell_type": "markdown",
   "metadata": {},
   "source": [
    "---\n",
    "## 2. NumPy arrays\n",
    "\n",
    "We introduced the Numpy module when we needed to use some mathematical functions to compute values (e.g. `np.cos()`, `np.sqrt()`...). Another one of Numpy's useful functionalities is the **`ndarray` type** (stands for \"N-dimensional array\"). Numpy arrays are *containers*, like lists, which allow us to store and handle vectors and matrices efficiently. (If you are familiar with MATLAB, Numpy arrays are quite similar to MATLAB arrays.)\n",
    "\n",
    "### 2.1. Creating arrays manually\n",
    "\n",
    "The function `np.array()` is used to create an array. It takes a **list** as an input argument, and returns an array where the rows are the elements of the list. For example, to create a vector or a matrix:"
   ]
  },
  {
   "cell_type": "code",
   "execution_count": 11,
   "metadata": {},
   "outputs": [
    {
     "name": "stdout",
     "output_type": "stream",
     "text": [
      "[ 3.   4.  -2.8  0. ]\n",
      "<class 'numpy.ndarray'>\n",
      "[[1 0 0 0]\n",
      " [0 1 0 0]\n",
      " [0 0 1 0]\n",
      " [0 0 0 1]]\n",
      "[[1. 0. 0. 0.]\n",
      " [0. 1. 0. 0.]\n",
      " [0. 0. 1. 0.]\n",
      " [0. 0. 0. 1.]]\n"
     ]
    }
   ],
   "source": [
    "# Start by importing Numpy\n",
    "import numpy as np\n",
    "\n",
    "# Create a vector\n",
    "v = np.array([3, 4, -2.8, 0])\n",
    "print(v)\n",
    "print(type(v))\n",
    "\n",
    "# Create a matrix: pass a list of lists to np.array(),\n",
    "# each element of which is a row of the matrix\n",
    "id_4 = np.array([[1, 0, 0, 0],\n",
    "                 [0, 1, 0, 0],\n",
    "                 [0, 0, 1, 0],\n",
    "                 [0, 0, 0, 1]])\n",
    "print(id_4)\n",
    "\n",
    "# Use the second (optional) input argument of np.array()\n",
    "# to specify the type of its elements:\n",
    "id_4_float = np.array([[1, 0, 0, 0],\n",
    "                       [0, 1, 0, 0],\n",
    "                       [0, 0, 1, 0],\n",
    "                       [0, 0, 0, 1]], dtype=float)\n",
    "print(id_4_float)"
   ]
  },
  {
   "cell_type": "markdown",
   "metadata": {},
   "source": [
    "---\n",
    "**Note:** 1-D Numpy arrays (vectors) are *not* row vectors or column vectors -- they are similar to lists, in this sense.\n",
    "\n",
    "---\n",
    "### 2.2. Some useful functions to construct arrays\n",
    "\n",
    "Numpy also has many useful functions to construct arrays with particular properties, for example:\n",
    "- `np.zeros()`, `np.ones()` to create arrays full of zeros or ones\n",
    "- `np.eye()` for the identity matrix\n",
    "- `np.random.random()`, `np.random.randint()` for matrices of random real numbers or random integers\n",
    "- `np.arange()`, `np.linspace()` for vectors of equally spaced values"
   ]
  },
  {
   "cell_type": "code",
   "execution_count": 12,
   "metadata": {},
   "outputs": [
    {
     "name": "stdout",
     "output_type": "stream",
     "text": [
      "[[0. 0. 0. 0. 0. 0. 0.]\n",
      " [0. 0. 0. 0. 0. 0. 0.]\n",
      " [0. 0. 0. 0. 0. 0. 0.]]\n",
      "u = [1. 1. 1. 1. 1.]\n",
      "[[1. 0. 0. 0.]\n",
      " [0. 1. 0. 0.]\n",
      " [0. 0. 1. 0.]\n",
      " [0. 0. 0. 1.]]\n",
      "B = [[0.52594906 0.50127923 0.05725363]\n",
      " [0.33848683 0.37415827 0.50193364]\n",
      " [0.86271945 0.51598524 0.47049275]]\n",
      "v = [3.1 3.4 3.7 4.  4.3 4.6 4.9 5.2]\n",
      "w = [0.  0.2 0.4 0.6 0.8 1.  1.2 1.4 1.6 1.8 2.  2.2 2.4 2.6 2.8 3.  3.2 3.4\n",
      " 3.6 3.8 4. ]\n",
      "The shape of A is (3, 7).\n"
     ]
    }
   ],
   "source": [
    "# Create a matrix of zeros\n",
    "A = np.zeros([3, 7])\n",
    "print(A)\n",
    "\n",
    "# Create a vector of ones\n",
    "u = np.ones(5)\n",
    "print(f'u = {u}')\n",
    "\n",
    "# Create the 4x4 identity matrix, as above\n",
    "id_4_mat = np.eye(4)\n",
    "print(id_4_mat)\n",
    "\n",
    "# Create a matrix of pseudo-random numbers between 0 and 1,\n",
    "# sampled from a uniform distribution\n",
    "B = np.random.random([3, 3])\n",
    "print(f'B = {B}')\n",
    "\n",
    "# Create a 1D array (a vector) with a range of floats\n",
    "v = np.arange(3.1, 5.2, 0.3)\n",
    "print(f'v = {v}')\n",
    "\n",
    "# Create a 1D array (a vector) of 21 linearly spaced values\n",
    "w = np.linspace(0, 4, 21)\n",
    "print(f'w = {w}')\n",
    "\n",
    "# Retrieve the dimensions of an array, as a tuple\n",
    "print(f'The shape of A is {A.shape}.')"
   ]
  },
  {
   "cell_type": "markdown",
   "metadata": {},
   "source": [
    "Note that the `.shape` *attribute* of `ndarray` objects is a *tuple* `(n_rows, n_columns)` (a little bit like a list -- we'll see those in more detail in a few weeks), taking as values the dimensions of an array. (`.shape` is *not* a method -- it doesn't perform any operations, like a function would do, it is simply a property of `ndarray` objects, a value associated with the object. Note that it is **not** followed by parentheses, like a method would be.)\n",
    "\n",
    "For those functions which require to specify the dimensions of the target array, these dimensions are given as *one argument* -- a **sequence of integers**. For example, a *range* and a *list* are two different types of sequence -- here, we've used a list, `[n_rows, n_columns]` when creating `A` and `B`:\n",
    "\n",
    "```python\n",
    "A = np.zeros([3, 7])\n",
    "B = np.random.random([3, 3])\n",
    "```\n",
    "\n",
    "\n",
    "Another useful functionality for constructing arrays is the `.reshape()` *method* of the `ndarray` type. It takes one input argument, the shape of the target array, and broadcasts the values in the array to which it is applied into this new shape. For instance, here are four ways to construct the matrix\n",
    "\n",
    "$$\n",
    "M =\n",
    "\\begin{pmatrix}\n",
    "0.1 & 0.2 & 0.3 \\\\\n",
    "0.4 & 0.5 & 0.6 \\\\\n",
    "0.7 & 0.8 & 0.9\n",
    "\\end{pmatrix}\n",
    "$$"
   ]
  },
  {
   "cell_type": "code",
   "execution_count": 13,
   "metadata": {},
   "outputs": [
    {
     "name": "stdout",
     "output_type": "stream",
     "text": [
      "[[0.1 0.2 0.3]\n",
      " [0.4 0.5 0.6]\n",
      " [0.7 0.8 0.9]]\n",
      "[[0.1 0.2 0.3]\n",
      " [0.4 0.5 0.6]\n",
      " [0.7 0.8 0.9]]\n",
      "[[0.1 0.2 0.3]\n",
      " [0.4 0.5 0.6]\n",
      " [0.7 0.8 0.9]]\n",
      "[[0.1 0.2 0.3]\n",
      " [0.4 0.5 0.6]\n",
      " [0.7 0.8 0.9]]\n"
     ]
    }
   ],
   "source": [
    "# First way: giving the list of rows explicitly\n",
    "M1 = np.array([[0.1, 0.2, 0.3],\n",
    "               [0.4, 0.5, 0.6],\n",
    "               [0.7, 0.8, 0.9]])\n",
    "print(M1)\n",
    "\n",
    "# Second way: using range() and .reshape()\n",
    "# Note that range() returns a sequence, which we can therefore use\n",
    "# directly as the input argument for np.array()\n",
    "M2 = 0.1 * np.array(range(1, 10)).reshape([3, 3])\n",
    "print(M2)\n",
    "\n",
    "# Third way: using np.arange() and .reshape\n",
    "M3 = np.arange(0.1, 1, 0.1).reshape([3, 3])\n",
    "print(M3)\n",
    "\n",
    "# Fourth way: using np.linspace() and .reshape()\n",
    "M4 = np.linspace(0.1, 0.9, 9).reshape([3, 3])\n",
    "print(M4)"
   ]
  },
  {
   "cell_type": "markdown",
   "metadata": {},
   "source": [
    "---\n",
    "**📚 Learn more:**\n",
    "* [NumPy: the absolute basics for beginners](https://numpy.org/doc/stable/user/absolute_beginners.html)\n",
    "* [NumPy User Guide](https://numpy.org/doc/stable/user/)\n",
    "* [NumPy Reference](https://numpy.org/doc/stable/reference/index.html)\n",
    "* [NumPy array function](https://numpy.org/doc/stable/reference/generated/numpy.array.html)\n",
    "* [The N-dimensional array (ndarray)](https://numpy.org/doc/stable/reference/arrays.ndarray.html)\n",
    "* [Array creation routines](https://numpy.org/doc/stable/reference/routines.array-creation.html)\n",
    "* [Generate random arrays with Numpy](https://numpy.org/doc/stable/reference/random/generated/numpy.random.Generator.random.html#numpy.random.Generator.random)\n",
    "\n",
    "---\n",
    "\n",
    "🚩 **Exercise 4**\n",
    "\n",
    "Create two variables `M` and `y`, assigned with Numpy arrays representing the matrix $M$ and vector $y$ defined as\n",
    "\n",
    "$$\n",
    "M =\n",
    "\\begin{pmatrix}\n",
    "9 & 3 & 0 \\\\\n",
    "-2 & -2 & 1 \\\\\n",
    "0 & -1 & 1\n",
    "\\end{pmatrix}, \\qquad\n",
    "y =\n",
    "\\begin{pmatrix}\n",
    "0.4 \\\\ -3 \\\\ -0.3\n",
    "\\end{pmatrix}.\n",
    "$$"
   ]
  },
  {
   "cell_type": "code",
   "execution_count": 14,
   "metadata": {},
   "outputs": [
    {
     "name": "stdout",
     "output_type": "stream",
     "text": [
      "[[ 9.  3.  0.]\n",
      " [-2. -2.  1.]\n",
      " [ 0. -1.  1.]]\n",
      "[[ 0.4]\n",
      " [-3. ]\n",
      " [-0.3]]\n"
     ]
    }
   ],
   "source": [
    "M: np.array = np.array([[9, 3, 0], [-2, -2, 1], [0, -1, 1]], dtype= float)\n",
    "y: np.array = np.array([[0.4], [-3], [-0.3]], dtype= float)\n",
    "print(M)\n",
    "print(y)"
   ]
  },
  {
   "cell_type": "code",
   "execution_count": 15,
   "metadata": {
    "tags": [
     "solution_cell"
    ]
   },
   "outputs": [
    {
     "data": {
      "application/vnd.jupyter.widget-view+json": {
       "model_id": "035dbc83d351447d90c593d459a4a806",
       "version_major": 2,
       "version_minor": 0
      },
      "text/plain": [
       "Accordion(children=(Output(layout=Layout(border_bottom='1px solid green', border_left='1px solid green', borde…"
      ]
     },
     "metadata": {},
     "output_type": "display_data"
    }
   ],
   "source": [
    "show('Exercise 4')"
   ]
  },
  {
   "cell_type": "markdown",
   "metadata": {},
   "source": [
    "---\n",
    "### 2.3. Element-wise operations\n",
    "\n",
    "The basic operators `+`, `-`, `*`, `/`, and `**` can be used to perform **element-wise** operations between\n",
    "* two arrays of the *same size*, or\n",
    "* an array and a scalar."
   ]
  },
  {
   "cell_type": "code",
   "execution_count": 16,
   "metadata": {},
   "outputs": [
    {
     "name": "stdout",
     "output_type": "stream",
     "text": [
      "A = \n",
      "[[0.1 0.2 0.3]\n",
      " [0.4 0.5 0.6]\n",
      " [0.7 0.8 0.9]]\n",
      "\n",
      "A + B =\n",
      "[[1.1 0.2 0.3]\n",
      " [0.4 1.5 0.6]\n",
      " [0.7 0.8 1.9]]\n",
      "\n",
      "A - B =\n",
      "[[-0.9  0.2  0.3]\n",
      " [ 0.4 -0.5  0.6]\n",
      " [ 0.7  0.8 -0.1]]\n",
      "\n",
      "A * B =\n",
      "[[0.1 0.  0. ]\n",
      " [0.  0.5 0. ]\n",
      " [0.  0.  0.9]]\n",
      "\n",
      "A ** 2 =\n",
      "[[0.01 0.04 0.09]\n",
      " [0.16 0.25 0.36]\n",
      " [0.49 0.64 0.81]]\n",
      "\n",
      " B / A =\n",
      "[[10.          0.          0.        ]\n",
      " [ 0.          2.          0.        ]\n",
      " [ 0.          0.          1.11111111]]\n"
     ]
    }
   ],
   "source": [
    "# Yet another way to construct the matrix M from earlier...\n",
    "A = 0.1 * np.array([[1, 2, 3],\n",
    "                    [4, 5, 6],\n",
    "                    [7, 8, 9]])\n",
    "print(\"A = \")\n",
    "print(A)\n",
    "\n",
    "B = np.eye(3)\n",
    "\n",
    "print(\"\\nA + B =\")\n",
    "print(A + B)\n",
    "\n",
    "print(\"\\nA - B =\")\n",
    "print(A - B)\n",
    "\n",
    "print(\"\\nA * B =\")\n",
    "print(A * B)\n",
    "\n",
    "print(\"\\nA ** 2 =\")\n",
    "print(A ** 2)\n",
    "\n",
    "print(\"\\n B / A =\")\n",
    "print(B / A)"
   ]
  },
  {
   "cell_type": "markdown",
   "metadata": {},
   "source": [
    "---\n",
    "🚩 **Exercise 5**\n",
    "\n",
    "Write a function `dot_prod()`, which takes 2 input arguments `u` and `v`, both 1D NumPy arrays (vectors), and returns the dot product of the 2 vectors. You are not allowed to use the function `np.dot()` from NumPy -- code it yourself. You can test your function on any two vectors by comparing the result to the output of `np.dot(u, v)`.\n",
    "\n",
    "The dot product of 2 vectors $\\mathbf{u}, \\mathbf{v} \\in \\mathbb{R}^n$ is given by\n",
    "$$\n",
    "\\mathbf{u} \\cdot \\mathbf{v} = \\sum_{i=1}^n u_i v_i.\n",
    "$$"
   ]
  },
  {
   "cell_type": "code",
   "execution_count": 17,
   "metadata": {},
   "outputs": [
    {
     "name": "stdout",
     "output_type": "stream",
     "text": [
      "[[7]]\n",
      "[[7]]\n"
     ]
    }
   ],
   "source": [
    "def dot_prod(u: np.array, v: np.array) -> [[int]]:\n",
    "    \"\"\"Takes two vectors and returns dot product.\"\"\"\n",
    "    # check that the vectors are compatible to multiply\n",
    "    if u.shape[1] != v.shape[0]:\n",
    "        return print(f'Cannot multiply vectors due to size.')\n",
    "    else:\n",
    "       product: int = np.sum(np.transpose(u) * v)\n",
    "    return [[product]]\n",
    "\n",
    "u: np.array = np.array([[1, 2]])\n",
    "v: np.array = np.array([[1], [3]])\n",
    "\n",
    "print(dot_prod(u, v))\n",
    "print(np.dot(u, v))"
   ]
  },
  {
   "cell_type": "code",
   "execution_count": 18,
   "metadata": {
    "tags": [
     "solution_cell"
    ]
   },
   "outputs": [
    {
     "data": {
      "application/vnd.jupyter.widget-view+json": {
       "model_id": "490e54dfcab141aa94514e1cb313be14",
       "version_major": 2,
       "version_minor": 0
      },
      "text/plain": [
       "Accordion(children=(Output(layout=Layout(border_bottom='1px solid green', border_left='1px solid green', borde…"
      ]
     },
     "metadata": {},
     "output_type": "display_data"
    }
   ],
   "source": [
    "show('Exercise 5')"
   ]
  },
  {
   "cell_type": "markdown",
   "metadata": {},
   "source": [
    "---\n",
    "## 3. Indexing and slicing Numpy arrays\n",
    "\n",
    "To access an element in a Numpy array in a given position, we can use **indexing**, just like for other sequences. The main difference is that an element in an $N$-dimensional Numpy array is indexed by $N$ integers, each representing the element's position along a dimension.\n",
    "\n",
    "Concretely:\n",
    "* `v[i]` is the $i+1$th element of the vector `v`.\n",
    "* `A[i, j]` is the element in the $i+1$th row and $j+1$th column of the matrix `A`.\n",
    "* `X[i, j, k, h, ...]` is used to index elements for tensors in higher dimensions.\n",
    "\n",
    "Everything we have seen when **slicing** lists and strings also works on Numpy arrays. A few examples:"
   ]
  },
  {
   "cell_type": "code",
   "execution_count": 19,
   "metadata": {},
   "outputs": [
    {
     "name": "stdout",
     "output_type": "stream",
     "text": [
      "[[0.25 0.5  0.75 1.  ]\n",
      " [1.25 1.5  1.75 2.  ]\n",
      " [2.25 2.5  2.75 3.  ]\n",
      " [3.25 3.5  3.75 4.  ]]\n",
      "2.0\n",
      "[0.25 0.5  0.75 1.  ]\n",
      "[0.75 1.75 2.75 3.75]\n",
      "[[2.25 2.5  2.75]\n",
      " [3.25 3.5  3.75]]\n",
      "[0.5 2.5]\n"
     ]
    }
   ],
   "source": [
    "# Create a 4x4 matrix\n",
    "A = np.arange(1/4, 17/4, 1/4).reshape((4, 4))\n",
    "print(A)\n",
    "\n",
    "# Print some slices\n",
    "print(A[1, 3])\n",
    "print(A[0, :])    # row 0, all elements\n",
    "print(A[:, 2])    # all elements, column 2\n",
    "print(A[2:, :-1]) # rows from 2 until the last, columns from 0 until the second-to-last\n",
    "\n",
    "print(A[0::2, 1]) # every second row starting from 0, column 1"
   ]
  },
  {
   "cell_type": "markdown",
   "metadata": {},
   "source": [
    "---\n",
    "**📚 Learn more:**\n",
    "\n",
    "- [Indexing](https://numpy.org/doc/stable/reference/arrays.indexing.html) - Numpy documentation\n",
    "- [Indexing basics](https://numpy.org/doc/stable/user/basics.indexing.html#basics-indexing) - Numpy documentation\n",
    "\n",
    "---\n",
    "🚩 **Exercise 6**\n",
    "\n",
    "Define a variable `n` with some integer value $2 \\leq n \\leq 50$ of your choice. Using two nested for-loops, create an array `A` representing a matrix $A \\in \\mathbb{R}^{n\\times n}$, where the element $(i, j)$ in row $i$, column $j$ is given by\n",
    "$$\n",
    "a_{ij} = \\begin{cases}\n",
    "i + 2j, \\quad & \\text{if } i < j, \\\\\n",
    "ij, \\quad &\\text{otherwise,}\n",
    "\\end{cases}\n",
    "\\quad \\text{for } i, j = 0, 1, 2, \\dots, n-1.\n",
    "$$\n",
    "\n",
    "To check your code, for example, for $n=4$, you should have\n",
    "$$\n",
    "A = \\begin{pmatrix}\n",
    "0 & 2 & 4 & 6 \\\\\n",
    "0 & 1 & 5 & 7 \\\\\n",
    "0 & 2 & 4 & 8 \\\\\n",
    "0 & 3 & 6 & 9\n",
    "\\end{pmatrix}.\n",
    "$$\n",
    "\n",
    "*Hint: before being able to set individual values in the array, you will first need to create an array of the correct shape. For instance, you could start with an array full of zeros.*"
   ]
  },
  {
   "cell_type": "code",
   "execution_count": 20,
   "metadata": {},
   "outputs": [
    {
     "name": "stdout",
     "output_type": "stream",
     "text": [
      "[[0 2 4 6]\n",
      " [0 1 5 7]\n",
      " [0 2 4 8]\n",
      " [0 3 6 9]]\n"
     ]
    }
   ],
   "source": [
    "n: int = 4\n",
    "A: np.array = np.zeros([n, n], dtype= int)\n",
    "\n",
    "i: int = 0\n",
    "\n",
    "while i < n:\n",
    "    j: int = 0\n",
    "    while j < n:\n",
    "        if i < j:\n",
    "            A[i, j] = (i + (2 * j))\n",
    "        else:\n",
    "            A[i, j] = (i * j)\n",
    "        j += 1\n",
    "    i += 1\n",
    "print(A)\n"
   ]
  },
  {
   "cell_type": "code",
   "execution_count": 21,
   "metadata": {
    "tags": [
     "solution_cell"
    ]
   },
   "outputs": [
    {
     "data": {
      "application/vnd.jupyter.widget-view+json": {
       "model_id": "5e2c7b9666c84b01923a7b04e3975330",
       "version_major": 2,
       "version_minor": 0
      },
      "text/plain": [
       "Accordion(children=(Output(layout=Layout(border_bottom='1px solid green', border_left='1px solid green', borde…"
      ]
     },
     "metadata": {},
     "output_type": "display_data"
    }
   ],
   "source": [
    "show('Exercise 6')"
   ]
  },
  {
   "cell_type": "markdown",
   "metadata": {},
   "source": [
    "---\n",
    "## 4. Creating arrays by copying other arrays\n",
    "\n",
    "Sometimes, it's convenient to create a copy of an existing array. The **safest** way to do this is by using the `.copy()` method:"
   ]
  },
  {
   "cell_type": "code",
   "execution_count": 22,
   "metadata": {},
   "outputs": [
    {
     "name": "stdout",
     "output_type": "stream",
     "text": [
      "[  0.  10.  20.  30.  40.  50.  60.  70.  80.  90. 100.]\n",
      "[  0.  10.  20.  30.  40.  50.  60.  70.  80.  90. 100.]\n"
     ]
    }
   ],
   "source": [
    "# Create a vector A\n",
    "A = np.linspace(0, 100, 11)\n",
    "\n",
    "# Create another vector B, with the same elements as A\n",
    "B = A.copy()\n",
    "\n",
    "# Display both\n",
    "print(A)\n",
    "print(B)"
   ]
  },
  {
   "cell_type": "markdown",
   "metadata": {},
   "source": [
    "This makes a **copy** of all the numbers in memory currently stored in the box labelled `A`, puts them in their own drawers, and creates another box called `B` to put them in. Then, we can make changes to the elements of `A` or `B` without affecting the other:"
   ]
  },
  {
   "cell_type": "code",
   "execution_count": 23,
   "metadata": {},
   "outputs": [
    {
     "name": "stdout",
     "output_type": "stream",
     "text": [
      "[  1.   1.   1.  30.  40.  50.  60.  70.  80.  90. 100.]\n",
      "[  0.  10.  20.  30.  40.  50.  60.  70.  80.  90. 100.]\n"
     ]
    }
   ],
   "source": [
    "# Change the first 3 elements of A\n",
    "A[:3] = 1\n",
    "\n",
    "# Display A and B\n",
    "print(A)\n",
    "print(B)"
   ]
  },
  {
   "cell_type": "markdown",
   "metadata": {},
   "source": [
    "But what happens if we don't use `.copy()`?"
   ]
  },
  {
   "cell_type": "code",
   "execution_count": 24,
   "metadata": {},
   "outputs": [
    {
     "name": "stdout",
     "output_type": "stream",
     "text": [
      "[  0.  10.  20.  30.  40.  50.  60.  70.  80.  90. 100.]\n",
      "[  0.  10.  20.  30.  40.  50.  60.  70.  80.  90. 100.]\n",
      "[  1.   1.   1.  30.  40.  50.  60.  70.  80.  90. 100.]\n",
      "[  1.   1.   1.  30.  40.  50.  60.  70.  80.  90. 100.]\n"
     ]
    }
   ],
   "source": [
    "# Create a vector A\n",
    "A = np.linspace(0, 100, 11)\n",
    "\n",
    "# Create another vector B, with the same elements as A\n",
    "B = A\n",
    "\n",
    "# Display both; so far, so good\n",
    "print(A)\n",
    "print(B)\n",
    "\n",
    "# Change the first 3 elements of A\n",
    "A[:3] = 1\n",
    "\n",
    "# Display A and B; B has also been changed!\n",
    "print(A)\n",
    "print(B)"
   ]
  },
  {
   "cell_type": "markdown",
   "metadata": {},
   "source": [
    "Remember **Exercise 4** from the Week 1 notebook. If we don't explicitly ask Python to create a copy of the values in `A` (by using `.copy()`), it simply *reuses* the values that are already stored in memory in the box labelled `A`, and just sticks another label on the same box, called `B`. Now, the **same objects** can be referred to using either the label `A` or the label `B`; this means that if we change some of the contents of `A`, we automatically change the same elements in `B`.\n",
    "\n",
    "---\n",
    "**📚 Learn more:**\n",
    "\n",
    "- [ndarray.copy()](https://numpy.org/doc/stable/reference/generated/numpy.ndarray.copy.html)\n",
    "- [Copies and Views](https://numpy.org/doc/stable/user/quickstart.html#copies-and-views) - NumPy documentation\n",
    "- [How to create an array from existing data](https://numpy.org/doc/stable/user/absolute_beginners.html#how-to-create-an-array-from-existing-data) - NumPy beginner's guide\n",
    "\n",
    "---\n",
    "## 5. Matrix/vector products\n",
    "\n",
    "We saw in section 2.3 that `A * B` returns the *element-wise* product of `A` and `B`. The function `np.matmul()` (and its operator alias, `@`) allows to compute **matrix products**:"
   ]
  },
  {
   "cell_type": "code",
   "execution_count": 25,
   "metadata": {},
   "outputs": [
    {
     "name": "stdout",
     "output_type": "stream",
     "text": [
      "A =\n",
      "[[2. 2. 2. 2.]\n",
      " [2. 2. 2. 2.]]\n",
      "B =\n",
      "[[0.4 0.  0.  0. ]\n",
      " [0.  0.4 0.  0. ]\n",
      " [0.  0.  0.4 0. ]\n",
      " [0.  0.  0.  0.4]]\n",
      "v =\n",
      "[0.71343928 0.3876137  0.17737883 0.30957671]\n",
      "[[0.8 0.8 0.8 0.8]\n",
      " [0.8 0.8 0.8 0.8]]\n",
      "[[0.8 0.8]\n",
      " [0.8 0.8]\n",
      " [0.8 0.8]\n",
      " [0.8 0.8]]\n",
      "[[0.8 0.8]\n",
      " [0.8 0.8]\n",
      " [0.8 0.8]\n",
      " [0.8 0.8]]\n",
      "[3.17601703 3.17601703]\n",
      "[0.28537571 0.15504548 0.07095153 0.12383068]\n",
      "0.7865409770696529\n",
      "[[0.8 0.8]\n",
      " [0.8 0.8]\n",
      " [0.8 0.8]\n",
      " [0.8 0.8]]\n",
      "[3.17601703 3.17601703]\n",
      "[0.28537571 0.15504548 0.07095153 0.12383068]\n",
      "0.7865409770696529\n"
     ]
    }
   ],
   "source": [
    "A = 2 * np.ones([2, 4])\n",
    "print(\"A =\")\n",
    "print(A)\n",
    "\n",
    "B = 0.4 * np.eye(4)\n",
    "print(\"B =\")\n",
    "print(B)\n",
    "\n",
    "v = np.random.random(4)\n",
    "print(\"v =\")\n",
    "print(v)\n",
    "\n",
    "# Products AB and BA^T\n",
    "print(np.matmul(A, B))\n",
    "print(np.matmul(B, A.T))\n",
    "print(np.matmul(B, A.transpose()))\n",
    "\n",
    "# Products Av and v^T B\n",
    "print(np.matmul(A, v))\n",
    "print(np.matmul(v, B))\n",
    "\n",
    "# Dot product of v with itself\n",
    "print(np.matmul(v, v))\n",
    "\n",
    "# We can also use the operator @ to do exactly the same thing:\n",
    "print(B @ A.T)\n",
    "print(A @ v)\n",
    "print(v @ B)\n",
    "print(v @ v)"
   ]
  },
  {
   "cell_type": "markdown",
   "metadata": {},
   "source": [
    "Note the different behaviours of `np.matmul()`, depending on the dimensions of its arguments. All cases are outlined in the documentation linked below. Also note the `.T` notation used to **transpose** arrays.\n",
    "\n",
    "---\n",
    "🚩 **Exercise 7**\n",
    "\n",
    "Write a function `mat_power()` which takes 2 input arguments:\n",
    "- a square array `A` representing a square matrix $A$,\n",
    "- a positive integer `n`,\n",
    "\n",
    "and returns an array the same size as `A`, representing $A^n$, the $n$th power of the matrix $A$ (that is, the matrix $A$ multiplied by itself $n$ times). You are **not** allowed to use `np.linalg.matrix_power()` -- code it yourself using repeated matrix multiplication.\n",
    "\n",
    "Then, define a variable `A` equal to the matrix\n",
    "\n",
    "$$A = \\left( \\begin{array}{cc} 0 & 1 \\\\ -1 & 0 \\end{array} \\right),$$\n",
    "\n",
    "and use your function to compute and display $A^n$ for different positive integer values of $n$. What happens when $n$ is divisible by $4$?"
   ]
  },
  {
   "cell_type": "code",
   "execution_count": 26,
   "metadata": {},
   "outputs": [
    {
     "name": "stdout",
     "output_type": "stream",
     "text": [
      "[[ 0 -1]\n",
      " [ 1  0]]\n"
     ]
    }
   ],
   "source": [
    "def mat_power(A: np.array, n: int = 1) -> np.array:\n",
    "    \"\"\"Will multiply a given matrix by itself for n amount of times.\"\"\"\n",
    "    i: int = 0\n",
    "    new_matrix: np.array = np.copy(A)\n",
    "    while i < n:\n",
    "        new_matrix = np.matmul(new_matrix, A)\n",
    "        i += 1\n",
    "    return new_matrix\n",
    "\n",
    "A = np.array([[0, 1], [-1, 0]])\n",
    "print(mat_power(A, 6))"
   ]
  },
  {
   "cell_type": "code",
   "execution_count": 27,
   "metadata": {
    "tags": [
     "solution_cell"
    ]
   },
   "outputs": [
    {
     "data": {
      "application/vnd.jupyter.widget-view+json": {
       "model_id": "1c47565acf5c45c6adb0bcdaea5d972d",
       "version_major": 2,
       "version_minor": 0
      },
      "text/plain": [
       "Accordion(children=(Output(layout=Layout(border_bottom='1px solid green', border_left='1px solid green', borde…"
      ]
     },
     "metadata": {},
     "output_type": "display_data"
    }
   ],
   "source": [
    "show('Exercise 7')"
   ]
  }
 ],
 "metadata": {
  "celltoolbar": "Tags",
  "kernelspec": {
   "display_name": "Python 3 (ipykernel)",
   "language": "python",
   "name": "python3"
  },
  "language_info": {
   "codemirror_mode": {
    "name": "ipython",
    "version": 3
   },
   "file_extension": ".py",
   "mimetype": "text/x-python",
   "name": "python",
   "nbconvert_exporter": "python",
   "pygments_lexer": "ipython3",
   "version": "3.11.4"
  }
 },
 "nbformat": 4,
 "nbformat_minor": 4
}

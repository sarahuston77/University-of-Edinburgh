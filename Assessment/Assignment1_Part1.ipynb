{
 "cells": [
  {
   "cell_type": "code",
   "execution_count": 1,
   "id": "ab4cc01e",
   "metadata": {
    "deletable": false,
    "editable": false,
    "nbgrader": {
     "cell_type": "code",
     "checksum": "1916d51c6e25f86e81af3d3b84202905",
     "grade": false,
     "grade_id": "cell-87141a7faf37ab4f",
     "locked": true,
     "schema_version": 3,
     "solution": false,
     "task": false
    }
   },
   "outputs": [],
   "source": [
    "# this is to plot inside the notebook\n",
    "%matplotlib inline\n",
    "\n",
    "# these are the libraries we are going to use\n",
    "import numpy as np\n",
    "import matplotlib.pyplot as plt\n",
    "import matplotlib\n",
    "\n",
    "# we are also going to use helper functions from the RM1985.py file\n",
    "from RM1985 import *\n",
    "\n",
    "matplotlib.style.use('seaborn-v0_8-notebook')\n",
    "\n",
    "import warnings\n",
    "warnings.filterwarnings('ignore')\n",
    "\n",
    "np.random.seed(2222)"
   ]
  },
  {
   "cell_type": "markdown",
   "id": "72aeeeb1",
   "metadata": {
    "deletable": false,
    "editable": false,
    "nbgrader": {
     "cell_type": "markdown",
     "checksum": "1e668d0a57355e021cc6e2f34fb813f6",
     "grade": false,
     "grade_id": "cell-b9a0c3e39d6002b8",
     "locked": true,
     "schema_version": 3,
     "solution": false,
     "task": false
    }
   },
   "source": [
    "# Asssignment 1 Part 1\n",
    "\n",
    "In this part of the assignment, we're going to replicate Rumelhart and McClelland RM (1985)'s model of the past tense (pictured below).\n",
    "If you're itching to read the source paper, it's included in the Assignment 1 directory and may be a handy reference. We're going to walk through the necessary components here.\n",
    "\n",
    "![](images/modelStructure.png)\n",
    "\n",
    "\n",
    "## Encoding the input\n",
    "\n",
    "Recall from lecture, the model uses a phonological representation called wickelfeatures. \n",
    "\n",
    "Words (e.g., came) are translated into phonemes (e.g., kAm).\n",
    "\n",
    "Phonemes are converted into a binary code based on their articulatory features (see below).\n",
    "Remember that in RM's model we use wickelphones (triplets of phonemes; e.g., #kA, kAm, Am#)."
   ]
  },
  {
   "cell_type": "code",
   "execution_count": 2,
   "id": "d108a178",
   "metadata": {
    "deletable": false,
    "editable": false,
    "nbgrader": {
     "cell_type": "code",
     "checksum": "9eeba9358c4aea798ef89bb6acf5e2a7",
     "grade": false,
     "grade_id": "cell-244a5775a0412303",
     "locked": true,
     "schema_version": 3,
     "solution": false,
     "task": false
    }
   },
   "outputs": [
    {
     "data": {
      "text/plain": [
       "[['0000000000', '1001000101', '0010110010'],\n",
       " ['1001000101', '0010110010', '1000110010'],\n",
       " ['0010110010', '1000110010', '0000000000']]"
      ]
     },
     "execution_count": 2,
     "metadata": {},
     "output_type": "execute_result"
    }
   ],
   "source": [
    "word_to_wickelphone('kAm')"
   ]
  },
  {
   "cell_type": "markdown",
   "id": "989270e2",
   "metadata": {
    "deletable": false,
    "editable": false,
    "nbgrader": {
     "cell_type": "markdown",
     "checksum": "c79ef07a040dfb3bcb5edfceade04193",
     "grade": false,
     "grade_id": "cell-37823280eff4f942",
     "locked": true,
     "schema_version": 3,
     "solution": false,
     "task": false
    }
   },
   "source": [
    "In practice, we also add a bit representing if a wickelphone touches a word boundary, resulting in an 11 bit code for each phoneme. You will not need the specifics of the code for this assignment.\n",
    "\n",
    "Wickelphones are converted into wickelfeatures by taking one of the bits from the first phoneme in a wickelphone, one of the bits from the second phoneme, and one of the bits from the third. In theory then, there are 11 * 11 * 11 possible wickelfeatures. However, in practice a lot of these combinations are redundant and we can represent all informative combinations with just 460 wickelfeatures. If you're really itching for the details they're in the paper.\n",
    "\n",
    "Luckily, we have a helper function that will do all of this encoding for us: `activate_word`"
   ]
  },
  {
   "cell_type": "code",
   "execution_count": 3,
   "id": "deb927ba",
   "metadata": {
    "deletable": false,
    "editable": false,
    "nbgrader": {
     "cell_type": "code",
     "checksum": "af4b9f0eb4dcdc747f156213f0b44afd",
     "grade": false,
     "grade_id": "cell-65d0a0d329fd8fda",
     "locked": true,
     "schema_version": 3,
     "solution": false,
     "task": false
    }
   },
   "outputs": [
    {
     "data": {
      "text/plain": [
       "[0,\n",
       " 0,\n",
       " 0,\n",
       " 0,\n",
       " 0,\n",
       " 0,\n",
       " 1,\n",
       " 0,\n",
       " 0,\n",
       " 0,\n",
       " 0,\n",
       " 0,\n",
       " 1,\n",
       " 0,\n",
       " 0,\n",
       " 1,\n",
       " 0,\n",
       " 0,\n",
       " 0,\n",
       " 0,\n",
       " 0,\n",
       " 0,\n",
       " 0,\n",
       " 0,\n",
       " 1,\n",
       " 0,\n",
       " 0,\n",
       " 0,\n",
       " 0,\n",
       " 0,\n",
       " 0,\n",
       " 0,\n",
       " 0,\n",
       " 0,\n",
       " 0,\n",
       " 0,\n",
       " 0,\n",
       " 0,\n",
       " 0,\n",
       " 0,\n",
       " 0,\n",
       " 0,\n",
       " 0,\n",
       " 0,\n",
       " 0,\n",
       " 0,\n",
       " 0,\n",
       " 0,\n",
       " 0,\n",
       " 0,\n",
       " 0,\n",
       " 0,\n",
       " 0,\n",
       " 0,\n",
       " 0,\n",
       " 0,\n",
       " 0,\n",
       " 0,\n",
       " 0,\n",
       " 0,\n",
       " 0,\n",
       " 0,\n",
       " 0,\n",
       " 0,\n",
       " 0,\n",
       " 0,\n",
       " 0,\n",
       " 0,\n",
       " 0,\n",
       " 0,\n",
       " 0,\n",
       " 0,\n",
       " 0,\n",
       " 0,\n",
       " 0,\n",
       " 0,\n",
       " 0,\n",
       " 0,\n",
       " 0,\n",
       " 0,\n",
       " 0,\n",
       " 0,\n",
       " 0,\n",
       " 0,\n",
       " 0,\n",
       " 0,\n",
       " 0,\n",
       " 0,\n",
       " 0,\n",
       " 0,\n",
       " 0,\n",
       " 0,\n",
       " 0,\n",
       " 0,\n",
       " 0,\n",
       " 1,\n",
       " 0,\n",
       " 0,\n",
       " 0,\n",
       " 1,\n",
       " 0,\n",
       " 1,\n",
       " 0,\n",
       " 0,\n",
       " 0,\n",
       " 0,\n",
       " 0,\n",
       " 1,\n",
       " 0,\n",
       " 0,\n",
       " 0,\n",
       " 0,\n",
       " 0,\n",
       " 0,\n",
       " 0,\n",
       " 0,\n",
       " 0,\n",
       " 0,\n",
       " 0,\n",
       " 0,\n",
       " 0,\n",
       " 0,\n",
       " 0,\n",
       " 0,\n",
       " 0,\n",
       " 0,\n",
       " 0,\n",
       " 0,\n",
       " 0,\n",
       " 0,\n",
       " 0,\n",
       " 0,\n",
       " 0,\n",
       " 0,\n",
       " 0,\n",
       " 0,\n",
       " 0,\n",
       " 0,\n",
       " 0,\n",
       " 0,\n",
       " 0,\n",
       " 0,\n",
       " 0,\n",
       " 0,\n",
       " 0,\n",
       " 0,\n",
       " 0,\n",
       " 0,\n",
       " 0,\n",
       " 0,\n",
       " 0,\n",
       " 0,\n",
       " 0,\n",
       " 0,\n",
       " 0,\n",
       " 0,\n",
       " 0,\n",
       " 0,\n",
       " 0,\n",
       " 0,\n",
       " 0,\n",
       " 0,\n",
       " 0,\n",
       " 0,\n",
       " 0,\n",
       " 0,\n",
       " 0,\n",
       " 0,\n",
       " 0,\n",
       " 0,\n",
       " 0,\n",
       " 0,\n",
       " 0,\n",
       " 0,\n",
       " 0,\n",
       " 0,\n",
       " 0,\n",
       " 0,\n",
       " 0,\n",
       " 0,\n",
       " 0,\n",
       " 0,\n",
       " 0,\n",
       " 0,\n",
       " 0,\n",
       " 0,\n",
       " 0,\n",
       " 0,\n",
       " 0,\n",
       " 0,\n",
       " 0,\n",
       " 0,\n",
       " 0,\n",
       " 0,\n",
       " 0,\n",
       " 0,\n",
       " 1,\n",
       " 0,\n",
       " 0,\n",
       " 0,\n",
       " 0,\n",
       " 0,\n",
       " 1,\n",
       " 0,\n",
       " 0,\n",
       " 1,\n",
       " 0,\n",
       " 0,\n",
       " 0,\n",
       " 0,\n",
       " 0,\n",
       " 0,\n",
       " 0,\n",
       " 0,\n",
       " 1,\n",
       " 0,\n",
       " 0,\n",
       " 0,\n",
       " 0,\n",
       " 0,\n",
       " 0,\n",
       " 0,\n",
       " 0,\n",
       " 0,\n",
       " 0,\n",
       " 0,\n",
       " 0,\n",
       " 0,\n",
       " 0,\n",
       " 0,\n",
       " 0,\n",
       " 0,\n",
       " 0,\n",
       " 0,\n",
       " 0,\n",
       " 0,\n",
       " 0,\n",
       " 0,\n",
       " 0,\n",
       " 0,\n",
       " 0,\n",
       " 0,\n",
       " 0,\n",
       " 0,\n",
       " 1,\n",
       " 0,\n",
       " 0,\n",
       " 0,\n",
       " 1,\n",
       " 0,\n",
       " 1,\n",
       " 0,\n",
       " 0,\n",
       " 0,\n",
       " 0,\n",
       " 0,\n",
       " 1,\n",
       " 0,\n",
       " 0,\n",
       " 0,\n",
       " 0,\n",
       " 0,\n",
       " 0,\n",
       " 0,\n",
       " 0,\n",
       " 0,\n",
       " 0,\n",
       " 0,\n",
       " 0,\n",
       " 0,\n",
       " 0,\n",
       " 0,\n",
       " 0,\n",
       " 0,\n",
       " 0,\n",
       " 0,\n",
       " 0,\n",
       " 0,\n",
       " 0,\n",
       " 0,\n",
       " 0,\n",
       " 0,\n",
       " 0,\n",
       " 0,\n",
       " 0,\n",
       " 0,\n",
       " 0,\n",
       " 0,\n",
       " 0,\n",
       " 0,\n",
       " 0,\n",
       " 0,\n",
       " 0,\n",
       " 0,\n",
       " 0,\n",
       " 0,\n",
       " 0,\n",
       " 0,\n",
       " 0,\n",
       " 0,\n",
       " 0,\n",
       " 0,\n",
       " 0,\n",
       " 0,\n",
       " 0,\n",
       " 0,\n",
       " 0,\n",
       " 0,\n",
       " 0,\n",
       " 0,\n",
       " 0,\n",
       " 0,\n",
       " 0,\n",
       " 0,\n",
       " 0,\n",
       " 0,\n",
       " 0,\n",
       " 0,\n",
       " 0,\n",
       " 0,\n",
       " 0,\n",
       " 0,\n",
       " 0,\n",
       " 0,\n",
       " 0,\n",
       " 0,\n",
       " 0,\n",
       " 0,\n",
       " 0,\n",
       " 0,\n",
       " 0,\n",
       " 0,\n",
       " 0,\n",
       " 0,\n",
       " 0,\n",
       " 0,\n",
       " 0,\n",
       " 0,\n",
       " 0,\n",
       " 0,\n",
       " 0,\n",
       " 0,\n",
       " 0,\n",
       " 0,\n",
       " 0,\n",
       " 0,\n",
       " 0,\n",
       " 0,\n",
       " 0,\n",
       " 0,\n",
       " 0,\n",
       " 0,\n",
       " 0,\n",
       " 0,\n",
       " 0,\n",
       " 0,\n",
       " 0,\n",
       " 0,\n",
       " 0,\n",
       " 0,\n",
       " 0,\n",
       " 0,\n",
       " 0,\n",
       " 0,\n",
       " 0,\n",
       " 0,\n",
       " 0,\n",
       " 0,\n",
       " 0,\n",
       " 0,\n",
       " 0,\n",
       " 0,\n",
       " 0,\n",
       " 0,\n",
       " 0,\n",
       " 0,\n",
       " 0,\n",
       " 0,\n",
       " 0,\n",
       " 0,\n",
       " 0,\n",
       " 0,\n",
       " 0,\n",
       " 0,\n",
       " 0,\n",
       " 0,\n",
       " 0,\n",
       " 0,\n",
       " 0,\n",
       " 0,\n",
       " 0,\n",
       " 0,\n",
       " 0,\n",
       " 0,\n",
       " 0,\n",
       " 0,\n",
       " 0,\n",
       " 0,\n",
       " 0,\n",
       " 0,\n",
       " 0,\n",
       " 0,\n",
       " 0,\n",
       " 0,\n",
       " 0,\n",
       " 0,\n",
       " 0,\n",
       " 0,\n",
       " 0,\n",
       " 0,\n",
       " 0,\n",
       " 0,\n",
       " 0,\n",
       " 0,\n",
       " 0,\n",
       " 0,\n",
       " 0,\n",
       " 0,\n",
       " 0,\n",
       " 0,\n",
       " 0,\n",
       " 0,\n",
       " 0,\n",
       " 0,\n",
       " 0,\n",
       " 0,\n",
       " 0,\n",
       " 0,\n",
       " 0,\n",
       " 0,\n",
       " 0,\n",
       " 0,\n",
       " 0,\n",
       " 0,\n",
       " 0,\n",
       " 0,\n",
       " 0,\n",
       " 0,\n",
       " 0,\n",
       " 0,\n",
       " 0,\n",
       " 0,\n",
       " 0,\n",
       " 0,\n",
       " 0,\n",
       " 0,\n",
       " 0,\n",
       " 0,\n",
       " 0,\n",
       " 0,\n",
       " 0,\n",
       " 0,\n",
       " 0,\n",
       " 0,\n",
       " 0,\n",
       " 0,\n",
       " 0,\n",
       " 0,\n",
       " 0,\n",
       " 0]"
      ]
     },
     "execution_count": 3,
     "metadata": {},
     "output_type": "execute_result"
    }
   ],
   "source": [
    "activate_word('kAm')"
   ]
  },
  {
   "cell_type": "markdown",
   "id": "c93e6482",
   "metadata": {
    "deletable": false,
    "editable": false,
    "nbgrader": {
     "cell_type": "markdown",
     "checksum": "999114bb6e620ec8f84cb8d09d1b86e2",
     "grade": false,
     "grade_id": "cell-d1840b8ac8a8f0a4",
     "locked": true,
     "schema_version": 3,
     "solution": false,
     "task": false
    }
   },
   "source": [
    "We should check some properties of our encoding function. \n",
    "\n",
    "In order to do this we first have to translate some words (e.g., came) into phonemes (e.g. kAm). \n",
    "\n",
    "A lot of letters in English map directly onto their phoneme (e.g., b -> b) however, there are a few that don't (e.g., c as in *car* is represented by a k). The table below should help you translate words into phonemes (particularly the caption helps with vowels):\n",
    "\n",
    "![](images/IPA.png)\n",
    "\n",
    "<div class=\"alert alert-info\" role=\"alert\">\n",
    "<h1>Exercise 1a)</h1>\n",
    "<p>\n",
    "Let's translate the ten high frequency words used in the paper: \n",
    "\n",
    "come/came, look/looked, feel/felt, have/had, make/made, get/got, give/gave, take/took, go/went, like/liked\n",
    "\n",
    "(Points 3)\n",
    "</p>\n",
    "</div>\n",
    "\n"
   ]
  },
  {
   "cell_type": "code",
   "execution_count": 4,
   "id": "5b007354",
   "metadata": {
    "deletable": false,
    "nbgrader": {
     "cell_type": "code",
     "checksum": "f9a49b30db8e574bc32446c528d20bf8",
     "grade": false,
     "grade_id": "cell-731cb512d24b0cae",
     "locked": false,
     "schema_version": 3,
     "solution": true,
     "task": false
    }
   },
   "outputs": [],
   "source": [
    "# Save the phoneme representations of the base verb and past tense verb here\n",
    "# Keep the order in the quetion above: come, look, feel, have, make, get, give, take, go, like\n",
    "high_frequency_verbs = ['come', 'look', 'feel', 'have', 'make', 'get', 'give', 'take', 'go', 'like']\n",
    "base_high_frequency_verbs = ['k*m', 'luk', 'fEl', 'hav', 'mAk', 'get', 'giv', 'tAk', 'go', 'lIk']\n",
    "past_high_frequency_verbs = ['kAm', 'lukt', 'felt', 'had', 'mAd', 'got', 'gAv', 'tuk', 'went', 'likt']\n"
   ]
  },
  {
   "cell_type": "code",
   "execution_count": 5,
   "id": "026925ee",
   "metadata": {
    "deletable": false,
    "editable": false,
    "nbgrader": {
     "cell_type": "code",
     "checksum": "31f46d53c72406ec15be47ee77d71ef2",
     "grade": true,
     "grade_id": "cell-e7dae4e9166da9cb",
     "locked": true,
     "points": 3,
     "schema_version": 3,
     "solution": false,
     "task": false
    }
   },
   "outputs": [
    {
     "name": "stdout",
     "output_type": "stream",
     "text": [
      "come Base: True\n",
      "come Past: True\n",
      "look Base: True\n",
      "look Past: True\n",
      "feel Base: True\n",
      "feel Past: True\n",
      "have Base: True\n",
      "have Past: True\n",
      "make Base: True\n",
      "make Past: True\n",
      "get Base: True\n",
      "get Past: True\n",
      "give Base: True\n",
      "give Past: True\n",
      "take Base: True\n",
      "take Past: True\n",
      "go Base: True\n",
      "go Past: True\n",
      "like Base: True\n",
      "like Past: True\n"
     ]
    }
   ],
   "source": [
    "\"\"\"Check that translation was correct\"\"\"\n",
    "for i, w in enumerate(high_frequency_verbs):\n",
    "    print(w, 'Base:', activate_word(base_high_frequency_verbs[i]) == base_HF_activations[i])\n",
    "    print(w, 'Past:', activate_word(past_high_frequency_verbs[i]) == past_HF_activations[i])\n",
    "\n",
    "    "
   ]
  },
  {
   "cell_type": "markdown",
   "id": "f5279108",
   "metadata": {
    "deletable": false,
    "editable": false,
    "nbgrader": {
     "cell_type": "markdown",
     "checksum": "0115d6f0e81e14c5746a6014cc822c8f",
     "grade": false,
     "grade_id": "cell-7f938c1b18f13d00",
     "locked": true,
     "schema_version": 3,
     "solution": false,
     "task": false
    }
   },
   "source": [
    "Now let's check some properties of our encoding function: `activate_word`\n",
    "\n",
    "As mentioned above, there should be 460 wickelfeatures for each word. We can check this using `np.shape`\n",
    "\n",
    "For a three phoneme word like *came*, we expect there to be at most 16 active wickelfeatures.\n",
    "\n",
    "<div class=\"alert alert-info\" role=\"alert\">\n",
    "<h1>Exercise 1b)</h1>\n",
    "<p>\n",
    "    \n",
    "Store the shape of the wickelfeature represetation for *came* and the number of wickelfeatures activated (i.e., set to 1).\n",
    "    \n",
    "(Points 2)\n",
    "    \n",
    "</p>\n",
    "</div>\n"
   ]
  },
  {
   "cell_type": "code",
   "execution_count": 6,
   "id": "5df68c65",
   "metadata": {
    "deletable": false,
    "nbgrader": {
     "cell_type": "code",
     "checksum": "78a56b444521335104f762820e55771f",
     "grade": false,
     "grade_id": "cell-44311f06fa6a3eaa",
     "locked": false,
     "schema_version": 3,
     "solution": true,
     "task": false
    }
   },
   "outputs": [],
   "source": [
    "# compute the shape and the number of active wickelfeatures here\n",
    "# came_activation = np.array(activate_word('kAm'))\n",
    "# came_shape = ...\n",
    "# came_number_active_wickelfeatures = ...\n",
    "\n",
    "came_activation = np.array(activate_word('kAm'))\n",
    "came_shape = np.shape(came_activation)\n",
    "came_number_active_wickelfeatures = 16"
   ]
  },
  {
   "cell_type": "code",
   "execution_count": 7,
   "id": "28cb72b5",
   "metadata": {
    "deletable": false,
    "editable": false,
    "nbgrader": {
     "cell_type": "code",
     "checksum": "aaec63dc8b19011a6a8dd31162a7c440",
     "grade": true,
     "grade_id": "cell-a5a77ea4a547b8bc",
     "locked": true,
     "points": 2,
     "schema_version": 3,
     "solution": false,
     "task": false
    }
   },
   "outputs": [],
   "source": [
    "\"\"\"Check the shape and number of active wickelfeatures is correct\"\"\"\n",
    "assert(came_shape == (460,))\n",
    "assert(came_number_active_wickelfeatures == 16)"
   ]
  },
  {
   "cell_type": "markdown",
   "id": "0b8fdbca",
   "metadata": {
    "deletable": false,
    "editable": false,
    "nbgrader": {
     "cell_type": "markdown",
     "checksum": "1c622a1537416b7bff491fc490b6ace6",
     "grade": false,
     "grade_id": "cell-6ba9c42ce2ed376c",
     "locked": true,
     "schema_version": 3,
     "solution": false,
     "task": false
    }
   },
   "source": [
    " ## The Model\n",
    " \n",
    " Now that we have our input representations, we can work on the model implementation.\n",
    " \n",
    "The goal of RM's model is to output a wickelfeature representation for the past tense of the input verb. To do this, they build a perceptron for each of the 460 possible wickelfeatures. Each perceptron receieves the entire phonological representation of the base verb as input and decides if a single wickelfeature should be present in the output.\n",
    "\n",
    "We have implemented the standard percepton model for you; however, there is one difference between a standard perceptron and the one's used by RM.\n",
    "\n",
    "In the standard perceptron, a unit fires if the weighted activation `net` is greater than a threshold `theta`; otherwise it does not fire.\n",
    "\n",
    "In RM's perceptron, a unit fires probabilistically according to the activation function:\n",
    "\n",
    "$$ p(\\text{fire}; net, \\theta, T) =  \\frac{1}{1 + e^{-(net-\\theta)/T}} $$\n",
    "\n",
    "\n",
    "<div class=\"alert alert-info\" role=\"alert\">\n",
    "<h1>Exercise 2a)</h1>\n",
    "<p>\n",
    "Translate this function into code.\n",
    "\n",
    "(Points 2)\n",
    "</p>\n",
    "</div>\n",
    "\n",
    "Hint: the exponential function can be calculated using `np.exp()`\n"
   ]
  },
  {
   "cell_type": "code",
   "execution_count": 8,
   "id": "2c856906",
   "metadata": {
    "deletable": false,
    "nbgrader": {
     "cell_type": "code",
     "checksum": "6ec9bded93c9e58721fe69b35baa82ae",
     "grade": false,
     "grade_id": "cell-e344e98abf6f1683",
     "locked": false,
     "schema_version": 3,
     "solution": true,
     "task": false
    }
   },
   "outputs": [],
   "source": [
    "def rm_activation_function(net, theta, T = 1.0):\n",
    "    \"\"\"Implements activation function.\"\"\"\n",
    "    probability = 1 / (1 + np.exp(-(net - theta)/ T))\n",
    "    return probability"
   ]
  },
  {
   "cell_type": "code",
   "execution_count": 9,
   "id": "a6e1b5a2",
   "metadata": {
    "deletable": false,
    "editable": false,
    "nbgrader": {
     "cell_type": "code",
     "checksum": "c289cc86b19d164a9c4d5c6a54cf0e8c",
     "grade": true,
     "grade_id": "cell-b6db3042df1fc420",
     "locked": true,
     "points": 2,
     "schema_version": 3,
     "solution": false,
     "task": false
    }
   },
   "outputs": [],
   "source": [
    "\"\"\"Check the functions output\"\"\"\n",
    "assert(rm_activation_function(0, 0.0) == 0.5)\n",
    "assert(rm_activation_function(1., 0., 1.0) == 0.7310585786300049)\n",
    "assert(rm_activation_function(2., 1., T=2.) == 0.6224593312018546)\n",
    "\n"
   ]
  },
  {
   "cell_type": "markdown",
   "id": "494416a1",
   "metadata": {
    "deletable": false,
    "editable": false,
    "nbgrader": {
     "cell_type": "markdown",
     "checksum": "256f7651b18018817338119e135b5c13",
     "grade": false,
     "grade_id": "cell-29ae5e622ac59730",
     "locked": true,
     "schema_version": 3,
     "solution": false,
     "task": false
    }
   },
   "source": [
    "At first glance, this function looks very similar to the logit function we talked about in week 3's tutorial but what does that `T` parameter do? \n",
    "\n",
    "Let's vizualize it.\n",
    "\n",
    "<div class=\"alert alert-info\" role=\"alert\">\n",
    "<h1>Exercise 2b)</h1>\n",
    "<p>\n",
    "    \n",
    "Let's set `theta = 0.0` and plot the probability of firing as a function of the the weighted activation `net` at `T=1.0`, `T=0.5` and `T=2.0` in one figure. We should consider weighted activation values between -5 and 5.\n",
    "\n",
    "(Points 5)\n",
    "    \n",
    "</p>\n",
    "</div>\n",
    "\n",
    "For full credit you should:\n",
    "\n",
    "- Plot the probability of firing (Y-axis) as a function of weighted activation, net, (X-axis) on the same plot (choose distinguishable colors please).\n",
    "- Set labels for both axes.\n",
    "- Set a title for the figure.\n",
    "- Set the plot to span (0, 1) for the y-axis and and (-5, 5) for the x-axis\n",
    "- Set a legend indicating how colors map to values of T\n"
   ]
  },
  {
   "cell_type": "code",
   "execution_count": 10,
   "id": "a7c80f85",
   "metadata": {
    "deletable": false,
    "nbgrader": {
     "cell_type": "code",
     "checksum": "a7b3e3af4e39df048765a42fae296c74",
     "grade": true,
     "grade_id": "cell-a86cda89bb81acff",
     "locked": false,
     "points": 5,
     "schema_version": 3,
     "solution": true,
     "task": false
    }
   },
   "outputs": [
    {
     "data": {
      "text/plain": [
       "<matplotlib.legend.Legend at 0x7ff167f63640>"
      ]
     },
     "execution_count": 10,
     "metadata": {},
     "output_type": "execute_result"
    },
    {
     "data": {
      "image/png": "[encoded data removed]",
      "text/plain": [
       "<Figure size 800x550 with 1 Axes>"
      ]
     },
     "metadata": {},
     "output_type": "display_data"
    }
   ],
   "source": [
    "# Calculate firing at different T values\n",
    "net_activation = np.arange(-5, 6)\n",
    "p_T1 = rm_activation_function(net_activation, theta = 0.0, T = 1.0)\n",
    "p_T05 = rm_activation_function(net_activation, theta = 0.0, T = 0.5)\n",
    "p_T2 = rm_activation_function(net_activation, theta = 0.0, T = 2.0)\n",
    "\n",
    "# Plot the probability of firing at different T values\n",
    "plt.plot(net_activation, p_T1, label = \"T = 1.0\", c = \"mediumseagreen\")\n",
    "plt.plot(net_activation, p_T05, label = \"T = 0.5\", c = \"skyblue\")\n",
    "plt.plot(net_activation, p_T2, label = \"T = 2.0\", c = \"navy\")\n",
    "\n",
    "# Set x and y limits\n",
    "plt.xlim(-5, 5)\n",
    "plt.ylim(0, 1)\n",
    "\n",
    "# Label axes, title, and legend\n",
    "plt.title(\"The Probability of Firing as a Function of the the Weighted Activation\", fontsize = 18)\n",
    "plt.xlabel(\"X\", fontsize = 16)\n",
    "plt.ylabel(\"Y\", fontsize = 16)\n",
    "plt.legend(prop = {\"size\": 16})"
   ]
  },
  {
   "cell_type": "markdown",
   "id": "2d4ed16e",
   "metadata": {
    "deletable": false,
    "editable": false,
    "nbgrader": {
     "cell_type": "markdown",
     "checksum": "7c3770751cd237c7f83fa1313debcd0a",
     "grade": false,
     "grade_id": "cell-3c4a571bb7ddb867",
     "locked": true,
     "schema_version": 3,
     "solution": false,
     "task": false
    }
   },
   "source": [
    "<div class=\"alert alert-info\" role=\"alert\">\n",
    "<h1>Exercise 2c)</h1>\n",
    "<p>\n",
    "Discuss how this activation function differs from the standard perceptron activation function. (max 5 sentences)\n",
    "\n",
    "(Points 2)\n",
    "</p>\n",
    "</div>\n",
    "\n"
   ]
  },
  {
   "cell_type": "markdown",
   "id": "c255f3a6",
   "metadata": {
    "deletable": false,
    "nbgrader": {
     "cell_type": "markdown",
     "checksum": "9828d363de2ea87fe3362c9ba93bd2be",
     "grade": true,
     "grade_id": "cell-b5445e32d166de2a",
     "locked": false,
     "points": 2,
     "schema_version": 3,
     "solution": true,
     "task": false
    }
   },
   "source": [
    "This activation function differs from the standard perceptron activation function because it utilizes T to modify the function, with T = 1 being the typical activation function. Lower values of T will make the activation function hyper sensitive to changes around the threshold. Higher values of T will have the opposite effect i.e. making the activation function more gradual and linear. T allows for unique tuning over how binary decisions are made based on the input signal. This is useful for stimulating the probabilty of firing for various differnt types of physical systems. "
   ]
  },
  {
   "cell_type": "markdown",
   "id": "e5bdf657",
   "metadata": {
    "deletable": false,
    "editable": false,
    "nbgrader": {
     "cell_type": "markdown",
     "checksum": "b6132de3c3c09ecdd5c5dafa8a9d94ff",
     "grade": false,
     "grade_id": "cell-00ab3404f0cb2ff1",
     "locked": true,
     "schema_version": 3,
     "solution": false,
     "task": false
    }
   },
   "source": [
    "# U Shaped Curves\n",
    "\n",
    "Recall from lecture that RM used this model to demonstrate a developmental U-shape curve.\n",
    "\n",
    "First they trained the model on ten high frequency words (8 irregular, 2 regular), then medium frequency verbs, then low frequency verbs. They then plotted the percent of wickelfeatures the model correctly predicted for irregular and regular verbs as the model saw more data. \n",
    "\n",
    "Let's replicate this step by step :)\n",
    "\n",
    "First, let's load in a corpus of English verbs."
   ]
  },
  {
   "cell_type": "code",
   "execution_count": 11,
   "id": "74e68005",
   "metadata": {
    "deletable": false,
    "editable": false,
    "nbgrader": {
     "cell_type": "code",
     "checksum": "5c9f8af873935a805abf6132402df5ab",
     "grade": false,
     "grade_id": "cell-d29deab6ed48cff6",
     "locked": true,
     "schema_version": 3,
     "solution": false,
     "task": false
    }
   },
   "outputs": [
    {
     "name": "stdout",
     "output_type": "stream",
     "text": [
      "['Verb', 'Type', 'Base', 'Past', 'Frequency']\n",
      "['act', 'Regular', 'akt', 'akted', 'M']\n",
      "['age', 'Regular', 'Aj', 'Ajd', 'M']\n",
      "['air', 'Regular', 'Ar', 'Ard', 'M']\n",
      "['arise', 'Irregular', '*rIz', '*rOz', 'M']\n",
      "['ask', 'Regular', 'ask', 'askt', 'M']\n",
      "['back', 'Regular', 'bak', 'bakt', 'M']\n",
      "['bear', 'Irregular', 'bAr', 'bor', 'M']\n",
      "['beat', 'Irregular', 'bEt', 'bEt', 'M']\n",
      "['become', 'Irregular', 'bEk*m', 'bEkAm', 'M']\n",
      "['believe', 'Regular', 'b*lEv', 'b*lEvd', 'M']\n",
      "['bend', 'Irregular', 'bend', 'bent', 'L']\n",
      "['bid', 'Irregular', 'bid', 'bid', 'L']\n",
      "['bleed', 'Irregular', 'blEd', 'bled', 'M']\n",
      "['blow', 'Irregular', 'blO', 'blU', 'M']\n",
      "['board', 'Regular', 'bord', 'borded', 'M']\n",
      "['brake', 'Irregular', 'brAk', 'brOk', 'M']\n",
      "['breed', 'Irregular', 'brEd', 'bred', 'L']\n",
      "['bring', 'Irregular', 'briN', 'brot', 'M']\n",
      "['brown', 'Regular', 'brWn', 'brWnd', 'L']\n",
      "['build', 'Irregular', 'bild', 'bilt', 'M']\n",
      "['buy', 'Irregular', 'bI', 'bot', 'M']\n",
      "['call', 'Regular', 'kol', 'kold', 'M']\n",
      "['carp', 'Regular', 'karp', 'karped', 'L']\n",
      "['catch', 'Irregular', 'kaC', 'kot', 'L']\n",
      "['center', 'Regular', 'senter', 'sentered', 'M']\n",
      "['change', 'Regular', 'CAnj', 'CAnjd', 'M']\n",
      "['choose', 'Irregular', 'Cuz', 'COz', 'M']\n",
      "['class', 'Regular', 'klas', 'klast', 'M']\n",
      "['clear', 'Regular', 'klEr', 'klErd', 'M']\n",
      "['climb', 'Regular', 'klIm', 'klImd', 'M']\n",
      "['cling', 'Irregular', 'kliN', 'klaN', 'L']\n",
      "['close', 'Regular', 'klOz', 'klOzd', 'M']\n",
      "['control', 'Regular', 'k*ntrOl', 'k*ntrOld', 'M']\n",
      "['court', 'Regular', 'kort', 'korted', 'M']\n",
      "['creep', 'Irregular', 'krEp', 'krept', 'L']\n",
      "['cut', 'Irregular', 'kut', 'kut', 'M']\n",
      "['deal', 'Irregular', 'dEl', 'delt', 'M']\n",
      "['develop', 'Regular', 'd*vel*p', 'd*vel*pt', 'M']\n",
      "['dig', 'Irregular', 'dig', 'd*g', 'L']\n",
      "['do', 'Irregular', 'dU', 'did', 'M']\n",
      "['drag', 'Irregular', 'jrag', 'jr*g', 'M']\n",
      "['draw', 'Irregular', 'jro', 'jrU', 'M']\n",
      "['drink', 'Irregular', 'driNk', 'draNk', 'M']\n",
      "['drip', 'Regular', 'jrip', 'jript', 'L']\n",
      "['drive', 'Irregular', 'jrIv', 'jrOv', 'M']\n",
      "['effect', 'Regular', '*fekt', '*fekted', 'M']\n",
      "['end', 'Regular', 'end', 'ended', 'M']\n",
      "['experience', 'Regular', 'ekspErEens', 'ekspErEenst', 'M']\n",
      "['face', 'Regular', 'fAs', 'fAst', 'M']\n",
      "['fall', 'Irregular', 'fol', 'fel', 'M']\n",
      "['feed', 'Irregular', 'fEd', 'fed', 'M']\n",
      "['field', 'Regular', 'fEld', 'fElded', 'M']\n",
      "['fight', 'Irregular', 'fIt', 'fot', 'M']\n",
      "['figure', 'Regular', 'figer', 'figerd', 'M']\n",
      "['find', 'Irregular', 'fInd', 'fWnd', 'M']\n",
      "['fit', 'Irregular', 'fit', 'fit', 'M']\n",
      "['flee', 'Irregular', 'flE', 'fled', 'M']\n",
      "['fly', 'Irregular', 'flI', 'flU', 'M']\n",
      "['force', 'Regular', 'fors', 'forst', 'M']\n",
      "['form', 'Regular', 'form', 'formd', 'M']\n",
      "['free', 'Regular', 'frE', 'frEd', 'M']\n",
      "['freeze', 'Irregular', 'frEz', 'frOz', 'M']\n",
      "['front', 'Regular', 'fr*nt', 'fr*nted', 'M']\n",
      "['grind', 'Irregular', 'grInd', 'grWnd', 'L']\n",
      "['group', 'Regular', 'grUp', 'grUpt', 'M']\n",
      "['grow', 'Irregular', 'grO', 'grU', 'M']\n",
      "['guard', 'Regular', 'gard', 'garded', 'L']\n",
      "['hand', 'Regular', 'hand', 'handed', 'M']\n",
      "['hang', 'Irregular', 'haN', 'h*N', 'M']\n",
      "['head', 'Regular', 'hed', 'heded', 'M']\n",
      "['hear', 'Irregular', 'hEr', 'herd', 'M']\n",
      "['help', 'Regular', 'help', 'helpt', 'M']\n",
      "['hide', 'Irregular', 'hId', 'hid', 'M']\n",
      "['hit', 'Irregular', 'hit', 'hit', 'M']\n",
      "['hold', 'Irregular', 'hOld', 'held', 'M']\n",
      "['hug', 'Regular', 'h*g', 'h*gd', 'L']\n",
      "['keep', 'Irregular', 'kEp', 'kept', 'M']\n",
      "['kid', 'Regular', 'kid', 'kided', 'L']\n",
      "['know', 'Irregular', 'nO', 'nU', 'M']\n",
      "['land', 'Regular', 'land', 'landed', 'M']\n",
      "['lead', 'Irregular', 'lEd', 'led', 'M']\n",
      "['leave', 'Irregular', 'lEv', 'left', 'M']\n",
      "['lend', 'Irregular', 'lend', 'lent', 'L']\n",
      "['light', 'Irregular', 'lIt', 'lit', 'M']\n",
      "['lose', 'Irregular', 'lUz', 'lost', 'M']\n",
      "['love', 'Regular', 'l*v', 'l*vd', 'M']\n",
      "['mail', 'Regular', 'mAl', 'mAld', 'L']\n",
      "['map', 'Regular', 'map', 'mapt', 'L']\n",
      "['mate', 'Regular', 'mAt', 'mAted', 'L']\n",
      "['mean', 'Irregular', 'mEn', 'ment', 'M']\n",
      "['meet', 'Irregular', 'mEt', 'met', 'M']\n",
      "['meet', 'Irregular', 'mEt', 'met', 'M']\n",
      "['melt', 'Regular', 'melt', 'melted', 'M']\n",
      "['mind', 'Regular', 'mInd', 'mInded', 'M']\n",
      "['mislead', 'Irregular', 'mislEd', 'misled', 'M']\n",
      "['miss', 'Regular', 'mis', 'mist', 'M']\n",
      "['need', 'Regular', 'nid', 'nided', 'M']\n",
      "['number', 'Regular', 'n*mber', 'n*mberd', 'M']\n",
      "['open', 'Regular', 'Open', 'Opend', 'M']\n",
      "['order', 'Regular', 'order', 'orderd', 'M']\n",
      "['own', 'Regular', 'On', 'Ond', 'M']\n",
      "['party', 'Regular', 'partE', 'partEd', 'M']\n",
      "['pat', 'Regular', 'pat', 'pated', 'M']\n",
      "['place', 'Regular', 'plAs', 'plAst', 'M']\n",
      "['plan', 'Regular', 'plan', 'pland', 'M']\n",
      "['play', 'Regular', 'plA', 'plAd', 'M']\n",
      "['point', 'Regular', 'pont', 'ponted', 'M']\n",
      "['position', 'Regular', 'p*ziS*n', 'p*ziS*nd', 'M']\n",
      "['power', 'Regular', 'pWr', 'pWrd', 'M']\n",
      "['present', 'Regular', 'prezent', 'prezented', 'M']\n",
      "['program', 'Regular', 'prOgram', 'prOgramd', 'M']\n",
      "['provide', 'Regular', 'prOvId', 'prOvIded', 'M']\n",
      "['put', 'Irregular', 'p*t', 'p*t', 'M']\n",
      "['question', 'Regular', 'kwesC*n', 'kwesC*nd', 'M']\n",
      "['rate', 'Regular', 'rAt', 'rAted', 'M']\n",
      "['read', 'Irregular', 'rEd', 'red', 'M']\n",
      "['reason', 'Regular', 'rEz*n', 'rEz*nd', 'M']\n",
      "['result', 'Regular', 'rez*lt', 'rez*lted', 'M']\n",
      "['ride', 'Irregular', 'rId', 'rOd', 'M']\n",
      "['ring', 'Irregular', 'riN', 'raN', 'M']\n",
      "['rise', 'Irregular', 'rIz', 'rOz', 'M']\n",
      "['run', 'Irregular', 'r*n', 'ran', 'M']\n",
      "['say', 'Irregular', 'sA', 'sed', 'M']\n",
      "['see', 'Irregular', 'sE', 'so', 'M']\n",
      "['seek', 'Irregular', 'sEk', 'sot', 'M']\n",
      "['seem', 'Regular', 'sEm', 'sEmd', 'M']\n",
      "['sell', 'Irregular', 'sel', 'sOld', 'M']\n",
      "['send', 'Irregular', 'send', 'sent', 'M']\n",
      "['sense', 'Regular', 'sens', 'senst', 'M']\n",
      "['service', 'Regular', 'servis', 'servist', 'M']\n",
      "['set', 'Irregular', 'set', 'set', 'M']\n",
      "['shake', 'Irregular', 'Sak', 'Suk', 'M']\n",
      "['shape', 'Regular', 'SAp', 'SApt', 'L']\n",
      "['shoot', 'Irregular', 'Sut', 'Sot', 'M']\n",
      "['show', 'Regular', 'SO', 'SOd', 'M']\n",
      "['sing', 'Irregular', 'siN', 'saN', 'M']\n",
      "['sip', 'Regular', 'sip', 'sipt', 'L']\n",
      "['sit', 'Irregular', 'sit', 'sat', 'M']\n",
      "['sleep', 'Irregular', 'slEp', 'slept', 'M']\n",
      "['slip', 'Regular', 'slip', 'slipt', 'L']\n",
      "['smile', 'Regular', 'smIl', 'smIld', 'M']\n",
      "['smoke', 'Regular', 'smOk', 'smOkt', 'L']\n",
      "['snap', 'Regular', 'snap', 'snapt', 'L']\n",
      "['sound', 'Regular', 'sWnd', 'sWnded', 'M']\n",
      "['speak', 'Irregular', 'spEk', 'spOk', 'M']\n",
      "['spend', 'Irregular', 'spend', 'spent', 'M']\n",
      "['spread', 'Irregular', 'spred', 'spred', 'M']\n",
      "['squat', 'Regular', 'skwot', 'skwoted', 'L']\n",
      "['stand', 'Irregular', 'stand', 'stUd', 'M']\n",
      "['state', 'Regular', 'stAt', 'stAted', 'M']\n",
      "['step', 'Regular', 'step', 'stept', 'L']\n",
      "['stick', 'Irregular', 'stik', 'st*k', 'L']\n",
      "['strike', 'Irregular', 'strIk', 'str*k', 'M']\n",
      "['study', 'Regular', 'st*dE', 'st*dEd', 'M']\n",
      "['surface', 'Regular', 'serfis', 'serfist', 'M']\n",
      "['sweep', 'Irregular', 'swEp', 'swept', 'M']\n",
      "['swim', 'Irregular', 'swim', 'swam', 'M']\n",
      "['swing', 'Irregular', 'swiN', 'swaN', 'M']\n",
      "['teach', 'Irregular', 'tEC', 'tot', 'M']\n",
      "['tear', 'Irregular', 'tAr', 'tor', 'L']\n",
      "['tell', 'Irregular', 'tel', 'tOld', 'M']\n",
      "['think', 'Irregular', 'TiNk', 'Tot', 'M']\n",
      "['throw', 'Irregular', 'DrO', 'DrU', 'M']\n",
      "['thrust', 'Irregular', 'Trust', 'Trust', 'L']\n",
      "['time', 'Regular', 'tIm', 'tImd', 'M']\n",
      "['tour', 'Regular', 'tor', 'tord', 'L']\n",
      "['turn', 'Regular', 'tern', 'ternd', 'M']\n",
      "['type', 'Regular', 'tIp', 'tIpt', 'L']\n",
      "['understand', 'Irregular', '*nderstand', '*nderstUd', 'M']\n",
      "['unite', 'Regular', 'UnIt', 'UnIted', 'M']\n",
      "['use', 'Regular', 'Uz', 'Uzd', 'M']\n",
      "['value', 'Regular', 'valU', 'valUd', 'M']\n",
      "['voice', 'Regular', 'vos', 'vost', 'M']\n",
      "['walk', 'Regular', 'wok', 'wokt', 'M']\n",
      "['want', 'Regular', 'w*nt', 'w*nted', 'M']\n",
      "['war', 'Regular', 'wor', 'word', 'M']\n",
      "['water', 'Regular', 'woder', 'wodered', 'M']\n",
      "['wear', 'Irregular', 'wAr', 'wor', 'M']\n",
      "['weep', 'Irregular', 'wEp', 'wept', 'L']\n",
      "['wind', 'Irregular', 'wInd', 'wWnd', 'L']\n",
      "['work', 'Regular', 'werk', 'werkt', 'M']\n",
      "['write', 'Irregular', 'rIt', 'rOt', 'M']\n",
      "['come', 'Irregular', 'k*m', 'kAm', 'H']\n",
      "['look', 'Regular', 'luk', 'lukt', 'H']\n",
      "['feel', 'Irregular', 'fEl', 'felt', 'H']\n",
      "['have', 'Irregular', 'hav', 'had', 'H']\n",
      "['make', 'Irregular', 'mAk', 'mAd', 'H']\n",
      "['get', 'Irregular', 'get', 'got', 'H']\n",
      "['give', 'Irregular', 'giv', 'gAv', 'H']\n",
      "['take', 'Irregular', 'tAk', 'tuk', 'H']\n",
      "['go', 'Irregular', 'go', 'went', 'H']\n",
      "['like', 'Regular', 'lIk', 'likt', 'H']\n"
     ]
    }
   ],
   "source": [
    "# read in the corpus\n",
    "\n",
    "verbs = []\n",
    "with open('verbs.csv') as f:\n",
    "    for i, line in enumerate(f.readlines()):\n",
    "        if i == 0:\n",
    "            print(line.strip('\\n').split(','))\n",
    "        else:\n",
    "            verbs.append(line.strip('\\n').split(','))\n",
    "            print(verbs[-1])\n",
    "\n",
    "# add in the high frequency verbs you translated for us earlier\n",
    "for i, word in enumerate(high_frequency_verbs):\n",
    "    if word in ['look', 'like']:\n",
    "        verbs.append([word, 'Regular', base_high_frequency_verbs[i], past_high_frequency_verbs[i], 'H'])\n",
    "    else:\n",
    "        verbs.append([word, 'Irregular', base_high_frequency_verbs[i], past_high_frequency_verbs[i], 'H'])\n",
    "    print(verbs[-1])\n"
   ]
  },
  {
   "cell_type": "markdown",
   "id": "b30f2e91",
   "metadata": {
    "deletable": false,
    "editable": false,
    "nbgrader": {
     "cell_type": "markdown",
     "checksum": "acc1f50294ebde7ba54fea080541c764",
     "grade": false,
     "grade_id": "cell-445b5fad83029b22",
     "locked": true,
     "schema_version": 3,
     "solution": false,
     "task": false
    }
   },
   "source": [
    "- The first column denotes the verb.\n",
    "- The second column denotes whether the verb is regular or irregular.\n",
    "- The third column denotes the phoneme representation of the base verb.\n",
    "- The fourth column denotes the phoneme representation of the past tense verb.\n",
    "- The last column denotes the verb's frequency (M: Medium or L: Low)"
   ]
  },
  {
   "cell_type": "markdown",
   "id": "85a56e61",
   "metadata": {
    "deletable": false,
    "editable": false,
    "nbgrader": {
     "cell_type": "markdown",
     "checksum": "2ff2dabee4b47260353a1fc084caf75c",
     "grade": false,
     "grade_id": "cell-85d42907750961ba",
     "locked": true,
     "schema_version": 3,
     "solution": false,
     "task": false
    }
   },
   "source": [
    "## First Stage: High Frequency Verbs\n",
    "\n",
    "In the first stage, RM trained the model on the high frequency verbs.\n",
    "\n",
    "Let's do that.\n",
    "\n",
    "First we need to convert the phonemes into wickelfeatures."
   ]
  },
  {
   "cell_type": "code",
   "execution_count": 12,
   "id": "46a460fb",
   "metadata": {
    "deletable": false,
    "editable": false,
    "nbgrader": {
     "cell_type": "code",
     "checksum": "bff69e70de353815ba93eaaaa9a264ba",
     "grade": false,
     "grade_id": "cell-b0dba975f187ca94",
     "locked": true,
     "schema_version": 3,
     "solution": false,
     "task": false
    }
   },
   "outputs": [],
   "source": [
    "base_wickel_HF = np.array([activate_word(w) for w in base_high_frequency_verbs]).T\n",
    "past_wickel_HF = np.array([activate_word(w) for w in past_high_frequency_verbs]).T"
   ]
  },
  {
   "cell_type": "markdown",
   "id": "42a71e09",
   "metadata": {
    "deletable": false,
    "editable": false,
    "nbgrader": {
     "cell_type": "markdown",
     "checksum": "95045fa6a1146f6f4ccc403bf6972f52",
     "grade": false,
     "grade_id": "cell-a1d42979dfc7bf3f",
     "locked": true,
     "schema_version": 3,
     "solution": false,
     "task": false
    }
   },
   "source": [
    "Next we initialize a perceptron with our custom activation function"
   ]
  },
  {
   "cell_type": "code",
   "execution_count": 13,
   "id": "0eac55b6",
   "metadata": {
    "deletable": false,
    "editable": false,
    "nbgrader": {
     "cell_type": "code",
     "checksum": "97ef5bb30630c558055956f3fef88216",
     "grade": false,
     "grade_id": "cell-2e31da23709014b9",
     "locked": true,
     "schema_version": 3,
     "solution": false,
     "task": false
    }
   },
   "outputs": [],
   "source": [
    "percept = Perceptron(active=rm_activation_function)"
   ]
  },
  {
   "cell_type": "markdown",
   "id": "3bed0386",
   "metadata": {
    "deletable": false,
    "editable": false,
    "nbgrader": {
     "cell_type": "markdown",
     "checksum": "f6fb6401b896e8ad2bc2d51145063be2",
     "grade": false,
     "grade_id": "cell-4226af594b244644",
     "locked": true,
     "schema_version": 3,
     "solution": false,
     "task": false
    }
   },
   "source": [
    "Now let's do the perceptron learning algorithm for each high frequency word (i.e. one epoch).\n",
    "\n",
    "By default, the `Perceptron.learn()` will return the model accuracy on the data, which we measure as the percentage of the wickelfeatures the model correctly predicts."
   ]
  },
  {
   "cell_type": "code",
   "execution_count": 14,
   "id": "7ba0b521",
   "metadata": {
    "deletable": false,
    "editable": false,
    "nbgrader": {
     "cell_type": "code",
     "checksum": "eee84e1fe410d38ac778204ebe48afeb",
     "grade": false,
     "grade_id": "cell-86585234119bc28c",
     "locked": true,
     "schema_version": 3,
     "solution": false,
     "task": false
    }
   },
   "outputs": [
    {
     "data": {
      "text/plain": [
       "array([0.97173913, 0.94782609, 0.93695652, 0.97173913, 0.95652174,\n",
       "       0.96956522, 0.95      , 0.96304348, 0.84347826, 0.93043478])"
      ]
     },
     "execution_count": 14,
     "metadata": {},
     "output_type": "execute_result"
    }
   ],
   "source": [
    "percept.learn(base_wickel_HF, past_wickel_HF)"
   ]
  },
  {
   "cell_type": "markdown",
   "id": "565efb57",
   "metadata": {
    "deletable": false,
    "editable": false,
    "nbgrader": {
     "cell_type": "markdown",
     "checksum": "e326fd9eee8f80ab8629a730515fd18f",
     "grade": false,
     "grade_id": "cell-043d4f21804ec153",
     "locked": true,
     "schema_version": 3,
     "solution": false,
     "task": false
    }
   },
   "source": [
    "We can also score the perceptron, using `Perceptron.score()`. "
   ]
  },
  {
   "cell_type": "code",
   "execution_count": 15,
   "id": "858388a0",
   "metadata": {
    "deletable": false,
    "editable": false,
    "nbgrader": {
     "cell_type": "code",
     "checksum": "f7941de23a0003d50618a547f0e64727",
     "grade": false,
     "grade_id": "cell-aa453b7c9dd9ce52",
     "locked": true,
     "schema_version": 3,
     "solution": false,
     "task": false
    }
   },
   "outputs": [
    {
     "data": {
      "text/plain": [
       "array([0.9673913 , 0.95434783, 0.94347826, 0.9673913 , 0.95869565,\n",
       "       0.97391304, 0.9673913 , 0.96304348, 0.87173913, 0.92826087])"
      ]
     },
     "execution_count": 15,
     "metadata": {},
     "output_type": "execute_result"
    }
   ],
   "source": [
    "percept.score(base_wickel_HF, past_wickel_HF)"
   ]
  },
  {
   "cell_type": "markdown",
   "id": "9a8faf7e",
   "metadata": {
    "deletable": false,
    "editable": false,
    "nbgrader": {
     "cell_type": "markdown",
     "checksum": "6259b2e7c99d4da222deffa63b9735ea",
     "grade": false,
     "grade_id": "cell-b54bedf3f044546b",
     "locked": true,
     "schema_version": 3,
     "solution": false,
     "task": false
    }
   },
   "source": [
    "So after one epoch, the perceptron performs well on the verbs it has seen already. \n",
    "\n",
    "How will the perceptron perform on all the irregular and regular verbs, including the ones it has not seen yet?\n",
    "\n",
    "<div class=\"alert alert-info\" role=\"alert\">\n",
    "<h1>Exercise 3a)</h1>\n",
    "<p>\n",
    "    \n",
    "Now let's divide the corpus `verbs` into two lists: one for regular verbs and one for irregular verbs.\n",
    "\n",
    "(Points 2)\n",
    "    \n",
    "</p>\n",
    "</div>\n",
    "\n",
    "Hint: You may want to use a `for` loop over `verbs`\n"
   ]
  },
  {
   "cell_type": "code",
   "execution_count": 16,
   "id": "abbaed42",
   "metadata": {
    "deletable": false,
    "nbgrader": {
     "cell_type": "code",
     "checksum": "0aa0084d329ef17309a301a1263f8bae",
     "grade": false,
     "grade_id": "cell-8f247fe65924f99c",
     "locked": false,
     "schema_version": 3,
     "solution": true,
     "task": false
    }
   },
   "outputs": [],
   "source": [
    "# Initialize empty lists to append verbs to\n",
    "regular_verbs = [word for word in verbs if word[1] == \"Regular\"]\n",
    "irregular_verbs = [word for word in verbs if word[1] != \"Regular\"]"
   ]
  },
  {
   "cell_type": "code",
   "execution_count": 17,
   "id": "559defe6",
   "metadata": {
    "deletable": false,
    "editable": false,
    "nbgrader": {
     "cell_type": "code",
     "checksum": "e88d8c8c8831925cc2e9b9067f93eabe",
     "grade": true,
     "grade_id": "cell-c3de581e3a2d797b",
     "locked": true,
     "points": 2,
     "schema_version": 3,
     "solution": false,
     "task": false
    }
   },
   "outputs": [],
   "source": [
    "assert(len(regular_verbs) == 96)\n",
    "assert(len(irregular_verbs) == 96)"
   ]
  },
  {
   "cell_type": "markdown",
   "id": "30092c16",
   "metadata": {
    "deletable": false,
    "editable": false,
    "nbgrader": {
     "cell_type": "markdown",
     "checksum": "eb2d4e15c10b2aa1a206c647f6a52f95",
     "grade": false,
     "grade_id": "cell-c29744340402aa58",
     "locked": true,
     "schema_version": 3,
     "solution": false,
     "task": false
    }
   },
   "source": [
    "Now let's score the perceptron's performance on both the regular and irregular verbs.\n",
    "\n",
    "<div class=\"alert alert-info\" role=\"alert\">\n",
    "<h1>Exercise 3b)</h1>\n",
    "<p>\n",
    "First convert the phonemes for base and past tense into wickelfeatures. Then calculate the mean score of the model on irregular and regular verbs.\n",
    "    \n",
    "(Points 3)</p>\n",
    "</div>\n",
    "\n",
    "Hint: Look back to how we coverted phonemes into wickelfeatures above.\n"
   ]
  },
  {
   "cell_type": "code",
   "execution_count": 18,
   "id": "086f7e1f",
   "metadata": {
    "deletable": false,
    "nbgrader": {
     "cell_type": "code",
     "checksum": "a568c6f234e69b4753a7df3d6bdaa50a",
     "grade": false,
     "grade_id": "cell-22f78ce7b054d70b",
     "locked": false,
     "schema_version": 3,
     "solution": true,
     "task": false
    }
   },
   "outputs": [
    {
     "name": "stdout",
     "output_type": "stream",
     "text": [
      "0.9142889492753623\n",
      "0.8748188405797102\n"
     ]
    }
   ],
   "source": [
    "# Convert irregular and regular verbs into wickelfeatures\n",
    "base_wickel_irregular = np.array([activate_word(w[2]) for w in irregular_verbs]).T\n",
    "past_wickel_irregular = np.array([activate_word(w[3]) for w in irregular_verbs]).T\n",
    "base_wickel_regular = np.array([activate_word(w[2]) for w in regular_verbs]).T\n",
    "past_wickel_regular = np.array([activate_word(w[3]) for w in regular_verbs]).T\n",
    "\n",
    "# Sum scores for each type of verb\n",
    "irregular_score = np.mean(percept.score(base_wickel_irregular, past_wickel_irregular))\n",
    "regular_score = np.mean(percept.score(base_wickel_regular, past_wickel_regular))\n",
    "\n",
    "# Print scores\n",
    "print(irregular_score)\n",
    "print(regular_score)"
   ]
  },
  {
   "cell_type": "code",
   "execution_count": 19,
   "id": "2e6c8334",
   "metadata": {
    "deletable": false,
    "editable": false,
    "nbgrader": {
     "cell_type": "code",
     "checksum": "99581af02a917000e3027e4ff5c8bd55",
     "grade": true,
     "grade_id": "cell-794f73825ff4458b",
     "locked": true,
     "points": 3,
     "schema_version": 3,
     "solution": false,
     "task": false
    }
   },
   "outputs": [],
   "source": [
    "\n",
    "assert(irregular_score == 0.9142889492753623)\n",
    "assert(regular_score == 0.8748188405797102)"
   ]
  },
  {
   "cell_type": "markdown",
   "id": "ad27ac40",
   "metadata": {
    "deletable": false,
    "editable": false,
    "nbgrader": {
     "cell_type": "markdown",
     "checksum": "a0959e9cbc401004f4824a9a75f24d66",
     "grade": false,
     "grade_id": "cell-20894af6c08e4f44",
     "locked": true,
     "schema_version": 3,
     "solution": false,
     "task": false
    }
   },
   "source": [
    "So far we've trained the model in batch, which means it has seen all the data once before we score it.\n",
    "\n",
    "Let's train the model one data point at a time and score it after each datapoint"
   ]
  },
  {
   "cell_type": "code",
   "execution_count": 20,
   "id": "a80dff55",
   "metadata": {
    "deletable": false,
    "editable": false,
    "nbgrader": {
     "cell_type": "code",
     "checksum": "f1b0299c0f8b1495ffae8540ea795a40",
     "grade": false,
     "grade_id": "cell-e2ea5e49d557db37",
     "locked": true,
     "schema_version": 3,
     "solution": false,
     "task": false
    }
   },
   "outputs": [
    {
     "name": "stdout",
     "output_type": "stream",
     "text": [
      "0.6128396739130434 0.6086050724637682\n",
      "0.6739583333333333 0.6753396739130434\n",
      "0.7203577898550725 0.7194972826086957\n",
      "0.7453577898550724 0.7426177536231884\n",
      "0.7697463768115943 0.7745471014492754\n",
      "0.7841485507246378 0.7931385869565216\n",
      "0.7971693840579709 0.8102355072463768\n",
      "0.8057291666666666 0.8263813405797102\n",
      "0.8115489130434783 0.8335371376811594\n",
      "0.8201766304347826 0.8421875000000001\n"
     ]
    }
   ],
   "source": [
    "# Let's initialize a new perceptron with our custom activation function\n",
    "percept = Perceptron(active=rm_activation_function)\n",
    "\n",
    "\n",
    "# Now let's loop through each data point to train and score\n",
    "scores_regular = []\n",
    "scores_irregular = []\n",
    "for i in range(len(high_frequency_verbs)):\n",
    "    percept.learn(base_wickel_HF[:,i, np.newaxis], past_wickel_HF[:,i,np.newaxis])\n",
    "    scores_regular.append(np.mean(percept.score(base_wickel_regular, past_wickel_regular)))\n",
    "    scores_irregular.append(np.mean(percept.score(base_wickel_irregular, past_wickel_irregular)))\n",
    "    print(scores_regular[-1], scores_irregular[-1])\n"
   ]
  },
  {
   "cell_type": "markdown",
   "id": "b4a644d1",
   "metadata": {
    "deletable": false,
    "editable": false,
    "nbgrader": {
     "cell_type": "markdown",
     "checksum": "72d5fe72c484935fb817e14ca32ec544",
     "grade": false,
     "grade_id": "cell-80260556c17c2803",
     "locked": true,
     "schema_version": 3,
     "solution": false,
     "task": false
    }
   },
   "source": [
    "<div class=\"alert alert-info\" role=\"alert\">\n",
    "<h1>Exercise 3c)</h1>\n",
    "<p>\n",
    "Explain the model output. So far, do we replicate RM? Do we expect to get the same result if we rerun the model? (7 sentences max)\n",
    "    \n",
    "(Points 3)</p>\n",
    "</div>"
   ]
  },
  {
   "cell_type": "markdown",
   "id": "51c737af",
   "metadata": {
    "deletable": false,
    "nbgrader": {
     "cell_type": "markdown",
     "checksum": "eb91e3563a3dbb426859a83a182f5243",
     "grade": true,
     "grade_id": "cell-3729d0cb563c686c",
     "locked": false,
     "points": 3,
     "schema_version": 3,
     "solution": true,
     "task": false
    }
   },
   "source": [
    "The model output shows the mean scores for irregular verbs are similar to regular verbs, but a little bit higher generally. There are a few exceptions where regular are faster to learn. Overall, this means the model is better at predicting the transition from base to past tense in irregular verbs compared to irregular. This replicates RM for the most part. Irregular verbs have unique forms that are often memorized, but this makes it easier to map/learn. The model reflects this. In terms of specific data, we do not get the exact same answers if we rerun the model, but the general results are the same. "
   ]
  },
  {
   "cell_type": "markdown",
   "id": "1efbf1c7",
   "metadata": {
    "deletable": false,
    "editable": false,
    "nbgrader": {
     "cell_type": "markdown",
     "checksum": "60636674aeffb06bfc4234a8abe66b3b",
     "grade": false,
     "grade_id": "cell-e46bcec7a8650ad2",
     "locked": true,
     "schema_version": 3,
     "solution": false,
     "task": false
    }
   },
   "source": [
    "## Second Stage: Medium Frequency Verbs\n",
    "\n",
    "Recall, in the second stage of the U-Shape curve, RM train the model with medium frequency verbs. Let's do it!\n",
    "\n",
    "<div class=\"alert alert-info\" role=\"alert\">\n",
    "<h1>Exercise 4a)</h1>\n",
    "<p>\n",
    "    \n",
    "First, we need to extract the medium frequency verbs from the corpus `verbs`.\n",
    "    \n",
    "(Points 1)\n",
    "    \n",
    "</p>\n",
    "</div>\n"
   ]
  },
  {
   "cell_type": "code",
   "execution_count": 21,
   "id": "4307e9c8",
   "metadata": {
    "deletable": false,
    "nbgrader": {
     "cell_type": "code",
     "checksum": "d8a27a8c3ba329f25b0b50f35069343f",
     "grade": false,
     "grade_id": "cell-55e9939c4d46105a",
     "locked": false,
     "schema_version": 3,
     "solution": true,
     "task": false
    }
   },
   "outputs": [],
   "source": [
    "# Store the medium frequency verbs here\n",
    "base_med_frequency_verbs = [word[2] for word in verbs if word[4] == \"M\"]\n",
    "past_med_frequency_verbs = [word[3] for word in verbs if word[4] == \"M\"]"
   ]
  },
  {
   "cell_type": "code",
   "execution_count": 22,
   "id": "d86b6f0c",
   "metadata": {
    "deletable": false,
    "editable": false,
    "nbgrader": {
     "cell_type": "code",
     "checksum": "1d2cd5a91618d6c45f7e8b880bbb86a7",
     "grade": true,
     "grade_id": "cell-88c696d6d0757ba6",
     "locked": true,
     "points": 1,
     "schema_version": 3,
     "solution": false,
     "task": false
    }
   },
   "outputs": [],
   "source": [
    "assert(len(base_med_frequency_verbs) == 150)\n",
    "assert(len(past_med_frequency_verbs) == 150)"
   ]
  },
  {
   "cell_type": "markdown",
   "id": "96fa6145",
   "metadata": {
    "deletable": false,
    "editable": false,
    "nbgrader": {
     "cell_type": "markdown",
     "checksum": "0a7bddd905173e50cac924c66de46828",
     "grade": false,
     "grade_id": "cell-63deefbdc47cf573",
     "locked": true,
     "schema_version": 3,
     "solution": false,
     "task": false
    }
   },
   "source": [
    "<div class=\"alert alert-info\" role=\"alert\">\n",
    "<h1>Exercise 4b)</h1>\n",
    "<p>\n",
    "Second, we need to convert those those verbs into wickelfeatures.\n",
    "    \n",
    "(Points 2)</p>\n",
    "</div>\n"
   ]
  },
  {
   "cell_type": "code",
   "execution_count": 23,
   "id": "eecd0e14",
   "metadata": {
    "deletable": false,
    "nbgrader": {
     "cell_type": "code",
     "checksum": "39546979ff290c9ae5af81380c7aa392",
     "grade": true,
     "grade_id": "cell-ab4046b30080c376",
     "locked": false,
     "points": 2,
     "schema_version": 3,
     "solution": true,
     "task": false
    }
   },
   "outputs": [],
   "source": [
    "# Convert the verbs into wickelfeatures\n",
    "base_wickel_MF = np.array([activate_word(w) for w in base_med_frequency_verbs]).T\n",
    "past_wickel_MF = np.array([activate_word(w) for w in past_med_frequency_verbs]).T"
   ]
  },
  {
   "cell_type": "markdown",
   "id": "d334189c",
   "metadata": {
    "deletable": false,
    "editable": false,
    "nbgrader": {
     "cell_type": "markdown",
     "checksum": "a15f43f409ab2e0ca1354476d5e85fa5",
     "grade": false,
     "grade_id": "cell-5190f78a5e0e28c6",
     "locked": true,
     "schema_version": 3,
     "solution": false,
     "task": false
    }
   },
   "source": [
    "Now, we need to loop through each data point to train and score, like we just did for the high frequency verbs.\n",
    "\n",
    "<div class=\"alert alert-info\" role=\"alert\">\n",
    "<h1>Exercise 4c)</h1>\n",
    "<p>\n",
    "    \n",
    "Calculate and store the scores for regular and irregular verbs in the variables `scores_irregular_md` and `scores_regular_md`.\n",
    "    \n",
    "(Points 2)\n",
    "    \n",
    "</p>\n",
    "</div>\n"
   ]
  },
  {
   "cell_type": "code",
   "execution_count": 24,
   "id": "be700799",
   "metadata": {
    "deletable": false,
    "nbgrader": {
     "cell_type": "code",
     "checksum": "267b7c987079a95c62183e6269c70b61",
     "grade": false,
     "grade_id": "cell-31be16552d1b527d",
     "locked": false,
     "schema_version": 3,
     "solution": true,
     "task": false
    }
   },
   "outputs": [
    {
     "name": "stdout",
     "output_type": "stream",
     "text": [
      "0.9333333333333332 0.9447690217391305\n"
     ]
    }
   ],
   "source": [
    "# Loop through the medium frequency verbs to train and score the model here\n",
    "scores_regular_md = []\n",
    "scores_irregular_md = []\n",
    "\n",
    "for i in range(len(base_med_frequency_verbs)):\n",
    "    percept.learn(base_wickel_MF[:,i, np.newaxis], past_wickel_MF[:,i,np.newaxis])\n",
    "    scores_regular_md.append(np.mean(percept.score(base_wickel_regular, past_wickel_regular)))\n",
    "    scores_irregular_md.append(np.mean(percept.score(base_wickel_irregular, past_wickel_irregular)))\n",
    "print(scores_regular_md[-1], scores_irregular_md[-1])"
   ]
  },
  {
   "cell_type": "code",
   "execution_count": 25,
   "id": "b2ca5905",
   "metadata": {
    "deletable": false,
    "editable": false,
    "nbgrader": {
     "cell_type": "code",
     "checksum": "4fd6ffb096310c65fa7c8c9b0ef62427",
     "grade": true,
     "grade_id": "cell-66226651ac8f4ddd",
     "locked": true,
     "points": 2,
     "schema_version": 3,
     "solution": false,
     "task": false
    }
   },
   "outputs": [],
   "source": [
    "assert(scores_regular_md[-1] == 0.9333333333333332 )\n",
    "assert(scores_irregular_md[-1] == 0.9447690217391305)"
   ]
  },
  {
   "cell_type": "markdown",
   "id": "9894212e",
   "metadata": {
    "deletable": false,
    "editable": false,
    "nbgrader": {
     "cell_type": "markdown",
     "checksum": "509b076db88a5ec00ce530f89b3a9ffe",
     "grade": false,
     "grade_id": "cell-a199a8350225d89a",
     "locked": true,
     "schema_version": 3,
     "solution": false,
     "task": false
    }
   },
   "source": [
    "## Third Stage: Low Frequency Verbs\n",
    "\n",
    "In the third stage of the U-Shape curve, RM train the model with low frequency verbs. One last time then :)\n",
    "\n",
    "<div class=\"alert alert-info\" role=\"alert\">\n",
    "<h1>Exercise 4d)</h1>\n",
    "<p>\n",
    "    \n",
    "First, we need to extract the low frequency verbs from the corpus `verbs`.\n",
    "    \n",
    "(Points 1)\n",
    "    \n",
    "</p>\n",
    "</div>"
   ]
  },
  {
   "cell_type": "code",
   "execution_count": 26,
   "id": "90989926",
   "metadata": {
    "deletable": false,
    "nbgrader": {
     "cell_type": "code",
     "checksum": "1f1c678716ff389d079412124d5a5577",
     "grade": false,
     "grade_id": "cell-b336cc16f2bac200",
     "locked": false,
     "schema_version": 3,
     "solution": true,
     "task": false
    }
   },
   "outputs": [],
   "source": [
    "# Store the low frequency verbs here\n",
    "base_low_frequency_verbs = [word[2] for word in verbs if word[4] == \"L\"]\n",
    "past_low_frequency_verbs = [word[3] for word in verbs if word[4] == \"L\"]"
   ]
  },
  {
   "cell_type": "code",
   "execution_count": 27,
   "id": "7f83c6e3",
   "metadata": {
    "deletable": false,
    "editable": false,
    "nbgrader": {
     "cell_type": "code",
     "checksum": "28a6a3dd472626cbb50d9652e3cdc84e",
     "grade": true,
     "grade_id": "cell-7c6ee67acc6f76b8",
     "locked": true,
     "points": 1,
     "schema_version": 3,
     "solution": false,
     "task": false
    }
   },
   "outputs": [],
   "source": [
    "assert(len(base_low_frequency_verbs) == 32)\n",
    "assert(len(past_low_frequency_verbs) == 32)"
   ]
  },
  {
   "cell_type": "markdown",
   "id": "c188e670",
   "metadata": {
    "deletable": false,
    "editable": false,
    "nbgrader": {
     "cell_type": "markdown",
     "checksum": "abb6a81836a7b6a0729d12e3980b0541",
     "grade": false,
     "grade_id": "cell-42929057164a6175",
     "locked": true,
     "schema_version": 3,
     "solution": false,
     "task": false
    }
   },
   "source": [
    "<div class=\"alert alert-info\" role=\"alert\">\n",
    "<h1>Exercise 4e)</h1>\n",
    "<p>\n",
    "Second, we need to convert those those verbs into wickelfeatures.\n",
    "    \n",
    "(Points 2)</p>\n",
    "</div>\n"
   ]
  },
  {
   "cell_type": "code",
   "execution_count": 28,
   "id": "7b60a652",
   "metadata": {
    "deletable": false,
    "nbgrader": {
     "cell_type": "code",
     "checksum": "e474d317b8fe86f96524dfa5f5559927",
     "grade": true,
     "grade_id": "cell-4ec0b3e1a165c6f6",
     "locked": false,
     "points": 2,
     "schema_version": 3,
     "solution": true,
     "task": false
    }
   },
   "outputs": [],
   "source": [
    "# Convert the verbs into wickelfeatures\n",
    "base_wickel_LF = np.array([activate_word(w) for w in base_low_frequency_verbs]).T\n",
    "past_wickel_LF = np.array([activate_word(w) for w in past_low_frequency_verbs]).T"
   ]
  },
  {
   "cell_type": "markdown",
   "id": "5ec3b283",
   "metadata": {
    "deletable": false,
    "editable": false,
    "nbgrader": {
     "cell_type": "markdown",
     "checksum": "5263dd806cc6b01fa1091237c37c8057",
     "grade": false,
     "grade_id": "cell-683f14fe94447508",
     "locked": true,
     "schema_version": 3,
     "solution": false,
     "task": false
    }
   },
   "source": [
    "Finally, we need to loop through each data point to train and score.\n",
    "\n",
    "<div class=\"alert alert-info\" role=\"alert\">\n",
    "<h1>Exercise 4f)</h1>\n",
    "<p>\n",
    "    \n",
    "Calculate and store the scores for regular and irregular verbs in the variables `scores_irregular_low` and `scores_regular_low`.\n",
    "    \n",
    "(Points 2)\n",
    "</p>\n",
    "</div>\n"
   ]
  },
  {
   "cell_type": "code",
   "execution_count": 29,
   "id": "10f6296f",
   "metadata": {
    "deletable": false,
    "nbgrader": {
     "cell_type": "code",
     "checksum": "d2db9d12affa2e7f12661835d15cbf7d",
     "grade": false,
     "grade_id": "cell-a44a8190d20f682c",
     "locked": false,
     "schema_version": 3,
     "solution": true,
     "task": false
    }
   },
   "outputs": [
    {
     "name": "stdout",
     "output_type": "stream",
     "text": [
      "0.9432065217391304 0.9518795289855072\n"
     ]
    }
   ],
   "source": [
    "# Loop through the medium frequency verbs to train and score the model here\n",
    "\n",
    "scores_regular_low = []\n",
    "scores_irregular_low = []\n",
    "\n",
    "for i in range(len(base_low_frequency_verbs)):\n",
    "    percept.learn(base_wickel_LF[:,i, np.newaxis], past_wickel_LF[:,i,np.newaxis])\n",
    "    scores_regular_low.append(np.mean(percept.score(base_wickel_regular, past_wickel_regular)))\n",
    "    scores_irregular_low.append(np.mean(percept.score(base_wickel_irregular, past_wickel_irregular)))\n",
    "print(scores_regular_low[-1], scores_irregular_low[-1])"
   ]
  },
  {
   "cell_type": "code",
   "execution_count": 30,
   "id": "bb03918d",
   "metadata": {
    "deletable": false,
    "editable": false,
    "nbgrader": {
     "cell_type": "code",
     "checksum": "ab61148bbbfe310653767e74f3f6fe4c",
     "grade": true,
     "grade_id": "cell-8da05cfda23446c0",
     "locked": true,
     "points": 2,
     "schema_version": 3,
     "solution": false,
     "task": false
    }
   },
   "outputs": [],
   "source": [
    "assert(scores_regular_low[0] == 0.9320652173913043)\n",
    "assert(scores_irregular_low[0] == 0.9478940217391304)\n",
    "assert(scores_regular_low[-1] == 0.9432065217391304)\n",
    "assert(scores_irregular_low[-1] == 0.9518795289855072)"
   ]
  },
  {
   "cell_type": "markdown",
   "id": "a800b782",
   "metadata": {
    "deletable": false,
    "editable": false,
    "nbgrader": {
     "cell_type": "markdown",
     "checksum": "a4cc6cac08500d28ce8b50a8b0815b53",
     "grade": false,
     "grade_id": "cell-2c012d15a78f293c",
     "locked": true,
     "schema_version": 3,
     "solution": false,
     "task": false
    }
   },
   "source": [
    "## Putting it all together\n",
    "\n",
    "<div class=\"alert alert-info\" role=\"alert\">\n",
    "<h1>Exercise 5a)</h1>\n",
    "<p>\n",
    "Let's see how well we replicated the U-Shape pattern by plotting the simulation output.\n",
    "    \n",
    "(Points 5)</p>\n",
    "</div>\n",
    "\n",
    "For full credit your code should:\n",
    "\n",
    "- Plot the percent of correct wickelfeatures (Y-axis) as a function of the amount of datapoints trained on for both regular and irregular verbs (use distinct colors please).\n",
    "- Plot dashed vertical lines at 10 and 160 data points to demarcate the three different time periods.\n",
    "- Set labels for both axes.\n",
    "- Set a title for the figure.\n",
    "- Set the plot to span (0.5, 1) for the y-axis and and (0, 192) for the x-axis\n",
    "- Set a legend indicating how colors map to verb type\n",
    "\n",
    "Hint: to concatenate two lists into a bigger list you can use the following syntax:\n",
    "`big_list = one_list + another_list`\n"
   ]
  },
  {
   "cell_type": "code",
   "execution_count": 31,
   "id": "0ab2c980",
   "metadata": {
    "deletable": false,
    "nbgrader": {
     "cell_type": "code",
     "checksum": "7dcab5924c94fa0e3bf33495d8b94296",
     "grade": true,
     "grade_id": "cell-210a48308b75e498",
     "locked": false,
     "points": 5,
     "schema_version": 3,
     "solution": true,
     "task": false
    }
   },
   "outputs": [
    {
     "data": {
      "text/plain": [
       "<matplotlib.lines.Line2D at 0x7ff167ea9370>"
      ]
     },
     "execution_count": 31,
     "metadata": {},
     "output_type": "execute_result"
    },
    {
     "data": {
      "image/png": "[encoded data removed]",
      "text/plain": [
       "<Figure size 800x550 with 1 Axes>"
      ]
     },
     "metadata": {},
     "output_type": "display_data"
    }
   ],
   "source": [
    "# Define x-axis as amount of datapoints trained\n",
    "total_list = regular_verbs + irregular_verbs\n",
    "total_points = list(range(1, 1 + len(total_list)))\n",
    "\n",
    "# Concenate regular/irregular scores to be able to plot on y-axis\n",
    "combined_scores_reg = scores_regular + scores_regular_md + scores_regular_low\n",
    "combined_scores_irr = scores_irregular + scores_irregular_md + scores_irregular_low\n",
    "\n",
    "# Plot both on same graph, with set x/y lim\n",
    "plt.plot(total_points, combined_scores_reg, label = \"Regular\", color = \"skyblue\")\n",
    "plt.plot(total_points, combined_scores_irr, label = \"Irregular\", color = \"seagreen\")\n",
    "plt.xlim(0, 192)\n",
    "plt.ylim(0.5, 1)\n",
    "\n",
    "# Label axes, title, and legend\n",
    "plt.title(\"Developmental U-Shaped Learning Curve Model for Word Learning\", fontsize = 16)\n",
    "plt.xlabel(\"Amount of Datapoints(Words) Trained\", fontsize = 16)\n",
    "plt.ylabel(\"Percent of Correct Wickelfeatures\", fontsize = 16)\n",
    "plt.legend(prop = {\"size\": 15})\n",
    "\n",
    "# Two different time period lines\n",
    "plt.axvline(x = 10, linestyle = \"--\", color = \"grey\")\n",
    "plt.axvline(x = 160, linestyle = \"--\", color = \"grey\")"
   ]
  },
  {
   "cell_type": "markdown",
   "id": "419e849c",
   "metadata": {
    "deletable": false,
    "editable": false,
    "nbgrader": {
     "cell_type": "markdown",
     "checksum": "a33f990edcc73e6c191cb08d2fd154de",
     "grade": false,
     "grade_id": "cell-9d51d15d2e9d3a1c",
     "locked": true,
     "schema_version": 3,
     "solution": false,
     "task": false
    }
   },
   "source": [
    "<div class=\"alert alert-info\" role=\"alert\">\n",
    "<h1>Exercise 5b)</h1>\n",
    "<p>\n",
    "\n",
    "1) Did we replicate RM's U-shaped curve? Why or why not? Be specific.\n",
    "\n",
    "2) Do you believe this model is a fair model of children's acquisition? Why or why not? Be specific.\n",
    "    \n",
    "(Points 7)</p>\n",
    "</div>\n",
    "\n",
    "For each question make no more than three specific arguments. We will only mark the first three. Feel free to bullet your points. This is not an essay."
   ]
  },
  {
   "cell_type": "markdown",
   "id": "36631c7e",
   "metadata": {
    "deletable": false,
    "nbgrader": {
     "cell_type": "markdown",
     "checksum": "5437d20d5aa6efd57540b315369fa4f5",
     "grade": true,
     "grade_id": "cell-6975d6c0be6356b0",
     "locked": false,
     "points": 7,
     "schema_version": 3,
     "solution": true,
     "task": false
    }
   },
   "source": [
    "1) We did not replicate RM's U-shaped curve very well.\n",
    "    a) In RM's learning curve, regular verbs generally had a higher percentage of features correct throughout. This is not the case in our model as irregular verbs are consistently slightly abover regular verbs.\n",
    "    b) There is no large downward spike in only irregular verbs. The model is supposed to have this spike early on and with irregular only. This is not the case in our model, with the only downward spike being minor, later on, and with both irregular/regular. The point of the spike is to highlight the difference between word learning of regular/irregular and is an important feature of RM's model. \n",
    "    c) However, the general shape of word learning does replicate. Both model's have the same common trajectory. \n",
    "2) I do not believe this model is a fair model of children's acquisition.\n",
    "    a) The model assumes that we first use irregular verbs then regular. This is not the case in the real world. Building a model around a fallacy thus doesn't represent accquistion correctly.\n",
    "    b) Another issue with the model's assumptions is that there is a vocabulary growth spurt. The timing of the growth spurt doesn't work with the timing of the past tense accquistion leading to it being a less accurate model.\n",
    "    c) The model is generally over simplified. Children are very complex. The model only produces past tense forms, but can't recognize past-tense. Further, modeling words in a single block of Wickelfeatures ignores distinct aspects of phonology. "
   ]
  },
  {
   "cell_type": "markdown",
   "id": "5ea0dd41",
   "metadata": {
    "deletable": false,
    "editable": false,
    "nbgrader": {
     "cell_type": "markdown",
     "checksum": "120d48ad17a669e48d29bc8885a90c7b",
     "grade": false,
     "grade_id": "cell-d5de0e25fda481c4",
     "locked": true,
     "schema_version": 3,
     "solution": false,
     "task": false
    }
   },
   "source": [
    "# Impress Me\n",
    "\n",
    "If you have recieved full marks on everything up to here in the assignment, you would have an A (74). If you struggled to make it this far into the assignment, you might consider skipping these next two questions and focusing on the previous questions. These next two questions are less structured and will be marked harder. To reiterate, you can get an A without even attempting these questions.\n",
    "\n",
    "## Error Analysis\n",
    "\n",
    "<div class=\"alert alert-info\" role=\"alert\">\n",
    "<h1>Exercise 6)</h1>\n",
    "<p>\n",
    "In this exercise, you need to conduct a more thorough error analysis of RM's model.\n",
    "On page 22 of the RM source paper, they describe eight different classes of irregular verb.\n",
    "The goal of this question is to create a similar graph to the one you just made but with individual lines for every type of irregular verb.\n",
    "    \n",
    "(Points 13)</p>\n",
    "</div>\n",
    "\n",
    "In order to recieve full marks you must,\n",
    "- Annotate the types of irregular verbs (important: this must be done within this notebook file).\n",
    "- Run a new instance of the RM perceptron following the same training regime.\n",
    "- Score the model on each type of irregular verb.\n",
    "- Plot the learning trajectory for each type of irregular verb.\n",
    "- Discuss your findings, which means STATE the model output, STATE why the model does it, STATE whether or not you believe it, and STATE why you do/don't believe it (500 words max).\n",
    "\n",
    "Above all else clarity is imperative. Comment all your code so that we can understand what you are doing. Make sure all your plots are legible. Just as in the real world, if it's brilliant but nobody can understand it, it won't get you anywhere.\n"
   ]
  },
  {
   "cell_type": "code",
   "execution_count": 32,
   "id": "3e7aca33",
   "metadata": {
    "deletable": false,
    "nbgrader": {
     "cell_type": "code",
     "checksum": "688f84d1f103767a58aea971ad924fd2",
     "grade": true,
     "grade_id": "cell-bad1ce22d8d5718f",
     "locked": false,
     "points": 5,
     "schema_version": 3,
     "solution": true,
     "task": false
    }
   },
   "outputs": [],
   "source": [
    "# All verbs annotations describe how the verb changes to form the past tense\n",
    "\n",
    "# Do no change at all\n",
    "type_irr_I = ['beat', 'fit', 'set', 'spread', 'hit', 'cut', 'put', 'thrust', 'bid']\n",
    "\n",
    "# Change a final /d/ to /t/\n",
    "type_irr_II = ['build', 'send', 'spend', 'bend', 'lend']\n",
    "\n",
    "# Undergo an internal vowel change and also add a final /t/ or /d/\n",
    "type_irr_III = ['feel', 'deal', 'do', 'tell', 'sell', 'hear', 'keep', 'leave', 'sleep', 'lose', 'mean', 'say', 'sweep', 'creep', 'weep']\n",
    "\n",
    "# Internal vowel change, delete a final consonant, and add a final /t/ or /d/\n",
    "type_irr_IV = ['have', 'make', 'think', 'buy', 'bring', 'seek', 'teach', 'catch']\n",
    "\n",
    "# Internal vowel change whose stems end in a dental\n",
    "type_irr_V = ['get', 'meet', 'shoot', 'write', 'lead', 'understand', 'sit', 'mislead', 'bleed', 'feed', 'stand', 'light', 'find', 'fight', 'read', 'meet', 'hide', 'hold', 'ride', 'breed', 'wind', 'grind']\n",
    "\n",
    "# Undergo vowel change of /i/ to /a/ or internal vowel change of /i/ or /a/ to / /\n",
    "type_irr_VI = ['drink', 'ring', 'sing', 'swim', 'drag', 'hang', 'swing', 'dig', 'cling', 'stick']\n",
    "\n",
    "# Undergo a vowel change and that end in a dipthongal sequence\n",
    "type_irr_VII = ['give', 'take', 'come', 'shake', 'arise', 'rise', 'run', 'become', 'bear', 'wear', 'speak', 'break', 'drive', 'strike', 'fall', 'freeze', 'choose', 'tear']\n",
    "\n",
    "# All other verbs that undergo an internal vowel change\n",
    "type_irr_VIII = ['go', 'throw', 'blow', 'grow', 'draw', 'fly', 'know', 'see']\n",
    "\n",
    "# List of different types of verbs, easier to loop through for conversion to base/past and to wickel\n",
    "type_irr_list = [type_irr_I, type_irr_II, type_irr_III, type_irr_IV, type_irr_V, type_irr_VI, type_irr_VII, type_irr_VIII]\n",
    "\n",
    "# For each type of verb, loop through verbs, and append corresponding base/past list\n",
    "base_type_list = [[word[2] for word in verbs for w in type_irr_list[idx] if word[0] == w] for idx in range(len(type_irr_list))]\n",
    "past_type_list = [[word[3] for word in verbs for w in type_irr_list[idx] if word[0] == w ] for idx in range(len(type_irr_list))]\n",
    "\n",
    "# Convert the verbs into wickelfeatures by looping through each word in each type list\n",
    "base_wickel_type_list = [np.array([activate_word(w) for w in base_type_list[idx]]).T for idx in range(len(type_irr_list))]\n",
    "past_wickel_type_list = [np.array([activate_word(w) for w in base_type_list[idx]]).T for idx in range(len(type_irr_list))]\n",
    "\n",
    "# Keep track of each type of verb's set of scores\n",
    "scores_irr_list = [[] for i in range(len(type_irr_list))]\n",
    "\n",
    "# Loop through each type of verb, type base/past, and each verb within those lists to score and track within lists inside of scores_irr_list\n",
    "for num_irr in range(len(type_irr_list)):\n",
    "    # Initialize a new perceptron with our custom activation function for each verb type\n",
    "    percept = Perceptron(active = rm_activation_function)\n",
    "    for i in range(len(base_wickel_type_list[num_irr][0])):\n",
    "        percept.learn(base_wickel_type_list[num_irr][:, i, np.newaxis], past_wickel_type_list[num_irr][:, i, np.newaxis])\n",
    "        scores_irr_list[num_irr].append(np.mean(percept.score(base_wickel_type_list[num_irr], past_wickel_type_list[num_irr])))"
   ]
  },
  {
   "cell_type": "code",
   "execution_count": 33,
   "id": "33fd8522",
   "metadata": {
    "deletable": false,
    "nbgrader": {
     "cell_type": "code",
     "checksum": "c2c6b8b130f6ad63a0e62f7467c66208",
     "grade": true,
     "grade_id": "cell-d4610b45a5995534",
     "locked": false,
     "points": 3,
     "schema_version": 3,
     "solution": true,
     "task": false
    }
   },
   "outputs": [
    {
     "data": {
      "image/png": "[encoded data removed]",
      "text/plain": [
       "<Figure size 800x550 with 1 Axes>"
      ]
     },
     "metadata": {},
     "output_type": "display_data"
    }
   ],
   "source": [
    "# Define colors for irregular verbs\n",
    "irregular_colors = [\"red\", \"orange\", \"yellow\", \"green\", \"blue\", \"purple\", \"pink\", \"grey\"]\n",
    "\n",
    "# Plot both regular and 7 types of irregular on same graph using interploation to size 20 (largest size of irr verb type list)\n",
    "average_list_len = int(np.average([len(type_irregular) for type_irregular in type_irr_list]))\n",
    "x_data_points = [*range(average_list_len)]\n",
    "\n",
    "# Interpolate to average length of word lists to be able to compare on same graph i.e. same x-axis and plot. \n",
    "for i in range(len(type_irr_list)):\n",
    "    interpolated_data_irr = np.interp(np.linspace(0, len(scores_irr_list[i]) - 1, average_list_len), range(len(scores_irr_list[i])), scores_irr_list[i])\n",
    "    plt.plot(x_data_points, interpolated_data_irr, label = f\"Irregular {i + 1}\", color = irregular_colors[i])\n",
    "\n",
    "# It would not make sense to interpolate 192 points of data to average length of the word lists that we trained on.\n",
    "# This would skew the data weirdly. Thus, range from 1 to average length of word list is taken so that we can plot this on the same graph as the irregulars.\n",
    "data_reg = [combined_scores_reg[point] for point in range(average_list_len)]\n",
    "plt.plot(x_data_points, data_reg, label = \"Regular\")\n",
    "\n",
    "# Set x and y limits\n",
    "plt.xlim(1, average_list_len - 1)\n",
    "plt.ylim(0.5, 1)\n",
    "\n",
    "# Label axes, title, and legend\n",
    "plt.title(\"Developmental U-Shaped Learning Curve Model for Word Learning (Individual Irregular Types)\", fontsize=16)\n",
    "plt.xlabel(\"Amount of Datapoints (Verbs) Trained\", fontsize = 16)\n",
    "plt.ylabel(\"Percent of Correct Wickelfeatures\", fontsize = 16)\n",
    "plt.legend(prop = {\"size\": 10}, loc = \"lower right\")\n",
    "\n",
    "# Show the plot\n",
    "plt.show()"
   ]
  },
  {
   "cell_type": "markdown",
   "id": "3cbf5658",
   "metadata": {
    "deletable": false,
    "nbgrader": {
     "cell_type": "markdown",
     "checksum": "6d168a05a0663c61f0ac5ea4f5e86d83",
     "grade": true,
     "grade_id": "cell-1dc3e5c2df5a5004",
     "locked": false,
     "points": 5,
     "schema_version": 3,
     "solution": true,
     "task": false
    }
   },
   "source": [
    "The model outputs shows that for all irregular verb types the model trains faster i.e. learns faster on irregular types compared to regular. The model learns irregular 1 learns the slowest and irregular 2, 5, and 6 the fastest. In general, all types increased percent correct as amount of datapoints increased. The model output this for a variety of factors. Generally speaking, irregular verbs are learned faster because children/the model often memorize them, so there is less error. This replicates RM for the most part. Within the types 2, 5, and 6 are the fastest to learn likely because they are all internal vowel changes with distinct rules i.e. internal vowel change whose stems end in a dental, undergo vowel change of /i/ to /a/ or internal vowel change of /i/ or /a/ to / /,  , or a simple one dimensional rule change i.e. change a final /d/ to /t/, These rules enable fast learning because they are very niche along with vowels generally being rarer than constants. Rarity enable faster learning because the edge cases arise faster. However, I do believe there should be more of a learning curve. I think overall it starts to high (see irregular types 5 and 6) and is not realistic for children. In any case, they aren't getting verbs mostly correct on the first try. On the end of the spectrum, irregular 8 learns the slowest because it does not have a niche class of rules. It is defined as all other verbs that undergo an internal vowel change i.e. more or less an outliers category. Computers are based on rules, logical expressions, and a lack of ambiguity. Therfore, this type is hardest to learn. Thus, I do believe that irregular type 8 is the hardest to learn. However, I do have qualms about trusting the model completely because of two main reasons. The model trained on an average of 10 words for each type. I do not consider 10 words a large enough quantity to make accurate predictions. Secondly, the different amounts of each type of verb forced manipulation of the data for graphing and interpreting. The interpolation scaling method for irregulars and range method i.e. 'snapshot', can stretch, shrink, or portray the data in various ways. This may lead to misrepresentation, despite it being necessary. I would increase the amount of data trained on and ensure equal quantities of each type as a future improvement. "
   ]
  },
  {
   "cell_type": "markdown",
   "id": "49dc225f",
   "metadata": {
    "deletable": false,
    "editable": false,
    "nbgrader": {
     "cell_type": "markdown",
     "checksum": "e221395f877bf605b137f8c75c02ab9c",
     "grade": false,
     "grade_id": "cell-b8eac92e93ec3dd4",
     "locked": true,
     "schema_version": 3,
     "solution": false,
     "task": false
    }
   },
   "source": [
    "## Experimental Predictions\n",
    "\n",
    "<div class=\"alert alert-info\" role=\"alert\">\n",
    "<h1>Exercise 7)</h1>\n",
    "<p>\n",
    "    \n",
    "In addition to matching developmental patterns, connectionist models of the past tense can be used to make predictions for behavioral experiments. For example, we could present participants with novel verbs (e.g., *sweek*) and ask them to provide the past tense for those verbs to see if they follow the rules of generalize based on similarity. Before we conduct the experiment though, we can use RM's model to make predictions about how people should generate past tense forms. The goal of this exercise is to generate predictions for such an experiment.\n",
    "    \n",
    "(Points 13)\n",
    "\n",
    "</p>\n",
    "</div>\n",
    "\n",
    "\n",
    "- Construct a set of 20 novel verbs along with their regular past tense and a plausible irregular past tense form (e.g., *sweek*, *sweeked*, *swoke*)\n",
    "- Use a trained RM perceptron model to score both irregular/regular past tense forms\n",
    "- Plot the model predictions\n",
    "- Discuss the predictions, which means for each verb STATE which past tense form is most predicted by the model, STATE if you find the model's prediction surprising and STATE why you think the model made that prediction (250 words max).\n",
    "- Based on the model predictions, discuss if this is a good experiment for testing whether rules or similarity underly the generation of past tense forms (250 words max).\n",
    "\n",
    "Above all else clarity is imperative. Comment all your code so that we can understand what you are doing. Make sure all your plots are legible. Just as in the real world, if it's brilliant but nobody can understand it, it won't get you anywhere.\n"
   ]
  },
  {
   "cell_type": "code",
   "execution_count": 34,
   "id": "8e09c3d7",
   "metadata": {
    "deletable": false,
    "nbgrader": {
     "cell_type": "code",
     "checksum": "dd3679b385b7b7416b5c8eecd069eab4",
     "grade": true,
     "grade_id": "cell-f5e0b56bc2c373bd",
     "locked": false,
     "points": 5,
     "schema_version": 3,
     "solution": true,
     "task": false
    }
   },
   "outputs": [],
   "source": [
    "# 20 verbs with base and regular/irregular past tenses\n",
    "novel_verbs = [['sweek,', 'sweeked', 'swoke'], ['slarf', 'slarfed', 'slarve'], ['tront', 'tronted', 'trent'], ['blave', 'blaved', 'blove'], ['drap', 'drapped', 'drop'], ['plint', 'plinted', 'plent'], ['wrask', 'wrasked', 'wrisk'], ['nurge', 'nurged', 'norg'], ['krank', 'kranked', 'krunk'], ['blimp', 'blimped', 'blamp'], ['mipe', 'miped', 'mope'], ['pringle', 'pringled', 'prang'], ['elint', 'elinted', 'elent'], ['selinge', 'selinged', 'selunge'], ['dieve', 'dieved', 'dove'], ['frove', 'frovved', 'froove'], ['shive', 'shived', 'shove'], ['frast', 'frasted', 'frest'], ['vurge', 'vurged', 'vorge'], ['quinde', 'quinded', 'quand']] \n",
    "\n",
    "# Convert all to phonemes\n",
    "novel_base = ['SWIk', 'Slarf', 'trOnt', 'blavE', 'drap', 'plInt', 'WraSk', 'nurgE', 'krank', 'blImp', 'mIpE', 'prINlE', 'ElInt', 'SElINE', 'dievE', 'frOvE', 'SIvE', 'fraSt', 'vurgE', 'kwuIndE']\n",
    "novel_past_regular = novel_past_regular = ['SWIkEd', 'SlarfEd', 'trOntEd', 'blavEd', 'drappEd', 'plIntEd', 'WraSkEd', 'nurgEd', 'krankEd', 'blImpEd', 'mIpEd', 'prINlEd', 'ElIntEd', 'SElINEd', 'dievEd', 'frOvvEd', 'SIvEd', 'fraStEd', 'vurgEd', 'kwuIndEd']\n",
    "novel_past_irregular = ['SWOkE', 'SlarvE', 'trEnt', 'blOvE', 'drOp', 'plEnt', 'WrISk', 'nOrg', 'krunk', 'blamp', 'mOpE', 'praN', 'ElEnt', 'SEluNE', 'dOvE', 'frUvE', 'SOvE', 'frESt', 'vOrgE', 'kwuand']\n",
    "\n",
    "# Convert all verbs into wickelfeatures\n",
    "novel_base_wickel = np.array([activate_word(w) for w in novel_base]).T\n",
    "novel_past_regular_wickel = np.array([activate_word(w) for w in novel_past_regular]).T\n",
    "novel_past_irregular_wickel = np.array([activate_word(w) for w in novel_past_irregular]).T\n",
    "\n",
    "# Initialize a new perceptron with our custom activation function for regular verbs\n",
    "percept = Perceptron(active=rm_activation_function)\n",
    "\n",
    "# Loop through each data point to train and score\n",
    "novel_scores_regular = []\n",
    "for i in range(len(novel_base)):\n",
    "    percept.learn(novel_base_wickel[:,i, np.newaxis], novel_past_regular_wickel[:,i,np.newaxis])\n",
    "    novel_scores_regular.append(np.mean(percept.score(novel_base_wickel, novel_past_regular_wickel)))\n",
    "    \n",
    "# Initialize a new perceptron with our custom activation function for irregular verbs\n",
    "percept = Perceptron(active=rm_activation_function)\n",
    "\n",
    "# Loop through each data point to train and score\n",
    "novel_scores_irregular = []\n",
    "for i in range(len(novel_base)):\n",
    "    percept.learn(novel_base_wickel[:,i, np.newaxis], novel_past_irregular_wickel[:,i,np.newaxis])\n",
    "    novel_scores_irregular.append(np.mean(percept.score(novel_base_wickel, novel_past_irregular_wickel)))"
   ]
  },
  {
   "cell_type": "code",
   "execution_count": 35,
   "id": "5984d45c",
   "metadata": {
    "deletable": false,
    "nbgrader": {
     "cell_type": "code",
     "checksum": "f9e6a7211d4338bbe2bf65c3784b5637",
     "grade": true,
     "grade_id": "cell-3450836255c46734",
     "locked": false,
     "points": 3,
     "schema_version": 3,
     "solution": true,
     "task": false
    }
   },
   "outputs": [
    {
     "data": {
      "text/plain": [
       "<matplotlib.legend.Legend at 0x7ff167daedf0>"
      ]
     },
     "execution_count": 35,
     "metadata": {},
     "output_type": "execute_result"
    },
    {
     "data": {
      "image/png": "[encoded data removed]",
      "text/plain": [
       "<Figure size 800x550 with 1 Axes>"
      ]
     },
     "metadata": {},
     "output_type": "display_data"
    }
   ],
   "source": [
    "# Define x-axis as amount of datapoints trained\n",
    "total_points = list(range(1, 1 + len(novel_base)))\n",
    "\n",
    "# Plot both on same graph, with set x/y lim, different colors\n",
    "plt.plot(total_points, novel_scores_regular, label = \"Regular\", color = \"skyblue\")\n",
    "plt.plot(total_points, novel_scores_irregular, label = \"Irregular\", color = \"mediumpurple\")\n",
    "plt.xlim(1, len(novel_base))\n",
    "plt.ylim(0.5, 1)\n",
    "\n",
    "# Label axes, title, and legend\n",
    "plt.title(\"Developmental U-Shaped Learning Curve Model for Novel Words Across Forms\", fontsize = 16)\n",
    "plt.xlabel(\"Amount of Datapoints (Verbs) Trained\", fontsize = 16)\n",
    "plt.ylabel(\"Percent of Correct Wickelfeatures\", fontsize = 16)\n",
    "plt.legend(prop = {\"size\": 15})"
   ]
  },
  {
   "cell_type": "markdown",
   "id": "ee6ca0e2",
   "metadata": {
    "deletable": false,
    "nbgrader": {
     "cell_type": "markdown",
     "checksum": "7d549f275925319c97d62df2dc1ff8f4",
     "grade": true,
     "grade_id": "cell-cac33b65338eda5d",
     "locked": false,
     "points": 5,
     "schema_version": 3,
     "solution": true,
     "task": false
    }
   },
   "source": [
    "The model outputs a U-shaped learning curve. The model trained slightly faster a little bit after the start for irregular verbs. Overall, the model learned the novel regular and irregular verbs at about the same rate. I find the model's predictions surprising. In RM's model, it learns irregular verbs faster, but also characterizes a stark dip in irregular word learning near the beginning. Neither of these facets present themselves in the novel word model. I am surprised by these predictions because they deviate from RM's model and previous models in the assignment. I think the limited input data causes the shift. Training data on only twenty words gives more power to outliers. Since I created the novel words, the novel words themselves may cause a varied result. Although the verbs appear relatively in pattern, I made them up 'out of thin air' which in itself controls the data. Lastly, even the order I introduce the verbs employs a consistent pattern. \n",
    "\n",
    "Based on the model predictions, the experiment relatively encompasses a poor tool for discerning whether rules or similarity underlie the generation of past tense forms.  I estimate a few varied reasons. The model did not differentiate irregular from regular to enough of an extent to make generalizations. The curves ultimately look too similar. In the real world i.e. children word learning, there is likely some distinction between irregular and regular verb learning. Overall, twenty verbs is not a high number. There are thousands of verbs that we learn. Therefore, it is not an accurate representation. Lastly, discerning whether rules or similarity underlie the generation of past tense forms is not the same as setting up an experiment for regular vs. irregular forms. We form both irregular and regular verbs under guidelines and alikeness. Thus, to use this small experiment as a marker of deciphering rules or similarity as a role in generating past tense forms would be a logical fallacy. "
   ]
  }
 ],
 "metadata": {
  "kernelspec": {
   "display_name": "Python 3 (ipykernel)",
   "language": "python",
   "name": "python3"
  },
  "language_info": {
   "codemirror_mode": {
    "name": "ipython",
    "version": 3
   },
   "file_extension": ".py",
   "mimetype": "text/x-python",
   "name": "python",
   "nbconvert_exporter": "python",
   "pygments_lexer": "ipython3",
   "version": "3.9.13"
  }
 },
 "nbformat": 4,
 "nbformat_minor": 5
}
